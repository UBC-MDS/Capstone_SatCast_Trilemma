{
 "cells": [
  {
   "cell_type": "markdown",
   "id": "cc933572-71d9-4d8b-ad41-a8cbfb42ffbd",
   "metadata": {},
   "source": [
    "# Temporal Fusion Transformer (TFT)\n",
    "\n",
    "## Why We Chose Temporal Fusion Transformer (TFT)\n",
    "\n",
    "Our exploratory data analysis revealed several important characteristics in the Bitcoin fee series that guided our model choice:\n",
    "\n",
    "### Key Observations from EDA\n",
    "- **Strong temporal patterns**: Clear intraday cycles and short-term dependencies in fee fluctuations.\n",
    "- **Volatility and sharp spikes**: Frequent, irregular surges in transaction fees make point estimation challenging.\n",
    "- **Multivariate dependencies**: Fee dynamics are influenced by multiple time-varying factors with non-linear interactions.\n",
    "- **Lagged effects**: Historical values of both the target and covariates impact future behavior.\n",
    "\n",
    "### Why TFT is a Good Fit\n",
    "- **Multi-horizon forecasting**: Captures both short-term spikes and longer trends in one pass.\n",
    "- **Attention mechanism**: Learns which time steps and variables are most relevant at each point.\n",
    "- **Static + time-varying input support**: Integrates contextual and real-time signals effectively.\n",
    "- **Quantile-based loss**: Provides uncertainty-aware forecasts, especially valuable under volatile market conditions.\n",
    "- **Interpretable outputs**: Offers insights into feature importance and temporal relevance.\n",
    "\n",
    "> Given these insights, TFT stands out as a model capable of handling the complexity, volatility, and interpretability needs revealed through EDA.\n"
   ]
  },
  {
   "cell_type": "markdown",
   "id": "1634c869-7799-40e0-9c84-6c9cda35d94f",
   "metadata": {},
   "source": [
    "##  Import and dataset"
   ]
  },
  {
   "cell_type": "code",
   "execution_count": 92,
   "id": "73523f7f-0e0d-491f-8a2d-05cdbddfe170",
   "metadata": {},
   "outputs": [],
   "source": [
    "import pandas as pd\n",
    "import torch\n",
    "from torch.utils.data import DataLoader\n",
    "import lightning.pytorch as pl\n",
    "from lightning.pytorch import Trainer\n",
    "from pytorch_forecasting import TimeSeriesDataSet, TemporalFusionTransformer\n",
    "from torch import Tensor\n",
    "from pytorch_forecasting.data import GroupNormalizer\n",
    "from pytorch_forecasting.metrics import QuantileLoss\n",
    "from sklearn.preprocessing import StandardScaler\n",
    "from pytorch_forecasting.metrics import MAPE, MAE, RMSE\n",
    "import torch.nn as nn\n",
    "import numpy as np\n",
    "import os\n",
    "from lightning.pytorch.callbacks.early_stopping import EarlyStopping\n",
    "import torch.nn.functional as F\n",
    "import matplotlib.pyplot as plt\n",
    "from lightning.pytorch.callbacks import EarlyStopping, LearningRateMonitor, ModelCheckpoint\n",
    "from torch.optim.lr_scheduler import ReduceLROnPlateau\n",
    "from torch.optim import AdamW\n",
    "from pytorch_forecasting.metrics.base_metrics import Metric\n",
    "from lightning.pytorch.tuner import Tuner\n",
    "\n",
    "torch.set_float32_matmul_precision('high')"
   ]
  },
  {
   "cell_type": "code",
   "execution_count": 93,
   "id": "eddaf697-2444-4fda-8564-2274301d07a0",
   "metadata": {},
   "outputs": [
    {
     "data": {
      "text/html": [
       "<div>\n",
       "<style scoped>\n",
       "    .dataframe tbody tr th:only-of-type {\n",
       "        vertical-align: middle;\n",
       "    }\n",
       "\n",
       "    .dataframe tbody tr th {\n",
       "        vertical-align: top;\n",
       "    }\n",
       "\n",
       "    .dataframe thead th {\n",
       "        text-align: right;\n",
       "    }\n",
       "</style>\n",
       "<table border=\"1\" class=\"dataframe\">\n",
       "  <thead>\n",
       "    <tr style=\"text-align: right;\">\n",
       "      <th></th>\n",
       "      <th>timestamp</th>\n",
       "      <th>series_id</th>\n",
       "      <th>target</th>\n",
       "      <th>mempool_blocks_blockSize</th>\n",
       "      <th>mempool_blocks_blockVSize</th>\n",
       "      <th>mempool_blocks_nTx</th>\n",
       "      <th>mempool_blocks_totalFees</th>\n",
       "      <th>mempool_blocks_medianFee</th>\n",
       "      <th>mempool_count</th>\n",
       "      <th>mempool_vsize</th>\n",
       "      <th>...</th>\n",
       "      <th>mempool_fee_histogram_bin_95_100</th>\n",
       "      <th>mempool_fee_histogram_bin_100_150</th>\n",
       "      <th>mempool_fee_histogram_bin_150_200</th>\n",
       "      <th>mempool_fee_histogram_bin_200_250</th>\n",
       "      <th>mempool_fee_histogram_bin_250_300</th>\n",
       "      <th>time_idx</th>\n",
       "      <th>hour</th>\n",
       "      <th>minute</th>\n",
       "      <th>day_of_week</th>\n",
       "      <th>month</th>\n",
       "    </tr>\n",
       "  </thead>\n",
       "  <tbody>\n",
       "    <tr>\n",
       "      <th>0</th>\n",
       "      <td>2025-03-05 02:00:00</td>\n",
       "      <td>recommended_fee_economyFee</td>\n",
       "      <td>2.000000</td>\n",
       "      <td>2.131827e+06</td>\n",
       "      <td>997874.250000</td>\n",
       "      <td>1030.000000</td>\n",
       "      <td>2.077770e+06</td>\n",
       "      <td>1.300139</td>\n",
       "      <td>8232.000000</td>\n",
       "      <td>4.888571e+07</td>\n",
       "      <td>...</td>\n",
       "      <td>0.0</td>\n",
       "      <td>0.0</td>\n",
       "      <td>0.0</td>\n",
       "      <td>0.0</td>\n",
       "      <td>0.0</td>\n",
       "      <td>0</td>\n",
       "      <td>2</td>\n",
       "      <td>0</td>\n",
       "      <td>2</td>\n",
       "      <td>3</td>\n",
       "    </tr>\n",
       "    <tr>\n",
       "      <th>1</th>\n",
       "      <td>2025-03-05 02:15:00</td>\n",
       "      <td>recommended_fee_economyFee</td>\n",
       "      <td>2.666667</td>\n",
       "      <td>1.801526e+06</td>\n",
       "      <td>997925.916667</td>\n",
       "      <td>2627.000000</td>\n",
       "      <td>3.407913e+06</td>\n",
       "      <td>2.473960</td>\n",
       "      <td>9943.333333</td>\n",
       "      <td>4.946978e+07</td>\n",
       "      <td>...</td>\n",
       "      <td>0.0</td>\n",
       "      <td>0.0</td>\n",
       "      <td>0.0</td>\n",
       "      <td>0.0</td>\n",
       "      <td>0.0</td>\n",
       "      <td>1</td>\n",
       "      <td>2</td>\n",
       "      <td>15</td>\n",
       "      <td>2</td>\n",
       "      <td>3</td>\n",
       "    </tr>\n",
       "    <tr>\n",
       "      <th>2</th>\n",
       "      <td>2025-03-05 02:30:00</td>\n",
       "      <td>recommended_fee_economyFee</td>\n",
       "      <td>2.000000</td>\n",
       "      <td>2.055350e+06</td>\n",
       "      <td>997965.916667</td>\n",
       "      <td>922.000000</td>\n",
       "      <td>1.855358e+06</td>\n",
       "      <td>1.355898</td>\n",
       "      <td>8189.333333</td>\n",
       "      <td>4.936482e+07</td>\n",
       "      <td>...</td>\n",
       "      <td>0.0</td>\n",
       "      <td>0.0</td>\n",
       "      <td>0.0</td>\n",
       "      <td>0.0</td>\n",
       "      <td>0.0</td>\n",
       "      <td>2</td>\n",
       "      <td>2</td>\n",
       "      <td>30</td>\n",
       "      <td>2</td>\n",
       "      <td>3</td>\n",
       "    </tr>\n",
       "    <tr>\n",
       "      <th>3</th>\n",
       "      <td>2025-03-05 02:45:00</td>\n",
       "      <td>recommended_fee_economyFee</td>\n",
       "      <td>2.333333</td>\n",
       "      <td>2.006800e+06</td>\n",
       "      <td>997970.083333</td>\n",
       "      <td>1296.666667</td>\n",
       "      <td>2.167251e+06</td>\n",
       "      <td>1.536092</td>\n",
       "      <td>8874.666667</td>\n",
       "      <td>5.061585e+07</td>\n",
       "      <td>...</td>\n",
       "      <td>0.0</td>\n",
       "      <td>0.0</td>\n",
       "      <td>0.0</td>\n",
       "      <td>0.0</td>\n",
       "      <td>0.0</td>\n",
       "      <td>3</td>\n",
       "      <td>2</td>\n",
       "      <td>45</td>\n",
       "      <td>2</td>\n",
       "      <td>3</td>\n",
       "    </tr>\n",
       "    <tr>\n",
       "      <th>4</th>\n",
       "      <td>2025-03-05 03:00:00</td>\n",
       "      <td>recommended_fee_economyFee</td>\n",
       "      <td>3.000000</td>\n",
       "      <td>1.773658e+06</td>\n",
       "      <td>997960.333333</td>\n",
       "      <td>2725.333333</td>\n",
       "      <td>3.462741e+06</td>\n",
       "      <td>2.467659</td>\n",
       "      <td>11247.333333</td>\n",
       "      <td>5.158261e+07</td>\n",
       "      <td>...</td>\n",
       "      <td>0.0</td>\n",
       "      <td>0.0</td>\n",
       "      <td>0.0</td>\n",
       "      <td>0.0</td>\n",
       "      <td>0.0</td>\n",
       "      <td>4</td>\n",
       "      <td>3</td>\n",
       "      <td>0</td>\n",
       "      <td>2</td>\n",
       "      <td>3</td>\n",
       "    </tr>\n",
       "  </tbody>\n",
       "</table>\n",
       "<p>5 rows × 64 columns</p>\n",
       "</div>"
      ],
      "text/plain": [
       "            timestamp                   series_id    target  \\\n",
       "0 2025-03-05 02:00:00  recommended_fee_economyFee  2.000000   \n",
       "1 2025-03-05 02:15:00  recommended_fee_economyFee  2.666667   \n",
       "2 2025-03-05 02:30:00  recommended_fee_economyFee  2.000000   \n",
       "3 2025-03-05 02:45:00  recommended_fee_economyFee  2.333333   \n",
       "4 2025-03-05 03:00:00  recommended_fee_economyFee  3.000000   \n",
       "\n",
       "   mempool_blocks_blockSize  mempool_blocks_blockVSize  mempool_blocks_nTx  \\\n",
       "0              2.131827e+06              997874.250000         1030.000000   \n",
       "1              1.801526e+06              997925.916667         2627.000000   \n",
       "2              2.055350e+06              997965.916667          922.000000   \n",
       "3              2.006800e+06              997970.083333         1296.666667   \n",
       "4              1.773658e+06              997960.333333         2725.333333   \n",
       "\n",
       "   mempool_blocks_totalFees  mempool_blocks_medianFee  mempool_count  \\\n",
       "0              2.077770e+06                  1.300139    8232.000000   \n",
       "1              3.407913e+06                  2.473960    9943.333333   \n",
       "2              1.855358e+06                  1.355898    8189.333333   \n",
       "3              2.167251e+06                  1.536092    8874.666667   \n",
       "4              3.462741e+06                  2.467659   11247.333333   \n",
       "\n",
       "   mempool_vsize  ...  mempool_fee_histogram_bin_95_100  \\\n",
       "0   4.888571e+07  ...                               0.0   \n",
       "1   4.946978e+07  ...                               0.0   \n",
       "2   4.936482e+07  ...                               0.0   \n",
       "3   5.061585e+07  ...                               0.0   \n",
       "4   5.158261e+07  ...                               0.0   \n",
       "\n",
       "   mempool_fee_histogram_bin_100_150  mempool_fee_histogram_bin_150_200  \\\n",
       "0                                0.0                                0.0   \n",
       "1                                0.0                                0.0   \n",
       "2                                0.0                                0.0   \n",
       "3                                0.0                                0.0   \n",
       "4                                0.0                                0.0   \n",
       "\n",
       "   mempool_fee_histogram_bin_200_250  mempool_fee_histogram_bin_250_300  \\\n",
       "0                                0.0                                0.0   \n",
       "1                                0.0                                0.0   \n",
       "2                                0.0                                0.0   \n",
       "3                                0.0                                0.0   \n",
       "4                                0.0                                0.0   \n",
       "\n",
       "   time_idx  hour  minute  day_of_week  month  \n",
       "0         0     2       0            2      3  \n",
       "1         1     2      15            2      3  \n",
       "2         2     2      30            2      3  \n",
       "3         3     2      45            2      3  \n",
       "4         4     3       0            2      3  \n",
       "\n",
       "[5 rows x 64 columns]"
      ]
     },
     "execution_count": 93,
     "metadata": {},
     "output_type": "execute_result"
    }
   ],
   "source": [
    "df = pd.read_parquet(\"../data/processed/processed_tft.parquet\")\n",
    "df.head()"
   ]
  },
  {
   "cell_type": "markdown",
   "id": "72d9933f-eb00-413d-95be-85ad74511b18",
   "metadata": {},
   "source": [
    "## 1. Define Historical Context and Training Cutoff for Temporal Fusion Transformer\n",
    "\n",
    "To prepare our data for the **Temporal Fusion Transformer (TFT)** — a sequence-to-sequence model for multi-horizon forecasting — we must clearly define the historical context (encoder length), forecasting horizon (decoder length), and training/validation/test splits that preserve time order.\n",
    "\n",
    "### Why This Matters for TFT\n",
    "\n",
    "TFT explicitly separates:\n",
    "- **Encoder input** (past observations and covariates),\n",
    "- **Decoder input** (known future covariates),\n",
    "- **Decoder target** (future values to be predicted).\n",
    "\n",
    "To ensure proper alignment, we must:\n",
    "- Reserve enough data for validation and test forecasts,\n",
    "- Define strict **cutoffs** to prevent any leakage of future targets into training.\n",
    "\n",
    "This mirrors real-world forecasting where only **past and known-future features** are available at prediction time.\n"
   ]
  },
  {
   "cell_type": "code",
   "execution_count": 94,
   "id": "c16c79bb-1e63-4710-aa2b-6713a2c36070",
   "metadata": {},
   "outputs": [],
   "source": [
    "FREQ = \"15min\"  # Frequency of the time series: one data point every 15 minutes.\n",
    "ENC_LEN = 672  # Length of the encoder input (7 days): 672 × 15min = 7 days.\n",
    "PRED_STEPS = 96  # Forecasting horizon (1 day): 96 × 15min = 24 hours.\n",
    "\n",
    "VAL_DAYS = 1  # Number of days used for validation.\n",
    "TEST_DAYS = 1  # Number of days used for testing (final block evaluation).\n",
    "\n",
    "BATCH_SIZE = 32  # Number of samples per batch for model training.\n",
    "NUM_WORKERS = 4  # Number of CPU threads used for data loading.\n"
   ]
  },
  {
   "cell_type": "code",
   "execution_count": 95,
   "id": "341d966b-218b-4845-ae49-f54f7dc1c7e4",
   "metadata": {},
   "outputs": [
    {
     "data": {
      "text/html": [
       "<div>\n",
       "<style scoped>\n",
       "    .dataframe tbody tr th:only-of-type {\n",
       "        vertical-align: middle;\n",
       "    }\n",
       "\n",
       "    .dataframe tbody tr th {\n",
       "        vertical-align: top;\n",
       "    }\n",
       "\n",
       "    .dataframe thead th {\n",
       "        text-align: right;\n",
       "    }\n",
       "</style>\n",
       "<table border=\"1\" class=\"dataframe\">\n",
       "  <thead>\n",
       "    <tr style=\"text-align: right;\">\n",
       "      <th></th>\n",
       "      <th>timestamp</th>\n",
       "      <th>series_id</th>\n",
       "      <th>target</th>\n",
       "      <th>mempool_blocks_blockSize</th>\n",
       "      <th>mempool_blocks_blockVSize</th>\n",
       "      <th>mempool_blocks_nTx</th>\n",
       "      <th>mempool_blocks_totalFees</th>\n",
       "      <th>mempool_blocks_medianFee</th>\n",
       "      <th>mempool_count</th>\n",
       "      <th>mempool_vsize</th>\n",
       "      <th>...</th>\n",
       "      <th>mempool_fee_histogram_bin_95_100</th>\n",
       "      <th>mempool_fee_histogram_bin_100_150</th>\n",
       "      <th>mempool_fee_histogram_bin_150_200</th>\n",
       "      <th>mempool_fee_histogram_bin_200_250</th>\n",
       "      <th>mempool_fee_histogram_bin_250_300</th>\n",
       "      <th>time_idx</th>\n",
       "      <th>hour</th>\n",
       "      <th>minute</th>\n",
       "      <th>day_of_week</th>\n",
       "      <th>month</th>\n",
       "    </tr>\n",
       "  </thead>\n",
       "  <tbody>\n",
       "    <tr>\n",
       "      <th>19643</th>\n",
       "      <td>2025-04-13 08:45:00</td>\n",
       "      <td>recommended_fee_minimumFee</td>\n",
       "      <td>1.0</td>\n",
       "      <td>1.666197e+06</td>\n",
       "      <td>997965.416667</td>\n",
       "      <td>3291.000000</td>\n",
       "      <td>4.685623e+06</td>\n",
       "      <td>2.092369</td>\n",
       "      <td>4319.333333</td>\n",
       "      <td>2.176895e+06</td>\n",
       "      <td>...</td>\n",
       "      <td>0.0</td>\n",
       "      <td>0.0</td>\n",
       "      <td>0.0</td>\n",
       "      <td>0.0</td>\n",
       "      <td>0.0</td>\n",
       "      <td>3771</td>\n",
       "      <td>8</td>\n",
       "      <td>45</td>\n",
       "      <td>6</td>\n",
       "      <td>4</td>\n",
       "    </tr>\n",
       "    <tr>\n",
       "      <th>19644</th>\n",
       "      <td>2025-04-13 09:00:00</td>\n",
       "      <td>recommended_fee_minimumFee</td>\n",
       "      <td>1.0</td>\n",
       "      <td>1.690798e+06</td>\n",
       "      <td>997941.750000</td>\n",
       "      <td>2735.000000</td>\n",
       "      <td>3.225018e+06</td>\n",
       "      <td>1.877525</td>\n",
       "      <td>4177.666667</td>\n",
       "      <td>2.704974e+06</td>\n",
       "      <td>...</td>\n",
       "      <td>0.0</td>\n",
       "      <td>0.0</td>\n",
       "      <td>0.0</td>\n",
       "      <td>0.0</td>\n",
       "      <td>0.0</td>\n",
       "      <td>3772</td>\n",
       "      <td>9</td>\n",
       "      <td>0</td>\n",
       "      <td>6</td>\n",
       "      <td>4</td>\n",
       "    </tr>\n",
       "    <tr>\n",
       "      <th>19645</th>\n",
       "      <td>2025-04-13 09:15:00</td>\n",
       "      <td>recommended_fee_minimumFee</td>\n",
       "      <td>1.0</td>\n",
       "      <td>1.645813e+06</td>\n",
       "      <td>997942.500000</td>\n",
       "      <td>3566.333333</td>\n",
       "      <td>3.018476e+06</td>\n",
       "      <td>2.054678</td>\n",
       "      <td>5356.666667</td>\n",
       "      <td>3.291125e+06</td>\n",
       "      <td>...</td>\n",
       "      <td>0.0</td>\n",
       "      <td>0.0</td>\n",
       "      <td>0.0</td>\n",
       "      <td>0.0</td>\n",
       "      <td>0.0</td>\n",
       "      <td>3773</td>\n",
       "      <td>9</td>\n",
       "      <td>15</td>\n",
       "      <td>6</td>\n",
       "      <td>4</td>\n",
       "    </tr>\n",
       "    <tr>\n",
       "      <th>19646</th>\n",
       "      <td>2025-04-13 09:30:00</td>\n",
       "      <td>recommended_fee_minimumFee</td>\n",
       "      <td>1.0</td>\n",
       "      <td>1.806968e+06</td>\n",
       "      <td>997951.000000</td>\n",
       "      <td>1287.333333</td>\n",
       "      <td>1.799527e+06</td>\n",
       "      <td>1.179531</td>\n",
       "      <td>2785.666667</td>\n",
       "      <td>2.667159e+06</td>\n",
       "      <td>...</td>\n",
       "      <td>0.0</td>\n",
       "      <td>0.0</td>\n",
       "      <td>0.0</td>\n",
       "      <td>0.0</td>\n",
       "      <td>0.0</td>\n",
       "      <td>3774</td>\n",
       "      <td>9</td>\n",
       "      <td>30</td>\n",
       "      <td>6</td>\n",
       "      <td>4</td>\n",
       "    </tr>\n",
       "    <tr>\n",
       "      <th>19647</th>\n",
       "      <td>2025-04-13 09:45:00</td>\n",
       "      <td>recommended_fee_minimumFee</td>\n",
       "      <td>1.0</td>\n",
       "      <td>1.793377e+06</td>\n",
       "      <td>997948.000000</td>\n",
       "      <td>1786.666667</td>\n",
       "      <td>2.231554e+06</td>\n",
       "      <td>1.419643</td>\n",
       "      <td>3331.000000</td>\n",
       "      <td>2.615029e+06</td>\n",
       "      <td>...</td>\n",
       "      <td>0.0</td>\n",
       "      <td>0.0</td>\n",
       "      <td>0.0</td>\n",
       "      <td>0.0</td>\n",
       "      <td>0.0</td>\n",
       "      <td>3775</td>\n",
       "      <td>9</td>\n",
       "      <td>45</td>\n",
       "      <td>6</td>\n",
       "      <td>4</td>\n",
       "    </tr>\n",
       "  </tbody>\n",
       "</table>\n",
       "<p>5 rows × 64 columns</p>\n",
       "</div>"
      ],
      "text/plain": [
       "                timestamp                   series_id  target  \\\n",
       "19643 2025-04-13 08:45:00  recommended_fee_minimumFee     1.0   \n",
       "19644 2025-04-13 09:00:00  recommended_fee_minimumFee     1.0   \n",
       "19645 2025-04-13 09:15:00  recommended_fee_minimumFee     1.0   \n",
       "19646 2025-04-13 09:30:00  recommended_fee_minimumFee     1.0   \n",
       "19647 2025-04-13 09:45:00  recommended_fee_minimumFee     1.0   \n",
       "\n",
       "       mempool_blocks_blockSize  mempool_blocks_blockVSize  \\\n",
       "19643              1.666197e+06              997965.416667   \n",
       "19644              1.690798e+06              997941.750000   \n",
       "19645              1.645813e+06              997942.500000   \n",
       "19646              1.806968e+06              997951.000000   \n",
       "19647              1.793377e+06              997948.000000   \n",
       "\n",
       "       mempool_blocks_nTx  mempool_blocks_totalFees  mempool_blocks_medianFee  \\\n",
       "19643         3291.000000              4.685623e+06                  2.092369   \n",
       "19644         2735.000000              3.225018e+06                  1.877525   \n",
       "19645         3566.333333              3.018476e+06                  2.054678   \n",
       "19646         1287.333333              1.799527e+06                  1.179531   \n",
       "19647         1786.666667              2.231554e+06                  1.419643   \n",
       "\n",
       "       mempool_count  mempool_vsize  ...  mempool_fee_histogram_bin_95_100  \\\n",
       "19643    4319.333333   2.176895e+06  ...                               0.0   \n",
       "19644    4177.666667   2.704974e+06  ...                               0.0   \n",
       "19645    5356.666667   3.291125e+06  ...                               0.0   \n",
       "19646    2785.666667   2.667159e+06  ...                               0.0   \n",
       "19647    3331.000000   2.615029e+06  ...                               0.0   \n",
       "\n",
       "       mempool_fee_histogram_bin_100_150  mempool_fee_histogram_bin_150_200  \\\n",
       "19643                                0.0                                0.0   \n",
       "19644                                0.0                                0.0   \n",
       "19645                                0.0                                0.0   \n",
       "19646                                0.0                                0.0   \n",
       "19647                                0.0                                0.0   \n",
       "\n",
       "       mempool_fee_histogram_bin_200_250  mempool_fee_histogram_bin_250_300  \\\n",
       "19643                                0.0                                0.0   \n",
       "19644                                0.0                                0.0   \n",
       "19645                                0.0                                0.0   \n",
       "19646                                0.0                                0.0   \n",
       "19647                                0.0                                0.0   \n",
       "\n",
       "       time_idx  hour  minute  day_of_week  month  \n",
       "19643      3771     8      45            6      4  \n",
       "19644      3772     9       0            6      4  \n",
       "19645      3773     9      15            6      4  \n",
       "19646      3774     9      30            6      4  \n",
       "19647      3775     9      45            6      4  \n",
       "\n",
       "[5 rows x 64 columns]"
      ]
     },
     "execution_count": 95,
     "metadata": {},
     "output_type": "execute_result"
    }
   ],
   "source": [
    "# Determine the last available training index, keeping 1 day for validation and 1 for test\n",
    "last_idx = df.time_idx.max() - PRED_STEPS\n",
    "\n",
    "# Shift back again by the prediction window to leave one decoding window for test\n",
    "training_cutoff = last_idx - PRED_STEPS\n",
    "\n",
    "# Extract training data — all time steps prior to this cutoff\n",
    "df_train = df[lambda x: x.time_idx <= training_cutoff]\n",
    "df_train.tail()"
   ]
  },
  {
   "cell_type": "markdown",
   "id": "dff31174-7ae6-469b-9203-22b093bd0efb",
   "metadata": {},
   "source": [
    "### Why This Step Is Crucial for TFT\n",
    "\n",
    "- **Maintains causality**: Only allows past data to influence future predictions\n",
    "- **Supports encoder-decoder design**: Ensures input-output separation for TFT\n",
    "- **Avoids information leakage**: Prevents model from training on future targets\n",
    "- **Enables robust validation**: Reserves realistic validation/test windows for model tuning and final evaluation\n",
    "\n",
    "This setup ensures the TFT model learns **true temporal patterns** without shortcuts — critical for reliable multi-step forecasts.\n",
    "\n",
    "---"
   ]
  },
  {
   "cell_type": "markdown",
   "id": "7fad5962-3074-4c55-8ec8-2e3def5ac5e3",
   "metadata": {},
   "source": [
    "## 2. Normalize Continuous Features with Z-Score Scaling\n",
    "\n",
    "To help the Temporal Fusion Transformer (TFT) train efficiently and converge faster, we normalize all continuous input features using **Z-score standardization** (mean = 0, std = 1). This is crucial because TFT uses attention mechanisms and gated residual networks that can become unstable with unscaled inputs.\n",
    "\n",
    "###  Why We Exclude Some Columns\n",
    "\n",
    "We **exclude non-continuous or semantically meaningful columns** (like time indices or categorical labels) from scaling:\n",
    "- `target`: Our label — must not be normalized here.\n",
    "- `time_idx`: Integer time index used by the model — kept as-is.\n",
    "- `hour`, `minute`, `day_of_week`, `month`: Time-related features — already categorical or periodic.\n",
    "- `series_id`: Categorical ID for multivariate series.\n",
    "- `timestamp`: Timestamp used for plotting or temporal alignment.\n"
   ]
  },
  {
   "cell_type": "code",
   "execution_count": 97,
   "id": "caa6d52c-89d2-43d1-9528-0e5ab711fbdb",
   "metadata": {},
   "outputs": [
    {
     "data": {
      "text/html": [
       "<div>\n",
       "<style scoped>\n",
       "    .dataframe tbody tr th:only-of-type {\n",
       "        vertical-align: middle;\n",
       "    }\n",
       "\n",
       "    .dataframe tbody tr th {\n",
       "        vertical-align: top;\n",
       "    }\n",
       "\n",
       "    .dataframe thead th {\n",
       "        text-align: right;\n",
       "    }\n",
       "</style>\n",
       "<table border=\"1\" class=\"dataframe\">\n",
       "  <thead>\n",
       "    <tr style=\"text-align: right;\">\n",
       "      <th></th>\n",
       "      <th>timestamp</th>\n",
       "      <th>series_id</th>\n",
       "      <th>target</th>\n",
       "      <th>mempool_blocks_blockSize</th>\n",
       "      <th>mempool_blocks_blockVSize</th>\n",
       "      <th>mempool_blocks_nTx</th>\n",
       "      <th>mempool_blocks_totalFees</th>\n",
       "      <th>mempool_blocks_medianFee</th>\n",
       "      <th>mempool_count</th>\n",
       "      <th>mempool_vsize</th>\n",
       "      <th>...</th>\n",
       "      <th>mempool_fee_histogram_bin_95_100</th>\n",
       "      <th>mempool_fee_histogram_bin_100_150</th>\n",
       "      <th>mempool_fee_histogram_bin_150_200</th>\n",
       "      <th>mempool_fee_histogram_bin_200_250</th>\n",
       "      <th>mempool_fee_histogram_bin_250_300</th>\n",
       "      <th>time_idx</th>\n",
       "      <th>hour</th>\n",
       "      <th>minute</th>\n",
       "      <th>day_of_week</th>\n",
       "      <th>month</th>\n",
       "    </tr>\n",
       "  </thead>\n",
       "  <tbody>\n",
       "    <tr>\n",
       "      <th>0</th>\n",
       "      <td>2025-03-05 02:00:00</td>\n",
       "      <td>recommended_fee_economyFee</td>\n",
       "      <td>2.000000</td>\n",
       "      <td>2.131827e+06</td>\n",
       "      <td>997874.250000</td>\n",
       "      <td>1030.000000</td>\n",
       "      <td>2.077770e+06</td>\n",
       "      <td>1.300139</td>\n",
       "      <td>8232.000000</td>\n",
       "      <td>4.888571e+07</td>\n",
       "      <td>...</td>\n",
       "      <td>0.0</td>\n",
       "      <td>0.0</td>\n",
       "      <td>0.0</td>\n",
       "      <td>0.0</td>\n",
       "      <td>0.0</td>\n",
       "      <td>0</td>\n",
       "      <td>2</td>\n",
       "      <td>0</td>\n",
       "      <td>2</td>\n",
       "      <td>3</td>\n",
       "    </tr>\n",
       "    <tr>\n",
       "      <th>1</th>\n",
       "      <td>2025-03-05 02:15:00</td>\n",
       "      <td>recommended_fee_economyFee</td>\n",
       "      <td>2.666667</td>\n",
       "      <td>1.801526e+06</td>\n",
       "      <td>997925.916667</td>\n",
       "      <td>2627.000000</td>\n",
       "      <td>3.407913e+06</td>\n",
       "      <td>2.473960</td>\n",
       "      <td>9943.333333</td>\n",
       "      <td>4.946978e+07</td>\n",
       "      <td>...</td>\n",
       "      <td>0.0</td>\n",
       "      <td>0.0</td>\n",
       "      <td>0.0</td>\n",
       "      <td>0.0</td>\n",
       "      <td>0.0</td>\n",
       "      <td>1</td>\n",
       "      <td>2</td>\n",
       "      <td>15</td>\n",
       "      <td>2</td>\n",
       "      <td>3</td>\n",
       "    </tr>\n",
       "    <tr>\n",
       "      <th>2</th>\n",
       "      <td>2025-03-05 02:30:00</td>\n",
       "      <td>recommended_fee_economyFee</td>\n",
       "      <td>2.000000</td>\n",
       "      <td>2.055350e+06</td>\n",
       "      <td>997965.916667</td>\n",
       "      <td>922.000000</td>\n",
       "      <td>1.855358e+06</td>\n",
       "      <td>1.355898</td>\n",
       "      <td>8189.333333</td>\n",
       "      <td>4.936482e+07</td>\n",
       "      <td>...</td>\n",
       "      <td>0.0</td>\n",
       "      <td>0.0</td>\n",
       "      <td>0.0</td>\n",
       "      <td>0.0</td>\n",
       "      <td>0.0</td>\n",
       "      <td>2</td>\n",
       "      <td>2</td>\n",
       "      <td>30</td>\n",
       "      <td>2</td>\n",
       "      <td>3</td>\n",
       "    </tr>\n",
       "    <tr>\n",
       "      <th>3</th>\n",
       "      <td>2025-03-05 02:45:00</td>\n",
       "      <td>recommended_fee_economyFee</td>\n",
       "      <td>2.333333</td>\n",
       "      <td>2.006800e+06</td>\n",
       "      <td>997970.083333</td>\n",
       "      <td>1296.666667</td>\n",
       "      <td>2.167251e+06</td>\n",
       "      <td>1.536092</td>\n",
       "      <td>8874.666667</td>\n",
       "      <td>5.061585e+07</td>\n",
       "      <td>...</td>\n",
       "      <td>0.0</td>\n",
       "      <td>0.0</td>\n",
       "      <td>0.0</td>\n",
       "      <td>0.0</td>\n",
       "      <td>0.0</td>\n",
       "      <td>3</td>\n",
       "      <td>2</td>\n",
       "      <td>45</td>\n",
       "      <td>2</td>\n",
       "      <td>3</td>\n",
       "    </tr>\n",
       "    <tr>\n",
       "      <th>4</th>\n",
       "      <td>2025-03-05 03:00:00</td>\n",
       "      <td>recommended_fee_economyFee</td>\n",
       "      <td>3.000000</td>\n",
       "      <td>1.773658e+06</td>\n",
       "      <td>997960.333333</td>\n",
       "      <td>2725.333333</td>\n",
       "      <td>3.462741e+06</td>\n",
       "      <td>2.467659</td>\n",
       "      <td>11247.333333</td>\n",
       "      <td>5.158261e+07</td>\n",
       "      <td>...</td>\n",
       "      <td>0.0</td>\n",
       "      <td>0.0</td>\n",
       "      <td>0.0</td>\n",
       "      <td>0.0</td>\n",
       "      <td>0.0</td>\n",
       "      <td>4</td>\n",
       "      <td>3</td>\n",
       "      <td>0</td>\n",
       "      <td>2</td>\n",
       "      <td>3</td>\n",
       "    </tr>\n",
       "  </tbody>\n",
       "</table>\n",
       "<p>5 rows × 64 columns</p>\n",
       "</div>"
      ],
      "text/plain": [
       "            timestamp                   series_id    target  \\\n",
       "0 2025-03-05 02:00:00  recommended_fee_economyFee  2.000000   \n",
       "1 2025-03-05 02:15:00  recommended_fee_economyFee  2.666667   \n",
       "2 2025-03-05 02:30:00  recommended_fee_economyFee  2.000000   \n",
       "3 2025-03-05 02:45:00  recommended_fee_economyFee  2.333333   \n",
       "4 2025-03-05 03:00:00  recommended_fee_economyFee  3.000000   \n",
       "\n",
       "   mempool_blocks_blockSize  mempool_blocks_blockVSize  mempool_blocks_nTx  \\\n",
       "0              2.131827e+06              997874.250000         1030.000000   \n",
       "1              1.801526e+06              997925.916667         2627.000000   \n",
       "2              2.055350e+06              997965.916667          922.000000   \n",
       "3              2.006800e+06              997970.083333         1296.666667   \n",
       "4              1.773658e+06              997960.333333         2725.333333   \n",
       "\n",
       "   mempool_blocks_totalFees  mempool_blocks_medianFee  mempool_count  \\\n",
       "0              2.077770e+06                  1.300139    8232.000000   \n",
       "1              3.407913e+06                  2.473960    9943.333333   \n",
       "2              1.855358e+06                  1.355898    8189.333333   \n",
       "3              2.167251e+06                  1.536092    8874.666667   \n",
       "4              3.462741e+06                  2.467659   11247.333333   \n",
       "\n",
       "   mempool_vsize  ...  mempool_fee_histogram_bin_95_100  \\\n",
       "0   4.888571e+07  ...                               0.0   \n",
       "1   4.946978e+07  ...                               0.0   \n",
       "2   4.936482e+07  ...                               0.0   \n",
       "3   5.061585e+07  ...                               0.0   \n",
       "4   5.158261e+07  ...                               0.0   \n",
       "\n",
       "   mempool_fee_histogram_bin_100_150  mempool_fee_histogram_bin_150_200  \\\n",
       "0                                0.0                                0.0   \n",
       "1                                0.0                                0.0   \n",
       "2                                0.0                                0.0   \n",
       "3                                0.0                                0.0   \n",
       "4                                0.0                                0.0   \n",
       "\n",
       "   mempool_fee_histogram_bin_200_250  mempool_fee_histogram_bin_250_300  \\\n",
       "0                                0.0                                0.0   \n",
       "1                                0.0                                0.0   \n",
       "2                                0.0                                0.0   \n",
       "3                                0.0                                0.0   \n",
       "4                                0.0                                0.0   \n",
       "\n",
       "   time_idx  hour  minute  day_of_week  month  \n",
       "0         0     2       0            2      3  \n",
       "1         1     2      15            2      3  \n",
       "2         2     2      30            2      3  \n",
       "3         3     2      45            2      3  \n",
       "4         4     3       0            2      3  \n",
       "\n",
       "[5 rows x 64 columns]"
      ]
     },
     "execution_count": 97,
     "metadata": {},
     "output_type": "execute_result"
    }
   ],
   "source": [
    "# Columns that should NOT be standardized\n",
    "EXCLUDE = [\n",
    "    \"target\",  # The target variable should remain in its original scale\n",
    "    \"time_idx\",  # Temporal index used for ordering, not magnitude\n",
    "    \"hour\",\n",
    "    \"minute\",\n",
    "    \"day_of_week\",\n",
    "    \"month\",  # Categorical time features\n",
    "    \"series_id\",  # Identifier for separate time series\n",
    "    \"timestamp\",  # Raw timestamp, used for plotting or reference\n",
    "]\n",
    "\n",
    "# Select numeric columns that are NOT in the exclude list\n",
    "num_cols = df.select_dtypes(\"float64\").columns.difference(EXCLUDE)\n",
    "\n",
    "# Initialize standard scaler for Z-score normalization\n",
    "scaler = StandardScaler()\n",
    "\n",
    "# Fit on training data only (to prevent leakage) and transform training features\n",
    "df_train.loc[:, num_cols] = scaler.fit_transform(df_train[num_cols])\n",
    "\n",
    "# Create validation set: all data before the final test window\n",
    "df_valid = df.loc[:last_idx]\n",
    "\n",
    "df_valid.head()"
   ]
  },
  {
   "cell_type": "markdown",
   "id": "2cfcd907-aa9f-4db1-a059-c608c2cdb65d",
   "metadata": {},
   "source": [
    "### Why This Step Matters for TFT\n",
    "\n",
    "- **Stabilizes training** by making feature magnitudes comparable\n",
    "- **Improves convergence** during gradient-based optimization\n",
    "- **Prevents leakage** by fitting the scaler only on the training set\n",
    "- **Keeps categorical and temporal identifiers intact**, preserving semantics\n",
    "\n",
    "This normalization process ensures TFT can efficiently process diverse continuous features while respecting time and structure.\n",
    "\n",
    "---"
   ]
  },
  {
   "cell_type": "markdown",
   "id": "50bab925-43a0-4486-aa43-89d117689a08",
   "metadata": {},
   "source": [
    "## 3. Create TimeSeriesDataSet for Temporal Fusion Transformer\n",
    "\n",
    "To train a **Temporal Fusion Transformer (TFT)** model, we must convert our raw DataFrame into a structured `TimeSeriesDataSet` — a specialized container used by the `pytorch-forecasting` library. This object organizes the data into encoder/decoder sequences, encodes known and unknown features, and handles time-aware sampling.\n",
    "\n",
    "###  Why This Step?\n",
    "\n",
    "TFT is a **sequence-to-sequence model** with a rich feature set:\n",
    "- It distinguishes between **known and unknown covariates**\n",
    "- Uses **static vs. dynamic** features\n",
    "- Applies **sliding windows with teacher forcing** to train on overlapping input/target sequences\n",
    "- Supports **per-series normalization**, encoder padding, and auxiliary inputs\n",
    "\n",
    "Creating a `TimeSeriesDataSet` ensures that all of these are prepared correctly — ready for training and prediction.\n",
    "\n",
    "### Dataset Composition\n",
    "\n",
    "- `target`: The value to forecast (e.g., recommended fee)\n",
    "- `group_ids`: Identifiers for each series (for us, it's a single ID)\n",
    "- `real_covs`: Dynamic real-valued features from mempool, mining difficulty, and BTC price\n",
    "- `time_varying_known_reals`: Calendar-based features that are known into the future\n",
    "- `time_varying_unknown_reals`: Signals that the model learns to predict (target + real covariates)\n",
    "- `target_normalizer`: Scales target separately per series using `GroupNormalizer`\n"
   ]
  },
  {
   "cell_type": "code",
   "execution_count": 98,
   "id": "7a8ca24c-6a65-4159-8d30-c4de3c792d97",
   "metadata": {},
   "outputs": [],
   "source": [
    "# Select real-valued covariates from mempool, difficulty, and price signals\n",
    "real_covs = [c for c in df.columns if c.startswith((\"mempool\", \"difficulty\", \"price\"))]\n",
    "\n",
    "# Create training dataset\n",
    "tft_ds = TimeSeriesDataSet(\n",
    "    df_train,\n",
    "    time_idx=\"time_idx\",  # Time index column (required)\n",
    "    target=\"target\",  # Target variable for prediction\n",
    "    group_ids=[\"series_id\"],  # Identifier for each time series instance\n",
    "    min_encoder_length=ENC_LEN // 2,  # Minimum history for padding samples\n",
    "    max_encoder_length=ENC_LEN,  # Full encoder context (7 days)\n",
    "    min_prediction_length=1,\n",
    "    max_prediction_length=PRED_STEPS,  # Forecast horizon (1 day)\n",
    "    static_categoricals=[\"series_id\"],  # Per-series static info (e.g., ID)\n",
    "    # Covariates known at prediction time (e.g., calendar)\n",
    "    time_varying_known_reals=[\"time_idx\", \"hour\", \"minute\", \"day_of_week\", \"month\"],\n",
    "    # Real-valued covariates not known at prediction time (e.g., mempool load)\n",
    "    time_varying_unknown_reals=[\"target\"] + real_covs,\n",
    "    # Normalize target separately per series\n",
    "    target_normalizer=GroupNormalizer(groups=[\"series_id\"]),\n",
    "    # Augmented features\n",
    "    add_relative_time_idx=True,  # Add 0, 1, ..., N for time position\n",
    "    add_target_scales=True,  # Add mean/std of target (per series)\n",
    "    add_encoder_length=True,  # Add actual encoder length used\n",
    ")\n"
   ]
  },
  {
   "cell_type": "code",
   "execution_count": 99,
   "id": "785c7b15-9c3e-440b-a535-9b53e3fd6142",
   "metadata": {
    "scrolled": true
   },
   "outputs": [],
   "source": [
    "# ---------- (a) Training Dataset ----------\n",
    "train_ds = tft_ds  # Already configured with sliding window + teacher forcing\n",
    "\n",
    "# ---------- (b) Validation Dataset ----------\n",
    "val_ds = TimeSeriesDataSet.from_dataset(\n",
    "    train_ds,\n",
    "    df_valid,\n",
    "    predict=True,               # If True, the TimeSeriesDataSet will only create one sequence per time series (i.e. only from the latest provided samples), means to predict the last max_prediction_length points in time\n",
    "    stop_randomization=True     # Use deterministic sampling for reproducibility\n",
    ")"
   ]
  },
  {
   "cell_type": "markdown",
   "id": "b44a1195-435e-465c-9d4b-b0387c91afa3",
   "metadata": {},
   "source": [
    "### Why This Setup is Crucial\n",
    "\n",
    "- **Sliding windows** allow the model to learn from many overlapping historical contexts\n",
    "- **Teacher forcing** means the decoder gets actual past target values during training, improving gradient signals\n",
    "- **Target normalization per series** improves stability when forecasting across different fee scales\n",
    "- **Encoder/decoder separation** aligns with TFT's architecture and prevents leakage of future data\n",
    "\n",
    "This step transforms the raw DataFrame into a format where TFT can fully leverage its hybrid attention and gating mechanisms for multi-horizon forecasting.\n",
    "\n",
    "---"
   ]
  },
  {
   "cell_type": "markdown",
   "id": "07bcc1f0-7fd1-4406-965c-8341fef1acd0",
   "metadata": {},
   "source": [
    "## 4. Create DataLoaders for Model Training and Validation\n",
    "\n",
    "Once our `TimeSeriesDataSet` objects are defined, we wrap them in PyTorch DataLoaders. These objects feed the model with batches of **encoder/decoder pairs** during training and evaluation. The configuration below ensures **chronological integrity**, avoids shuffling, and uses efficient multiprocessing for data loading.\n",
    "\n",
    "### Why Use DataLoaders?\n",
    "\n",
    "DataLoaders:\n",
    "- Feed the model with **overlapping sequences** for training (sliding windows),\n",
    "- Enable **batch-wise training** with parallelized data access,\n",
    "- Handle GPU prefetching and memory pinning for speed.\n",
    "\n",
    "### Key Configuration\n",
    "\n",
    "- `shuffle=False`: Keeps the time order — essential for time series forecasting  \n",
    "- `persistent_workers=False`: Avoids keeping workers alive across epochs (safer for notebooks or debug mode)  \n",
    "- `BATCH_SIZE`: Number of sequences per batch  \n",
    "- `BATCH_SIZE × 10`: Larger batches during validation for faster throughput (no backprop)  \n",
    "- `NUM_WORKERS`: Number of CPU cores used for parallel loading (bounded by system)\n"
   ]
  },
  {
   "cell_type": "code",
   "execution_count": 100,
   "id": "f756cebc-c62c-42e5-bed4-acdfcff0d1ed",
   "metadata": {},
   "outputs": [],
   "source": [
    "# Limit workers to 4 or available CPU cores\n",
    "NUM_WORKERS = min(4, os.cpu_count())\n",
    "\n",
    "# Create training dataloader — use sliding windows without shuffling to preserve time order\n",
    "train_dl = train_ds.to_dataloader(\n",
    "    train=True,\n",
    "    batch_size=BATCH_SIZE,\n",
    "    shuffle=False,  # DO NOT shuffle time series data!\n",
    "    num_workers=NUM_WORKERS,\n",
    "    persistent_workers=False,\n",
    ")\n",
    "\n",
    "# Create validation dataloader — larger batch size since no backpropagation is needed\n",
    "val_dl = val_ds.to_dataloader(\n",
    "    train=False,\n",
    "    batch_size=BATCH_SIZE * 10,\n",
    "    shuffle=False,\n",
    "    num_workers=NUM_WORKERS,\n",
    "    persistent_workers=False,\n",
    ")"
   ]
  },
  {
   "cell_type": "markdown",
   "id": "af3ddf1c-e40a-4dee-b206-d6108ad6cd35",
   "metadata": {},
   "source": [
    "### Why This Setup is Important\n",
    "\n",
    "- **Preserves temporal structure** in training and validation\n",
    "- **Enables efficient mini-batch training** using sequence windows\n",
    "- **Reduces validation time** by increasing batch size (no gradient updates needed)\n",
    "- Avoids common DataLoader pitfalls like deadlocks or shuffled time indices\n",
    "\n",
    "This step ensures that Temporal Fusion Transformer trains on properly sequenced data, matching how the model will operate in real-world forecasting.\n",
    "___"
   ]
  },
  {
   "cell_type": "markdown",
   "id": "e910232d-88df-484d-b978-bed51d513631",
   "metadata": {},
   "source": [
    "## 5. (Optional) Prototype Temporal Fusion Transformer and Explore Learning Rate\n",
    "\n",
    "Before committing to a full model definition and training schedule, we can **optionally prototype** the Temporal Fusion Transformer (TFT) and run a quick learning rate sweep. This helps assess whether our data pipeline is working and gives an estimate for a stable learning rate range.\n",
    "\n",
    "\n",
    "### Why This Step?\n",
    "\n",
    "- Quickly validate that your `TimeSeriesDataSet` and `DataLoader` objects are compatible with TFT.\n",
    "- Use `lr_find()` to get a **suggested learning rate** for better training stability.\n",
    "- Explore model capacity (e.g., number of parameters) without running full training.\n"
   ]
  },
  {
   "cell_type": "code",
   "execution_count": 101,
   "id": "79105219-fa00-45d0-898e-5c4d997164ae",
   "metadata": {},
   "outputs": [
    {
     "name": "stderr",
     "output_type": "stream",
     "text": [
      "Seed set to 42\n",
      "GPU available: True (cuda), used: True\n",
      "TPU available: False, using: 0 TPU cores\n",
      "HPU available: False, using: 0 HPUs\n",
      "C:\\Users\\davyx\\anaconda3\\envs\\satcast\\Lib\\site-packages\\lightning\\pytorch\\utilities\\parsing.py:208: Attribute 'loss' is an instance of `nn.Module` and is already saved during checkpointing. It is recommended to ignore them using `self.save_hyperparameters(ignore=['loss'])`.\n",
      "C:\\Users\\davyx\\anaconda3\\envs\\satcast\\Lib\\site-packages\\lightning\\pytorch\\utilities\\parsing.py:208: Attribute 'logging_metrics' is an instance of `nn.Module` and is already saved during checkpointing. It is recommended to ignore them using `self.save_hyperparameters(ignore=['logging_metrics'])`.\n"
     ]
    },
    {
     "name": "stdout",
     "output_type": "stream",
     "text": [
      "Number of parameters in network: 157.9k\n"
     ]
    }
   ],
   "source": [
    "# Set global random seed for reproducibility\n",
    "pl.seed_everything(42)\n",
    "\n",
    "# Minimal trainer with gradient clipping (important for LSTM stability)\n",
    "trainer = pl.Trainer(\n",
    "    accelerator=\"gpu\",\n",
    "    gradient_clip_val=0.1,\n",
    ")\n",
    "\n",
    "# Provisional TFT configuration — useful for debugging or learning rate tuning\n",
    "tft = TemporalFusionTransformer.from_dataset(\n",
    "    train_ds,\n",
    "    learning_rate=1e-4,\n",
    "    hidden_size=32,\n",
    "    hidden_continuous_size=8,\n",
    "    lstm_layers=2,\n",
    "    dropout=0.2,\n",
    "    loss=QuantileLoss(quantiles=[0.1, 0.5, 0.9]),\n",
    "    output_size=3,\n",
    "    weight_decay=1e-4,\n",
    "    reduce_on_plateau_patience=0,\n",
    ")\n",
    "\n",
    "# Check model size\n",
    "print(f\"Number of parameters in network: {tft.size() / 1e3:.1f}k\")"
   ]
  },
  {
   "cell_type": "code",
   "execution_count": 102,
   "id": "d532a598-091f-4000-9726-73f08abb0ef8",
   "metadata": {},
   "outputs": [
    {
     "name": "stderr",
     "output_type": "stream",
     "text": [
      "C:\\Users\\davyx\\anaconda3\\envs\\satcast\\Lib\\site-packages\\lightning\\pytorch\\loops\\utilities.py:72: `max_epochs` was not set. Setting it to 1000 epochs. To train without an epoch limit, set `max_epochs=-1`.\n",
      "LOCAL_RANK: 0 - CUDA_VISIBLE_DEVICES: [0]\n",
      "C:\\Users\\davyx\\anaconda3\\envs\\satcast\\Lib\\site-packages\\lightning\\pytorch\\trainer\\connectors\\data_connector.py:419: Consider setting `persistent_workers=True` in 'train_dataloader' to speed up the dataloader worker initialization.\n",
      "C:\\Users\\davyx\\anaconda3\\envs\\satcast\\Lib\\site-packages\\lightning\\pytorch\\trainer\\connectors\\data_connector.py:419: Consider setting `persistent_workers=True` in 'val_dataloader' to speed up the dataloader worker initialization.\n"
     ]
    },
    {
     "data": {
      "application/vnd.jupyter.widget-view+json": {
       "model_id": "e3f434ee73a04cc3ad95e5913c8775e0",
       "version_major": 2,
       "version_minor": 0
      },
      "text/plain": [
       "Finding best initial lr:   0%|          | 0/100 [00:00<?, ?it/s]"
      ]
     },
     "metadata": {},
     "output_type": "display_data"
    },
    {
     "name": "stderr",
     "output_type": "stream",
     "text": [
      "LR finder stopped early after 94 steps due to diverging loss.\n",
      "Learning rate set to 0.001023292992280754\n",
      "Restoring states from the checkpoint path at C:\\Users\\davyx\\桌面\\学习\\Capstone_SatCast_Trilemma\\analysis\\.lr_find_d65c2470-64ae-4906-985a-ed8a7fb91765.ckpt\n",
      "Restored all states from the checkpoint at C:\\Users\\davyx\\桌面\\学习\\Capstone_SatCast_Trilemma\\analysis\\.lr_find_d65c2470-64ae-4906-985a-ed8a7fb91765.ckpt\n"
     ]
    },
    {
     "name": "stdout",
     "output_type": "stream",
     "text": [
      "suggested learning rate: 0.001023292992280754\n"
     ]
    }
   ],
   "source": [
    "from lightning.pytorch.tuner import Tuner\n",
    "\n",
    "res = Tuner(trainer).lr_find(\n",
    "    tft,\n",
    "    train_dataloaders=train_dl,\n",
    "    val_dataloaders=val_dl,\n",
    "    max_lr=10.0,\n",
    "    min_lr=1e-6,\n",
    ")\n",
    "\n",
    "# Print suggested learning rate (can be slightly underestimated due to the nature of this tuner)\n",
    "print(f\"suggested learning rate: {res.suggestion()}\")\n"
   ]
  },
  {
   "cell_type": "markdown",
   "id": "c2a094d1-f28b-4a16-8731-9eae765ea08a",
   "metadata": {},
   "source": [
    "### Why This Is Helpful (But Optional)\n",
    "\n",
    "- Allows early **debugging** of model architecture and data pipeline\n",
    "- Identifies a **safe learning rate** range without committing to full training\n",
    "- Can be skipped or deferred until after full feature engineering and hyperparameter tuning\n",
    "\n",
    "You can revisit or overwrite this configuration later with your final model and trainer setup.\n",
    "\n",
    "---"
   ]
  },
  {
   "cell_type": "markdown",
   "id": "3b16a73a-24ae-472d-90d1-52fd0806e573",
   "metadata": {},
   "source": [
    "## 6. (Optional) Experimental Loss: EnhancedQuantileRMSELoss\n",
    "\n",
    "In this section, we explore a custom loss function, `EnhancedQuantileRMSELoss`, designed to improve the quality of multi-quantile forecasts by adding penalties that:\n",
    "- Encourage **wave-like**, variable predictions (avoiding flat lines),\n",
    "- Penalize under-confident or overly smoothed outputs,\n",
    "- Add **gradient-based regularization** for smoothness.\n",
    "\n",
    "### What This Loss Does\n",
    "\n",
    "This class extends the base `QuantileLoss` (used by Temporal Fusion Transformer) with additional components:\n",
    "- **RMSE Penalty**: Aligns the median prediction more closely to the ground truth.\n",
    "- **Standard Deviation Penalty**: Encourages sufficient variability in the forecast.\n",
    "- **Gradient Penalty**: Encourages smooth, realistic transitions across time.\n",
    "\n",
    "These enhancements are particularly useful in forecasting tasks where:\n",
    "- Target values exhibit **natural oscillations** (e.g., fee volatility),\n",
    "- The model tends to **underestimate variation** and outputs flat curves.\n",
    "\n",
    "### Caution: Not Used in Final Training\n",
    "\n",
    "This loss was included as an **optional experiment** and is **not used in the final TFT model**, as:\n",
    "- It slightly underperformed in validation metrics,\n",
    "- The loss surface can be unstable without careful tuning of penalty weights.\n",
    "\n",
    "However, it may still inspire **future improvements** in designing better custom loss functions that reward sharp, meaningful forecasts."
   ]
  },
  {
   "cell_type": "code",
   "execution_count": 104,
   "id": "1e48693f-25f1-42f1-b17f-574e000df1b1",
   "metadata": {},
   "outputs": [],
   "source": [
    "# from typing import List, Union, Tuple\n",
    "# class EnhancedQuantileRMSELoss(QuantileLoss):\n",
    "#     \"\"\"\n",
    "#     EnhancedQuantileRMSELoss\n",
    "\n",
    "#     An experimental loss function extending QuantileLoss to encourage better forecast behavior \n",
    "#     in multi-horizon time series prediction, especially for models like the Temporal Fusion Transformer (TFT).\n",
    "\n",
    "#     Key Features:\n",
    "#     -------------\n",
    "#     - **Quantile Loss**: Base component that predicts multiple quantiles (e.g., 0.1, 0.5, 0.9).\n",
    "#     - **RMSE Penalty**: Penalizes the difference between the median prediction and actual target (adds deterministic error minimization).\n",
    "#     - **Standard Deviation Penalty**: Discourages overly flat or constant predictions by penalizing low output variance.\n",
    "#     - **Gradient Penalty**: Encourages smooth transitions over time and discourages abrupt flatness (zero gradients).\n",
    "\n",
    "#     Parameters:\n",
    "#     -----------\n",
    "#     quantiles : List[float], default=[0.1, 0.5, 0.9]\n",
    "#         Quantiles to be predicted.\n",
    "#     rmse_weight : float, default=0.1\n",
    "#         Weight applied to RMSE term between median prediction and target.\n",
    "#     std_penalty_weight : float, default=0.05\n",
    "#         Weight for penalizing low standard deviation in predicted sequences.\n",
    "#     gradient_penalty_weight : float, default=0.02\n",
    "#         Weight for penalizing overly flat or abrupt gradients in predictions.\n",
    "#     min_std_threshold : float, default=1e-3\n",
    "#         Threshold used in exponential penalty for standard deviation — lower values encourage more variability.\n",
    "\n",
    "#     Notes:\n",
    "#     ------\n",
    "#     - This loss is intended for exploratory use. While it encourages wave-like output, it may not outperform baseline losses unless carefully tuned.\n",
    "#     - Make sure the output shape matches expected dimensions: [batch_size, quantiles, time] or [batch_size, time, quantiles].\n",
    "#     \"\"\"\n",
    "#     def __init__(self, \n",
    "#                  quantiles: List[float] = [0.1, 0.5, 0.9], \n",
    "#                  rmse_weight: float = 0.1,\n",
    "#                  std_penalty_weight: float = 0.05,\n",
    "#                  gradient_penalty_weight: float = 0.02,\n",
    "#                  min_std_threshold: float = 1e-3):\n",
    "#         super().__init__(quantiles=quantiles)\n",
    "#         self.rmse_weight = rmse_weight\n",
    "#         self.std_penalty_weight = std_penalty_weight\n",
    "#         self.gradient_penalty_weight = gradient_penalty_weight\n",
    "#         self.min_std_threshold = min_std_threshold\n",
    "#         self._median_idx = quantiles.index(0.5)\n",
    "        \n",
    "#     def forward(self, y_pred: torch.Tensor, target: Union[torch.Tensor, Tuple]):\n",
    "#         # Handle target format\n",
    "#         if isinstance(target, (tuple, list)):\n",
    "#             target = target[0]\n",
    "            \n",
    "#         # Compute standard quantile loss\n",
    "#         qloss = super().forward(y_pred, target)\n",
    "        \n",
    "#         # Extract median prediction\n",
    "#         median = self._extract_median(y_pred)\n",
    "        \n",
    "#         # Ensure target and median have compatible shapes\n",
    "#         target = self._align_target_shape(target, median)\n",
    "        \n",
    "#         # Compute RMSE\n",
    "#         rmse = F.mse_loss(median, target, reduction=\"mean\").sqrt()\n",
    "        \n",
    "#         # Compute standard deviation penalty (encourage variability)\n",
    "#         std_penalty = self._compute_std_penalty(median)\n",
    "        \n",
    "#         # Compute gradient penalty (encourage smoothness but not flatness)\n",
    "#         gradient_penalty = self._compute_gradient_penalty(median)\n",
    "        \n",
    "#         # Combine all losses\n",
    "#         total_loss = (qloss + \n",
    "#                      self.rmse_weight * rmse + \n",
    "#                      self.std_penalty_weight * std_penalty +\n",
    "#                      self.gradient_penalty_weight * gradient_penalty)\n",
    "        \n",
    "#         return total_loss\n",
    "    \n",
    "#     def _extract_median(self, y_pred: torch.Tensor) -> torch.Tensor:\n",
    "#         \"\"\"Extract median prediction from quantile output.\"\"\"\n",
    "#         if y_pred.dim() == 3:\n",
    "#             if y_pred.size(1) == len(self.quantiles):\n",
    "#                 return y_pred[:, self._median_idx, :]\n",
    "#             else:\n",
    "#                 return y_pred[:, :, self._median_idx]\n",
    "#         else:\n",
    "#             raise ValueError(\"y_pred must be a 3D tensor\")\n",
    "    \n",
    "#     def _align_target_shape(self, target: torch.Tensor, median: torch.Tensor) -> torch.Tensor:\n",
    "#         \"\"\"Align target shape with median prediction.\"\"\"\n",
    "#         if median.dim() == 2 and target.dim() == 3 and target.size(-1) == 1:\n",
    "#             return target.squeeze(-1)\n",
    "#         return target\n",
    "    \n",
    "#     def _compute_std_penalty(self, predictions: torch.Tensor) -> torch.Tensor:\n",
    "#         \"\"\"Penalize low standard deviation to encourage variability.\"\"\"\n",
    "#         # Compute std along time dimension for each batch\n",
    "#         std_vals = torch.std(predictions, dim=-1, keepdim=False)\n",
    "#         # Penalty increases as std approaches zero\n",
    "#         penalty = torch.exp(-std_vals / self.min_std_threshold)\n",
    "#         return penalty.mean()\n",
    "    \n",
    "#     def _compute_gradient_penalty(self, predictions: torch.Tensor) -> torch.Tensor:\n",
    "#         \"\"\"Encourage smooth but non-flat gradients.\"\"\"\n",
    "#         # Compute first-order differences (gradients)\n",
    "#         gradients = predictions[:, 1:] - predictions[:, :-1]\n",
    "#         # Compute second-order differences (curvature)\n",
    "#         second_gradients = gradients[:, 1:] - gradients[:, :-1]\n",
    "        \n",
    "#         # Penalize zero gradients (flatness) but encourage smooth changes\n",
    "#         gradient_penalty = torch.exp(-torch.abs(gradients).mean())\n",
    "#         curvature_regularization = torch.abs(second_gradients).mean()\n",
    "        \n",
    "#         return gradient_penalty + 0.1 * curvature_regularization"
   ]
  },
  {
   "cell_type": "markdown",
   "id": "ab7c9900-1522-4362-822a-098cb3550966",
   "metadata": {},
   "source": [
    "---\n",
    "## 7. Model, Callbacks, Trainer, and Optimizer Customization\n",
    "\n",
    "In this section, we finalize our TFT model setup and training configuration, including:\n",
    "\n",
    "1. **Model definition** with quantile loss  \n",
    "2. **Callback setup** for early stopping, checkpointing, and LR logging  \n",
    "3. **Trainer configuration** with mixed precision, gradient clipping, and validation schedule  \n",
    "4. **Custom optimizer and scheduler** bound to the TFT instance"
   ]
  },
  {
   "cell_type": "markdown",
   "id": "0b1cc4e5-6537-421b-acdf-b08bdea5ad2c",
   "metadata": {},
   "source": [
    "### 7.1 Instantiate Final TFT Model\n",
    "**Why this step is important:**  \n",
    "This step defines the actual architecture used for training. It includes the number of LSTM layers, hidden sizes, dropout, and the choice of loss function — all of which determine the model’s capacity, regularization, and optimization objective."
   ]
  },
  {
   "cell_type": "code",
   "execution_count": 106,
   "id": "716d59ec-6168-4a97-91a6-ab5e27e6591c",
   "metadata": {},
   "outputs": [],
   "source": [
    "# Optional: experimental loss (not used in final run)\n",
    "# loss_fn = EnhancedQuantileRMSELoss(\n",
    "#     quantiles=[0.1, 0.5, 0.9],\n",
    "#     rmse_weight=0.1,\n",
    "#     std_penalty_weight=0.05,\n",
    "#     gradient_penalty_weight=0.02,\n",
    "#     min_std_threshold=1e-3\n",
    "# )\n",
    "\n",
    "# Instantiate Temporal Fusion Transformer model\n",
    "tft = TemporalFusionTransformer.from_dataset(\n",
    "    train_ds,\n",
    "    learning_rate=0.001,  # Initial learning rate\n",
    "    hidden_size=32,  # Size of LSTM and attention layers\n",
    "    hidden_continuous_size=8,  # Internal size for continuous variables, should be <= hidden size\n",
    "    lstm_layers=2,  # Number of LSTM layers (recommended 2 by pytorch document)\n",
    "    dropout=0.2,  # Dropout for regularization (recommended 0.1-0.3 by pytorch document)\n",
    "    loss=QuantileLoss(quantiles=[0.1, 0.5, 0.9]),  # Quantile regression loss\n",
    "    output_size=3,  # One output per quantile\n",
    "    weight_decay=1e-4,  # L2 regularization strength\n",
    "    reduce_on_plateau_patience=0,  # Disable internal LR scheduling, we will use or\n",
    ")"
   ]
  },
  {
   "cell_type": "markdown",
   "id": "a3dea4e8-eab6-433d-9583-e589a6d18cda",
   "metadata": {},
   "source": [
    "### 7.2 Set Up Callbacks\n",
    "\n",
    "**Why this step is important:**  \n",
    "Callbacks automate critical training events such as saving the best model, stopping early to prevent overfitting, and tracking learning rate schedules — saving time and avoiding manual errors.\n"
   ]
  },
  {
   "cell_type": "code",
   "execution_count": 107,
   "id": "681d2c42-8124-4752-bd2e-2a2155b19461",
   "metadata": {},
   "outputs": [],
   "source": [
    "callbacks = [\n",
    "    EarlyStopping(\n",
    "        monitor=\"val_loss\",  # Watch validation loss for improvements\n",
    "        patience=15,  # Stop training if no improvement for 15 validation checks\n",
    "        min_delta=0.003,  # Minimum change in val_loss to qualify as improvement\n",
    "        mode=\"min\",  # Lower val_loss is better\n",
    "        verbose=True,  # Print early stopping messages\n",
    "    ),\n",
    "    LearningRateMonitor(),  # Log learning rate at each step (helps with debugging/tracking)\n",
    "    ModelCheckpoint(\n",
    "        dirpath=\"./saved_models\",  # Folder to save model checkpoints\n",
    "        filename=\"best-model-{epoch}-{val_loss:.4f}\",  # File naming format\n",
    "        monitor=\"val_loss\",  # Save the model with the lowest val_loss\n",
    "        save_top_k=1,  # Keep only the best model\n",
    "        mode=\"min\",  # Lower val_loss is better\n",
    "        save_last=True,  # Also save the final model from the last epoch\n",
    "        verbose=True,  # Print checkpoint saving messages\n",
    "    ),\n",
    "]"
   ]
  },
  {
   "cell_type": "markdown",
   "id": "078dc218-6a62-462f-896a-b4f1f18c8ba2",
   "metadata": {},
   "source": [
    "- **EarlyStopping**: Stops training when validation loss plateaus for 15 checks.\n",
    "- **LearningRateMonitor**: Logs learning rate for better visibility.\n",
    "- **ModelCheckpoint**: Saves best and last models by validation loss."
   ]
  },
  {
   "cell_type": "markdown",
   "id": "43a46233-ff72-44b9-9fde-e1b4cc3b9dab",
   "metadata": {},
   "source": [
    "### 7.3 Configure the Trainer\n",
    "\n",
    "**Why this step is important:**  \n",
    "This is the engine that runs the training loop. Here, we specify whether to use GPU, how long to train, when to validate, and whether to clip gradients. These settings influence speed, stability, and resource efficiency.\n"
   ]
  },
  {
   "cell_type": "code",
   "execution_count": 108,
   "id": "3daf0d2e-2c1f-495d-baa8-4a2c32be7b66",
   "metadata": {},
   "outputs": [
    {
     "name": "stderr",
     "output_type": "stream",
     "text": [
      "Using bfloat16 Automatic Mixed Precision (AMP)\n",
      "GPU available: True (cuda), used: True\n",
      "TPU available: False, using: 0 TPU cores\n",
      "HPU available: False, using: 0 HPUs\n"
     ]
    }
   ],
   "source": [
    "trainer = pl.Trainer(\n",
    "    max_epochs=100,  # Upper limit on training epochs\n",
    "    accelerator=\"gpu\",  # Use GPU acceleration\n",
    "    devices=1,  # Use a single GPU\n",
    "    precision=\"bf16-mixed\",  # Use mixed-precision with bfloat16 for faster training (if supported)\n",
    "    gradient_clip_val=0.5,  # Prevent exploding gradients by clipping them\n",
    "    callbacks=callbacks,  # Attach previously defined callbacks\n",
    "    accumulate_grad_batches=1,  # No gradient accumulation\n",
    "    deterministic=False,  # Allow non-deterministic ops for faster training\n",
    "    enable_progress_bar=True,  # Show training progress\n",
    "    val_check_interval=0.5,  # Run validation twice per epoch (e.g., at 50% and 100%)\n",
    ")"
   ]
  },
  {
   "cell_type": "markdown",
   "id": "7034dc39-0ace-434b-aa72-7b2b37c8c77a",
   "metadata": {},
   "source": [
    "- **bf16-mixed precision** accelerates training on supported GPUs (e.g., A100, 4090).\n",
    "- **Gradient clipping** improves stability on spiky updates.\n",
    "- **Validation every half epoch** gives more frequent feedback during long training runs."
   ]
  },
  {
   "cell_type": "markdown",
   "id": "fbadbd6b-302f-4002-806c-60933781220e",
   "metadata": {},
   "source": [
    "### 7.4 Bind a Custom Optimizer and Learning Rate Scheduler\n",
    "\n",
    "**Why this step is important:**  \n",
    "TFT has complex dynamics, especially with LSTM layers. A well-chosen optimizer (AdamW) and scheduler (ReduceLROnPlateau) can **stabilize training**, prevent overshooting, and adapt learning rate if performance plateaus — often improving convergence and generalization.\n"
   ]
  },
  {
   "cell_type": "code",
   "execution_count": 19,
   "id": "10a85c65-fe5d-4059-9bb8-ffcd85400547",
   "metadata": {},
   "outputs": [],
   "source": [
    "def configure_optimizers_fix(self):\n",
    "    optimizer = AdamW(\n",
    "        self.parameters(),\n",
    "        lr=0.001,  # Starting learning rate\n",
    "        weight_decay=1e-4,  # Regularization term\n",
    "        eps=1e-6,  # Small constant for numerical stability\n",
    "    )\n",
    "\n",
    "    scheduler = ReduceLROnPlateau(\n",
    "        optimizer,\n",
    "        mode=\"min\",  # Reduce LR if val_loss stops decreasing\n",
    "        factor=0.7,  # Shrink LR by 30% on plateau\n",
    "        patience=8,  # Wait for 8 epochs of no improvement\n",
    "        min_lr=1e-6,  # Set a lower bound on learning rate\n",
    "    )\n",
    "\n",
    "    return {\n",
    "        \"optimizer\": optimizer,\n",
    "        \"lr_scheduler\": {\n",
    "            \"scheduler\": scheduler,\n",
    "            \"monitor\": \"val_loss\",  # Validation loss guides learning rate updates\n",
    "            \"interval\": \"epoch\",  # Check once every epoch\n",
    "            \"frequency\": 1,  # Apply scheduler every epoch\n",
    "        },\n",
    "    }\n",
    "\n",
    "\n",
    "# Bind the optimizer/scheduler to the model\n",
    "tft.configure_optimizers = configure_optimizers_fix.__get__(tft, type(tft))\n"
   ]
  },
  {
   "cell_type": "markdown",
   "id": "eb615011-0dd3-4cff-80a6-4b17d1b35ffe",
   "metadata": {},
   "source": [
    "> This is dynamically bound to the TFT instance to override its default optimizer logic."
   ]
  },
  {
   "cell_type": "markdown",
   "id": "19b923fb-f5cd-498b-8c01-37556a608872",
   "metadata": {},
   "source": [
    "### Final Notes\n",
    "\n",
    "Each step above ensures that our model:\n",
    "\n",
    "- Is well-structured and regularized (`7.1`)\n",
    "- Is safely and automatically monitored during training (`7.2`)\n",
    "- Is efficiently trained using the right hardware and schedules (`7.3`)\n",
    "- Learns using a flexible and adaptive optimization strategy (`7.4`)\n",
    "\n",
    "Together, they enable a stable, traceable, and efficient training pipeline for probabilistic forecasting using Temporal Fusion Transformer.\n",
    "---"
   ]
  },
  {
   "cell_type": "markdown",
   "id": "b2dfac1d-556b-4bb2-8c5a-55fb0c192e9c",
   "metadata": {},
   "source": [
    "## 7. Fit the model with datalaoders"
   ]
  },
  {
   "cell_type": "code",
   "execution_count": 20,
   "id": "86e917cf-98fc-42b4-9da5-49bde2054750",
   "metadata": {},
   "outputs": [
    {
     "name": "stderr",
     "output_type": "stream",
     "text": [
      "C:\\Users\\davyx\\anaconda3\\envs\\satcast\\Lib\\site-packages\\lightning\\pytorch\\callbacks\\model_checkpoint.py:654: Checkpoint directory C:\\Users\\davyx\\桌面\\学习\\Capstone_SatCast_Trilemma\\analysis\\saved_models exists and is not empty.\n",
      "LOCAL_RANK: 0 - CUDA_VISIBLE_DEVICES: [0]\n",
      "\n",
      "   | Name                               | Type                            | Params | Mode \n",
      "------------------------------------------------------------------------------------------------\n",
      "0  | loss                               | QuantileLoss                    | 0      | train\n",
      "1  | logging_metrics                    | ModuleList                      | 0      | train\n",
      "2  | input_embeddings                   | MultiEmbedding                  | 20     | train\n",
      "3  | prescalers                         | ModuleDict                      | 1.1 K  | train\n",
      "4  | static_variable_selection          | VariableSelectionNetwork        | 3.0 K  | train\n",
      "5  | encoder_variable_selection         | VariableSelectionNetwork        | 79.2 K | train\n",
      "6  | decoder_variable_selection         | VariableSelectionNetwork        | 6.0 K  | train\n",
      "7  | static_context_variable_selection  | GatedResidualNetwork            | 4.3 K  | train\n",
      "8  | static_context_initial_hidden_lstm | GatedResidualNetwork            | 4.3 K  | train\n",
      "9  | static_context_initial_cell_lstm   | GatedResidualNetwork            | 4.3 K  | train\n",
      "10 | static_context_enrichment          | GatedResidualNetwork            | 4.3 K  | train\n",
      "11 | lstm_encoder                       | LSTM                            | 16.9 K | train\n",
      "12 | lstm_decoder                       | LSTM                            | 16.9 K | train\n",
      "13 | post_lstm_gate_encoder             | GatedLinearUnit                 | 2.1 K  | train\n",
      "14 | post_lstm_add_norm_encoder         | AddNorm                         | 64     | train\n",
      "15 | static_enrichment                  | GatedResidualNetwork            | 5.3 K  | train\n",
      "16 | multihead_attn                     | InterpretableMultiHeadAttention | 2.6 K  | train\n",
      "17 | post_attn_gate_norm                | GateAddNorm                     | 2.2 K  | train\n",
      "18 | pos_wise_ff                        | GatedResidualNetwork            | 4.3 K  | train\n",
      "19 | pre_output_gate_norm               | GateAddNorm                     | 2.2 K  | train\n",
      "20 | output_layer                       | Linear                          | 99     | train\n",
      "------------------------------------------------------------------------------------------------\n",
      "157 K     Trainable params\n",
      "0         Non-trainable params\n",
      "157 K     Total params\n",
      "0.632     Total estimated model params size (MB)\n",
      "1240      Modules in train mode\n",
      "0         Modules in eval mode\n"
     ]
    },
    {
     "data": {
      "application/vnd.jupyter.widget-view+json": {
       "model_id": "8445aeb845d94b7a8cbb57cd384cb286",
       "version_major": 2,
       "version_minor": 0
      },
      "text/plain": [
       "Sanity Checking: |                                                                               | 0/? [00:00<…"
      ]
     },
     "metadata": {},
     "output_type": "display_data"
    },
    {
     "name": "stderr",
     "output_type": "stream",
     "text": [
      "C:\\Users\\davyx\\anaconda3\\envs\\satcast\\Lib\\site-packages\\lightning\\pytorch\\trainer\\connectors\\data_connector.py:419: Consider setting `persistent_workers=True` in 'val_dataloader' to speed up the dataloader worker initialization.\n",
      "C:\\Users\\davyx\\anaconda3\\envs\\satcast\\Lib\\site-packages\\lightning\\pytorch\\trainer\\connectors\\data_connector.py:419: Consider setting `persistent_workers=True` in 'train_dataloader' to speed up the dataloader worker initialization.\n"
     ]
    },
    {
     "data": {
      "application/vnd.jupyter.widget-view+json": {
       "model_id": "84a80879905e4fa4bc5080ef14faba04",
       "version_major": 2,
       "version_minor": 0
      },
      "text/plain": [
       "Training: |                                                                                      | 0/? [00:00<…"
      ]
     },
     "metadata": {},
     "output_type": "display_data"
    },
    {
     "data": {
      "application/vnd.jupyter.widget-view+json": {
       "model_id": "de12cd026f4648108bb25f4d3b325ea2",
       "version_major": 2,
       "version_minor": 0
      },
      "text/plain": [
       "Validation: |                                                                                    | 0/? [00:00<…"
      ]
     },
     "metadata": {},
     "output_type": "display_data"
    },
    {
     "name": "stderr",
     "output_type": "stream",
     "text": [
      "Metric val_loss improved. New best score: 0.359\n",
      "Epoch 0, global step 302: 'val_loss' reached 0.35874 (best 0.35874), saving model to 'C:\\\\Users\\\\davyx\\\\桌面\\\\学习\\\\Capstone_SatCast_Trilemma\\\\analysis\\\\saved_models\\\\best-model-epoch=0-val_loss=0.3587.ckpt' as top 1\n"
     ]
    },
    {
     "data": {
      "application/vnd.jupyter.widget-view+json": {
       "model_id": "d36a35bf404b43eca3f5861cd6fd2796",
       "version_major": 2,
       "version_minor": 0
      },
      "text/plain": [
       "Validation: |                                                                                    | 0/? [00:00<…"
      ]
     },
     "metadata": {},
     "output_type": "display_data"
    },
    {
     "name": "stderr",
     "output_type": "stream",
     "text": [
      "Epoch 0, global step 604: 'val_loss' was not in top 1\n"
     ]
    },
    {
     "data": {
      "application/vnd.jupyter.widget-view+json": {
       "model_id": "3ac319af1c42457ca06720f2d41bd74e",
       "version_major": 2,
       "version_minor": 0
      },
      "text/plain": [
       "Validation: |                                                                                    | 0/? [00:00<…"
      ]
     },
     "metadata": {},
     "output_type": "display_data"
    },
    {
     "name": "stderr",
     "output_type": "stream",
     "text": [
      "Metric val_loss improved by 0.067 >= min_delta = 0.003. New best score: 0.292\n",
      "Epoch 1, global step 906: 'val_loss' reached 0.29203 (best 0.29203), saving model to 'C:\\\\Users\\\\davyx\\\\桌面\\\\学习\\\\Capstone_SatCast_Trilemma\\\\analysis\\\\saved_models\\\\best-model-epoch=1-val_loss=0.2920.ckpt' as top 1\n"
     ]
    },
    {
     "data": {
      "application/vnd.jupyter.widget-view+json": {
       "model_id": "89006310240d482db22d3863f98f723f",
       "version_major": 2,
       "version_minor": 0
      },
      "text/plain": [
       "Validation: |                                                                                    | 0/? [00:00<…"
      ]
     },
     "metadata": {},
     "output_type": "display_data"
    },
    {
     "name": "stderr",
     "output_type": "stream",
     "text": [
      "Epoch 1, global step 1208: 'val_loss' was not in top 1\n"
     ]
    },
    {
     "data": {
      "application/vnd.jupyter.widget-view+json": {
       "model_id": "3216e4b699f34f46b065ceb07ca5b270",
       "version_major": 2,
       "version_minor": 0
      },
      "text/plain": [
       "Validation: |                                                                                    | 0/? [00:00<…"
      ]
     },
     "metadata": {},
     "output_type": "display_data"
    },
    {
     "name": "stderr",
     "output_type": "stream",
     "text": [
      "Metric val_loss improved by 0.045 >= min_delta = 0.003. New best score: 0.247\n",
      "Epoch 2, global step 1510: 'val_loss' reached 0.24745 (best 0.24745), saving model to 'C:\\\\Users\\\\davyx\\\\桌面\\\\学习\\\\Capstone_SatCast_Trilemma\\\\analysis\\\\saved_models\\\\best-model-epoch=2-val_loss=0.2474.ckpt' as top 1\n"
     ]
    },
    {
     "data": {
      "application/vnd.jupyter.widget-view+json": {
       "model_id": "d7881277276f4820902e4a133a433d45",
       "version_major": 2,
       "version_minor": 0
      },
      "text/plain": [
       "Validation: |                                                                                    | 0/? [00:00<…"
      ]
     },
     "metadata": {},
     "output_type": "display_data"
    },
    {
     "name": "stderr",
     "output_type": "stream",
     "text": [
      "Epoch 2, global step 1812: 'val_loss' was not in top 1\n"
     ]
    },
    {
     "data": {
      "application/vnd.jupyter.widget-view+json": {
       "model_id": "ad3198943dac4965ac728aef3be10370",
       "version_major": 2,
       "version_minor": 0
      },
      "text/plain": [
       "Validation: |                                                                                    | 0/? [00:00<…"
      ]
     },
     "metadata": {},
     "output_type": "display_data"
    },
    {
     "name": "stderr",
     "output_type": "stream",
     "text": [
      "Epoch 3, global step 2114: 'val_loss' was not in top 1\n"
     ]
    },
    {
     "data": {
      "application/vnd.jupyter.widget-view+json": {
       "model_id": "4d37b3f318b442a281098c39b770409d",
       "version_major": 2,
       "version_minor": 0
      },
      "text/plain": [
       "Validation: |                                                                                    | 0/? [00:00<…"
      ]
     },
     "metadata": {},
     "output_type": "display_data"
    },
    {
     "name": "stderr",
     "output_type": "stream",
     "text": [
      "Epoch 3, global step 2416: 'val_loss' was not in top 1\n"
     ]
    },
    {
     "data": {
      "application/vnd.jupyter.widget-view+json": {
       "model_id": "70f00615d28e4d35a78bf1fa2360830d",
       "version_major": 2,
       "version_minor": 0
      },
      "text/plain": [
       "Validation: |                                                                                    | 0/? [00:00<…"
      ]
     },
     "metadata": {},
     "output_type": "display_data"
    },
    {
     "name": "stderr",
     "output_type": "stream",
     "text": [
      "Epoch 4, global step 2718: 'val_loss' was not in top 1\n"
     ]
    },
    {
     "data": {
      "application/vnd.jupyter.widget-view+json": {
       "model_id": "fd3bd39612584251a4c5da960a886b4d",
       "version_major": 2,
       "version_minor": 0
      },
      "text/plain": [
       "Validation: |                                                                                    | 0/? [00:00<…"
      ]
     },
     "metadata": {},
     "output_type": "display_data"
    },
    {
     "name": "stderr",
     "output_type": "stream",
     "text": [
      "Epoch 4, global step 3020: 'val_loss' was not in top 1\n"
     ]
    },
    {
     "data": {
      "application/vnd.jupyter.widget-view+json": {
       "model_id": "175c173ef93241f9b2f770dc40e05123",
       "version_major": 2,
       "version_minor": 0
      },
      "text/plain": [
       "Validation: |                                                                                    | 0/? [00:00<…"
      ]
     },
     "metadata": {},
     "output_type": "display_data"
    },
    {
     "name": "stderr",
     "output_type": "stream",
     "text": [
      "Metric val_loss improved by 0.030 >= min_delta = 0.003. New best score: 0.218\n",
      "Epoch 5, global step 3322: 'val_loss' reached 0.21792 (best 0.21792), saving model to 'C:\\\\Users\\\\davyx\\\\桌面\\\\学习\\\\Capstone_SatCast_Trilemma\\\\analysis\\\\saved_models\\\\best-model-epoch=5-val_loss=0.2179.ckpt' as top 1\n"
     ]
    },
    {
     "data": {
      "application/vnd.jupyter.widget-view+json": {
       "model_id": "a2c8e32107d84b35b366c95db108ada3",
       "version_major": 2,
       "version_minor": 0
      },
      "text/plain": [
       "Validation: |                                                                                    | 0/? [00:00<…"
      ]
     },
     "metadata": {},
     "output_type": "display_data"
    },
    {
     "name": "stderr",
     "output_type": "stream",
     "text": [
      "Epoch 5, global step 3624: 'val_loss' was not in top 1\n"
     ]
    },
    {
     "data": {
      "application/vnd.jupyter.widget-view+json": {
       "model_id": "abec4c7d045e44fca976c19c3f250724",
       "version_major": 2,
       "version_minor": 0
      },
      "text/plain": [
       "Validation: |                                                                                    | 0/? [00:00<…"
      ]
     },
     "metadata": {},
     "output_type": "display_data"
    },
    {
     "name": "stderr",
     "output_type": "stream",
     "text": [
      "Epoch 6, global step 3926: 'val_loss' was not in top 1\n"
     ]
    },
    {
     "data": {
      "application/vnd.jupyter.widget-view+json": {
       "model_id": "81780cb353f941dc83356bcab607b9fb",
       "version_major": 2,
       "version_minor": 0
      },
      "text/plain": [
       "Validation: |                                                                                    | 0/? [00:00<…"
      ]
     },
     "metadata": {},
     "output_type": "display_data"
    },
    {
     "name": "stderr",
     "output_type": "stream",
     "text": [
      "Epoch 6, global step 4228: 'val_loss' was not in top 1\n"
     ]
    },
    {
     "data": {
      "application/vnd.jupyter.widget-view+json": {
       "model_id": "ddb862c2a4184b49a9b6325b52e9ad2d",
       "version_major": 2,
       "version_minor": 0
      },
      "text/plain": [
       "Validation: |                                                                                    | 0/? [00:00<…"
      ]
     },
     "metadata": {},
     "output_type": "display_data"
    },
    {
     "name": "stderr",
     "output_type": "stream",
     "text": [
      "Epoch 7, global step 4530: 'val_loss' was not in top 1\n"
     ]
    },
    {
     "data": {
      "application/vnd.jupyter.widget-view+json": {
       "model_id": "b8adac53bd4742eaa6829281a6cec152",
       "version_major": 2,
       "version_minor": 0
      },
      "text/plain": [
       "Validation: |                                                                                    | 0/? [00:00<…"
      ]
     },
     "metadata": {},
     "output_type": "display_data"
    },
    {
     "name": "stderr",
     "output_type": "stream",
     "text": [
      "Metric val_loss improved by 0.007 >= min_delta = 0.003. New best score: 0.211\n",
      "Epoch 7, global step 4832: 'val_loss' reached 0.21092 (best 0.21092), saving model to 'C:\\\\Users\\\\davyx\\\\桌面\\\\学习\\\\Capstone_SatCast_Trilemma\\\\analysis\\\\saved_models\\\\best-model-epoch=7-val_loss=0.2109.ckpt' as top 1\n"
     ]
    },
    {
     "data": {
      "application/vnd.jupyter.widget-view+json": {
       "model_id": "a53b2fe702f24b3097339850b4e5a155",
       "version_major": 2,
       "version_minor": 0
      },
      "text/plain": [
       "Validation: |                                                                                    | 0/? [00:00<…"
      ]
     },
     "metadata": {},
     "output_type": "display_data"
    },
    {
     "name": "stderr",
     "output_type": "stream",
     "text": [
      "Epoch 8, global step 5134: 'val_loss' reached 0.20921 (best 0.20921), saving model to 'C:\\\\Users\\\\davyx\\\\桌面\\\\学习\\\\Capstone_SatCast_Trilemma\\\\analysis\\\\saved_models\\\\best-model-epoch=8-val_loss=0.2092.ckpt' as top 1\n"
     ]
    },
    {
     "data": {
      "application/vnd.jupyter.widget-view+json": {
       "model_id": "25745bce08cc40d9998260c4f5700a55",
       "version_major": 2,
       "version_minor": 0
      },
      "text/plain": [
       "Validation: |                                                                                    | 0/? [00:00<…"
      ]
     },
     "metadata": {},
     "output_type": "display_data"
    },
    {
     "name": "stderr",
     "output_type": "stream",
     "text": [
      "Metric val_loss improved by 0.007 >= min_delta = 0.003. New best score: 0.204\n",
      "Epoch 8, global step 5436: 'val_loss' reached 0.20437 (best 0.20437), saving model to 'C:\\\\Users\\\\davyx\\\\桌面\\\\学习\\\\Capstone_SatCast_Trilemma\\\\analysis\\\\saved_models\\\\best-model-epoch=8-val_loss=0.2044.ckpt' as top 1\n"
     ]
    },
    {
     "data": {
      "application/vnd.jupyter.widget-view+json": {
       "model_id": "7d88d557aea54ff4b30bd0a7f8fe06b2",
       "version_major": 2,
       "version_minor": 0
      },
      "text/plain": [
       "Validation: |                                                                                    | 0/? [00:00<…"
      ]
     },
     "metadata": {},
     "output_type": "display_data"
    },
    {
     "name": "stderr",
     "output_type": "stream",
     "text": [
      "Epoch 9, global step 5738: 'val_loss' was not in top 1\n"
     ]
    },
    {
     "data": {
      "application/vnd.jupyter.widget-view+json": {
       "model_id": "38a580d5b52a474f9a3eb55e7a26976b",
       "version_major": 2,
       "version_minor": 0
      },
      "text/plain": [
       "Validation: |                                                                                    | 0/? [00:00<…"
      ]
     },
     "metadata": {},
     "output_type": "display_data"
    },
    {
     "name": "stderr",
     "output_type": "stream",
     "text": [
      "Metric val_loss improved by 0.008 >= min_delta = 0.003. New best score: 0.197\n",
      "Epoch 9, global step 6040: 'val_loss' reached 0.19685 (best 0.19685), saving model to 'C:\\\\Users\\\\davyx\\\\桌面\\\\学习\\\\Capstone_SatCast_Trilemma\\\\analysis\\\\saved_models\\\\best-model-epoch=9-val_loss=0.1969.ckpt' as top 1\n"
     ]
    },
    {
     "data": {
      "application/vnd.jupyter.widget-view+json": {
       "model_id": "7df15e2066d646db8363ee76205174d0",
       "version_major": 2,
       "version_minor": 0
      },
      "text/plain": [
       "Validation: |                                                                                    | 0/? [00:00<…"
      ]
     },
     "metadata": {},
     "output_type": "display_data"
    },
    {
     "name": "stderr",
     "output_type": "stream",
     "text": [
      "Epoch 10, global step 6342: 'val_loss' was not in top 1\n"
     ]
    },
    {
     "data": {
      "application/vnd.jupyter.widget-view+json": {
       "model_id": "f44044138494425c8365f73134e12826",
       "version_major": 2,
       "version_minor": 0
      },
      "text/plain": [
       "Validation: |                                                                                    | 0/? [00:00<…"
      ]
     },
     "metadata": {},
     "output_type": "display_data"
    },
    {
     "name": "stderr",
     "output_type": "stream",
     "text": [
      "Epoch 10, global step 6644: 'val_loss' was not in top 1\n"
     ]
    },
    {
     "data": {
      "application/vnd.jupyter.widget-view+json": {
       "model_id": "0ff7185d21414cf898878b225a57f888",
       "version_major": 2,
       "version_minor": 0
      },
      "text/plain": [
       "Validation: |                                                                                    | 0/? [00:00<…"
      ]
     },
     "metadata": {},
     "output_type": "display_data"
    },
    {
     "name": "stderr",
     "output_type": "stream",
     "text": [
      "Epoch 11, global step 6946: 'val_loss' was not in top 1\n"
     ]
    },
    {
     "data": {
      "application/vnd.jupyter.widget-view+json": {
       "model_id": "fb3de65519f24d2d8c59406b70323843",
       "version_major": 2,
       "version_minor": 0
      },
      "text/plain": [
       "Validation: |                                                                                    | 0/? [00:00<…"
      ]
     },
     "metadata": {},
     "output_type": "display_data"
    },
    {
     "name": "stderr",
     "output_type": "stream",
     "text": [
      "Epoch 11, global step 7248: 'val_loss' was not in top 1\n"
     ]
    },
    {
     "data": {
      "application/vnd.jupyter.widget-view+json": {
       "model_id": "8a545087e71e4da989fc243d062f6108",
       "version_major": 2,
       "version_minor": 0
      },
      "text/plain": [
       "Validation: |                                                                                    | 0/? [00:00<…"
      ]
     },
     "metadata": {},
     "output_type": "display_data"
    },
    {
     "name": "stderr",
     "output_type": "stream",
     "text": [
      "Epoch 12, global step 7550: 'val_loss' was not in top 1\n"
     ]
    },
    {
     "data": {
      "application/vnd.jupyter.widget-view+json": {
       "model_id": "5e92c980d69b4172afeb791041df74e9",
       "version_major": 2,
       "version_minor": 0
      },
      "text/plain": [
       "Validation: |                                                                                    | 0/? [00:00<…"
      ]
     },
     "metadata": {},
     "output_type": "display_data"
    },
    {
     "name": "stderr",
     "output_type": "stream",
     "text": [
      "Epoch 12, global step 7852: 'val_loss' was not in top 1\n"
     ]
    },
    {
     "data": {
      "application/vnd.jupyter.widget-view+json": {
       "model_id": "fc8c860e71e44db9bd5d5d0e34875904",
       "version_major": 2,
       "version_minor": 0
      },
      "text/plain": [
       "Validation: |                                                                                    | 0/? [00:00<…"
      ]
     },
     "metadata": {},
     "output_type": "display_data"
    },
    {
     "name": "stderr",
     "output_type": "stream",
     "text": [
      "Epoch 13, global step 8154: 'val_loss' reached 0.19673 (best 0.19673), saving model to 'C:\\\\Users\\\\davyx\\\\桌面\\\\学习\\\\Capstone_SatCast_Trilemma\\\\analysis\\\\saved_models\\\\best-model-epoch=13-val_loss=0.1967.ckpt' as top 1\n"
     ]
    },
    {
     "data": {
      "application/vnd.jupyter.widget-view+json": {
       "model_id": "e62c7504bd8e4b42a6b8f836a9b2e3d8",
       "version_major": 2,
       "version_minor": 0
      },
      "text/plain": [
       "Validation: |                                                                                    | 0/? [00:00<…"
      ]
     },
     "metadata": {},
     "output_type": "display_data"
    },
    {
     "name": "stderr",
     "output_type": "stream",
     "text": [
      "Epoch 13, global step 8456: 'val_loss' was not in top 1\n"
     ]
    },
    {
     "data": {
      "application/vnd.jupyter.widget-view+json": {
       "model_id": "748ef9bb26944cbd868c9a6af1651640",
       "version_major": 2,
       "version_minor": 0
      },
      "text/plain": [
       "Validation: |                                                                                    | 0/? [00:00<…"
      ]
     },
     "metadata": {},
     "output_type": "display_data"
    },
    {
     "name": "stderr",
     "output_type": "stream",
     "text": [
      "Epoch 14, global step 8758: 'val_loss' was not in top 1\n"
     ]
    },
    {
     "data": {
      "application/vnd.jupyter.widget-view+json": {
       "model_id": "7de1abcf1b3f4cfea5c3771f082c58e3",
       "version_major": 2,
       "version_minor": 0
      },
      "text/plain": [
       "Validation: |                                                                                    | 0/? [00:00<…"
      ]
     },
     "metadata": {},
     "output_type": "display_data"
    },
    {
     "name": "stderr",
     "output_type": "stream",
     "text": [
      "Epoch 14, global step 9060: 'val_loss' was not in top 1\n"
     ]
    },
    {
     "data": {
      "application/vnd.jupyter.widget-view+json": {
       "model_id": "d90aa6421281451a9e355ff944fb85f5",
       "version_major": 2,
       "version_minor": 0
      },
      "text/plain": [
       "Validation: |                                                                                    | 0/? [00:00<…"
      ]
     },
     "metadata": {},
     "output_type": "display_data"
    },
    {
     "name": "stderr",
     "output_type": "stream",
     "text": [
      "Epoch 15, global step 9362: 'val_loss' was not in top 1\n"
     ]
    },
    {
     "data": {
      "application/vnd.jupyter.widget-view+json": {
       "model_id": "6b71154091d34bf9aa10b4b779c1afc5",
       "version_major": 2,
       "version_minor": 0
      },
      "text/plain": [
       "Validation: |                                                                                    | 0/? [00:00<…"
      ]
     },
     "metadata": {},
     "output_type": "display_data"
    },
    {
     "name": "stderr",
     "output_type": "stream",
     "text": [
      "Epoch 15, global step 9664: 'val_loss' was not in top 1\n"
     ]
    },
    {
     "data": {
      "application/vnd.jupyter.widget-view+json": {
       "model_id": "0925a0a31730468796bba883a96b38a3",
       "version_major": 2,
       "version_minor": 0
      },
      "text/plain": [
       "Validation: |                                                                                    | 0/? [00:00<…"
      ]
     },
     "metadata": {},
     "output_type": "display_data"
    },
    {
     "name": "stderr",
     "output_type": "stream",
     "text": [
      "Epoch 16, global step 9966: 'val_loss' was not in top 1\n"
     ]
    },
    {
     "data": {
      "application/vnd.jupyter.widget-view+json": {
       "model_id": "7ee939c2a3534dbab576bb3731dff9c1",
       "version_major": 2,
       "version_minor": 0
      },
      "text/plain": [
       "Validation: |                                                                                    | 0/? [00:00<…"
      ]
     },
     "metadata": {},
     "output_type": "display_data"
    },
    {
     "name": "stderr",
     "output_type": "stream",
     "text": [
      "Epoch 16, global step 10268: 'val_loss' was not in top 1\n"
     ]
    },
    {
     "data": {
      "application/vnd.jupyter.widget-view+json": {
       "model_id": "41c510adedac4d12aaa0664aaceb9614",
       "version_major": 2,
       "version_minor": 0
      },
      "text/plain": [
       "Validation: |                                                                                    | 0/? [00:00<…"
      ]
     },
     "metadata": {},
     "output_type": "display_data"
    },
    {
     "name": "stderr",
     "output_type": "stream",
     "text": [
      "Monitored metric val_loss did not improve in the last 15 records. Best score: 0.197. Signaling Trainer to stop.\n",
      "Epoch 17, global step 10570: 'val_loss' was not in top 1\n"
     ]
    }
   ],
   "source": [
    "trainer.fit(tft, train_dl, val_dl)"
   ]
  },
  {
   "cell_type": "markdown",
   "id": "c95097dd-d0b0-45d5-8dfe-0d6161bc4e74",
   "metadata": {},
   "source": [
    "## 8. Load the Best Trained Model from Checkpoint\n",
    "\n",
    "After training, we often want to **reload the best-performing model** for prediction, fine-tuning, or evaluation. PyTorch Lightning makes this straightforward via `.load_from_checkpoint()`.\n",
    "\n",
    "### Why This Step Is Important\n",
    "\n",
    "- **Ensures reproducibility**: You can restore exactly what was trained and evaluated.\n",
    "- **Avoids retraining**: Skip expensive training if the model has already converged.\n",
    "- **Supports inference and deployment**: Load the model directly on CPU or GPU for prediction.\n"
   ]
  },
  {
   "cell_type": "code",
   "execution_count": 118,
   "id": "a1dbb31a-1b8d-43b2-80cf-387e3977f55d",
   "metadata": {
    "scrolled": true
   },
   "outputs": [
    {
     "name": "stderr",
     "output_type": "stream",
     "text": [
      "C:\\Users\\davyx\\anaconda3\\envs\\satcast\\Lib\\site-packages\\lightning\\pytorch\\utilities\\parsing.py:208: Attribute 'loss' is an instance of `nn.Module` and is already saved during checkpointing. It is recommended to ignore them using `self.save_hyperparameters(ignore=['loss'])`.\n",
      "C:\\Users\\davyx\\anaconda3\\envs\\satcast\\Lib\\site-packages\\lightning\\pytorch\\utilities\\parsing.py:208: Attribute 'logging_metrics' is an instance of `nn.Module` and is already saved during checkpointing. It is recommended to ignore them using `self.save_hyperparameters(ignore=['logging_metrics'])`.\n"
     ]
    }
   ],
   "source": [
    "# Specify the checkpoint path — this file should match one saved by ModelCheckpoint\n",
    "ckpt_path = \"./saved_models/best-model-epoch=13-val_loss=0.1967.ckpt\"\n",
    "\n",
    "# Load the trained Temporal Fusion Transformer from checkpoint\n",
    "model = TemporalFusionTransformer.load_from_checkpoint(\n",
    "    checkpoint_path = ckpt_path,  # Full path to the saved .ckpt file\n",
    "    map_location    = \"cuda\"      # Load model onto GPU (\"cpu\" if no GPU available)\n",
    ")"
   ]
  },
  {
   "cell_type": "markdown",
   "id": "47ed8f93-f9c9-4e89-97a5-eed9dc64c9d0",
   "metadata": {},
   "source": [
    "### Notes\n",
    "\n",
    "- The checkpoint contains both the **model weights** and **hyperparameters**, so you don’t need to redefine the architecture manually.\n",
    "- You can use this model directly for forecasting using `.predict(...)`, or inspect it for further analysis.\n",
    "- Make sure the `map_location` matches your device setup (e.g., `\"cuda\"` if using GPU).\n",
    "\n",
    "This step completes the training lifecycle and prepares the model for downstream forecasting tasks.\n",
    "\n",
    "---"
   ]
  },
  {
   "cell_type": "markdown",
   "id": "47db7c88-4fda-487e-ae5a-91cdd94c9f63",
   "metadata": {},
   "source": [
    "## 9. Make Predictions with the Trained TFT Model\n",
    "\n",
    "In this step, we use the trained Temporal Fusion Transformer to generate forecasts for the final test period. This includes:\n",
    "- Constructing **encoder** and **decoder** inputs\n",
    "- Zeroing out future unknowns to simulate a real-world forecast\n",
    "- Running `.predict(...)` to generate quantile-based forecasts\n",
    "- Structuring output into a tidy `df_eval` DataFrame for evaluation or plotting\n",
    "\n",
    "### Why This Step Is Important\n",
    "\n",
    "- Ensures predictions are made using **only historical and known future data** — no leakage.\n",
    "- Mimics deployment conditions where future target and covariates are unavailable.\n",
    "- Helps assess the **quality and uncertainty** of forecasts using quantiles (0.1, 0.5, 0.9).\n"
   ]
  },
  {
   "cell_type": "code",
   "execution_count": 119,
   "id": "7996097f-b6a9-4d2e-bb1a-223e78607d73",
   "metadata": {},
   "outputs": [],
   "source": [
    "# Select encoder input: last `ENC_LEN` time steps before prediction starts\n",
    "encoder_data = df[\n",
    "    lambda x: (\n",
    "        (x.time_idx > x.time_idx.max() - PRED_STEPS - ENC_LEN)\n",
    "        & (x.time_idx <= x.time_idx.max() - PRED_STEPS)\n",
    "    )\n",
    "]\n",
    "\n",
    "# Select final known row (e.g., last day in validation period)\n",
    "last_data = df[lambda x: x.time_idx == x.time_idx.max() - PRED_STEPS]\n",
    "\n",
    "# Select decoder input: true test range (e.g., last 96 steps)\n",
    "decoder_data = df[lambda x: x.time_idx > last_idx].copy()\n",
    "\n",
    "# Save true target values for later comparison\n",
    "df_true = decoder_data.copy()\n",
    "\n",
    "# Columns to zero out (simulate unknown future inputs)\n",
    "cols_to_zero = [\"target\"] + real_covs\n",
    "decoder_data[cols_to_zero] = (\n",
    "    0  # Set target and unknown reals to zero (not known in future)\n",
    ")\n",
    "\n",
    "# Concatenate encoder and decoder to form complete input for prediction\n",
    "new_prediction_data = pd.concat([encoder_data, decoder_data], ignore_index=True)"
   ]
  },
  {
   "cell_type": "code",
   "execution_count": 120,
   "id": "12b0b05d-2b47-4873-8bca-88a19649e53e",
   "metadata": {},
   "outputs": [
    {
     "name": "stderr",
     "output_type": "stream",
     "text": [
      "GPU available: True (cuda), used: True\n",
      "TPU available: False, using: 0 TPU cores\n",
      "HPU available: False, using: 0 HPUs\n",
      "LOCAL_RANK: 0 - CUDA_VISIBLE_DEVICES: [0]\n",
      "C:\\Users\\davyx\\anaconda3\\envs\\satcast\\Lib\\site-packages\\lightning\\pytorch\\trainer\\connectors\\data_connector.py:424: The 'predict_dataloader' does not have many workers which may be a bottleneck. Consider increasing the value of the `num_workers` argument` to `num_workers=31` in the `DataLoader` to improve performance.\n"
     ]
    }
   ],
   "source": [
    "# Predict using the loaded TFT model\n",
    "pred = model.predict(\n",
    "    new_prediction_data,\n",
    "    mode=\"raw\",            # Return raw quantile outputs\n",
    "    return_index=True,     # Return index values for later merging\n",
    "    return_x=True,         # Return input data (x) as well\n",
    "    trainer_kwargs=dict(accelerator=\"gpu\")  # Use GPU for faster inference\n",
    ")"
   ]
  },
  {
   "cell_type": "code",
   "execution_count": 121,
   "id": "a94e81c3-2b63-4c1b-bcca-7ad6848dccbb",
   "metadata": {},
   "outputs": [
    {
     "data": {
      "text/html": [
       "<div>\n",
       "<style scoped>\n",
       "    .dataframe tbody tr th:only-of-type {\n",
       "        vertical-align: middle;\n",
       "    }\n",
       "\n",
       "    .dataframe tbody tr th {\n",
       "        vertical-align: top;\n",
       "    }\n",
       "\n",
       "    .dataframe thead th {\n",
       "        text-align: right;\n",
       "    }\n",
       "</style>\n",
       "<table border=\"1\" class=\"dataframe\">\n",
       "  <thead>\n",
       "    <tr style=\"text-align: right;\">\n",
       "      <th></th>\n",
       "      <th>timestamp</th>\n",
       "      <th>time_idx</th>\n",
       "      <th>series_id</th>\n",
       "      <th>y_true</th>\n",
       "      <th>y_pred_0_1</th>\n",
       "      <th>y_pred_0_5</th>\n",
       "      <th>y_pred_0_9</th>\n",
       "    </tr>\n",
       "  </thead>\n",
       "  <tbody>\n",
       "    <tr>\n",
       "      <th>3872</th>\n",
       "      <td>2025-04-14 10:00:00</td>\n",
       "      <td>3872</td>\n",
       "      <td>recommended_fee_economyFee</td>\n",
       "      <td>2.000000</td>\n",
       "      <td>1.334719</td>\n",
       "      <td>1.744658</td>\n",
       "      <td>3.089655</td>\n",
       "    </tr>\n",
       "    <tr>\n",
       "      <th>3873</th>\n",
       "      <td>2025-04-14 10:15:00</td>\n",
       "      <td>3873</td>\n",
       "      <td>recommended_fee_economyFee</td>\n",
       "      <td>2.000000</td>\n",
       "      <td>1.223352</td>\n",
       "      <td>1.627597</td>\n",
       "      <td>2.889691</td>\n",
       "    </tr>\n",
       "    <tr>\n",
       "      <th>3874</th>\n",
       "      <td>2025-04-14 10:30:00</td>\n",
       "      <td>3874</td>\n",
       "      <td>recommended_fee_economyFee</td>\n",
       "      <td>2.000000</td>\n",
       "      <td>1.127285</td>\n",
       "      <td>1.455303</td>\n",
       "      <td>2.540511</td>\n",
       "    </tr>\n",
       "    <tr>\n",
       "      <th>3875</th>\n",
       "      <td>2025-04-14 10:45:00</td>\n",
       "      <td>3875</td>\n",
       "      <td>recommended_fee_economyFee</td>\n",
       "      <td>1.666667</td>\n",
       "      <td>1.096270</td>\n",
       "      <td>1.371815</td>\n",
       "      <td>2.357823</td>\n",
       "    </tr>\n",
       "    <tr>\n",
       "      <th>3876</th>\n",
       "      <td>2025-04-14 11:00:00</td>\n",
       "      <td>3876</td>\n",
       "      <td>recommended_fee_economyFee</td>\n",
       "      <td>1.000000</td>\n",
       "      <td>1.077805</td>\n",
       "      <td>1.324783</td>\n",
       "      <td>2.265793</td>\n",
       "    </tr>\n",
       "    <tr>\n",
       "      <th>...</th>\n",
       "      <td>...</td>\n",
       "      <td>...</td>\n",
       "      <td>...</td>\n",
       "      <td>...</td>\n",
       "      <td>...</td>\n",
       "      <td>...</td>\n",
       "      <td>...</td>\n",
       "    </tr>\n",
       "    <tr>\n",
       "      <th>19835</th>\n",
       "      <td>2025-04-15 08:45:00</td>\n",
       "      <td>3963</td>\n",
       "      <td>recommended_fee_minimumFee</td>\n",
       "      <td>1.000000</td>\n",
       "      <td>0.963559</td>\n",
       "      <td>0.979365</td>\n",
       "      <td>1.026531</td>\n",
       "    </tr>\n",
       "    <tr>\n",
       "      <th>19836</th>\n",
       "      <td>2025-04-15 09:00:00</td>\n",
       "      <td>3964</td>\n",
       "      <td>recommended_fee_minimumFee</td>\n",
       "      <td>1.000000</td>\n",
       "      <td>0.963334</td>\n",
       "      <td>0.979169</td>\n",
       "      <td>1.026364</td>\n",
       "    </tr>\n",
       "    <tr>\n",
       "      <th>19837</th>\n",
       "      <td>2025-04-15 09:15:00</td>\n",
       "      <td>3965</td>\n",
       "      <td>recommended_fee_minimumFee</td>\n",
       "      <td>1.000000</td>\n",
       "      <td>0.963327</td>\n",
       "      <td>0.979099</td>\n",
       "      <td>1.025990</td>\n",
       "    </tr>\n",
       "    <tr>\n",
       "      <th>19838</th>\n",
       "      <td>2025-04-15 09:30:00</td>\n",
       "      <td>3966</td>\n",
       "      <td>recommended_fee_minimumFee</td>\n",
       "      <td>1.000000</td>\n",
       "      <td>0.963473</td>\n",
       "      <td>0.979361</td>\n",
       "      <td>1.026427</td>\n",
       "    </tr>\n",
       "    <tr>\n",
       "      <th>19839</th>\n",
       "      <td>2025-04-15 09:45:00</td>\n",
       "      <td>3967</td>\n",
       "      <td>recommended_fee_minimumFee</td>\n",
       "      <td>1.000000</td>\n",
       "      <td>0.963555</td>\n",
       "      <td>0.979407</td>\n",
       "      <td>1.026562</td>\n",
       "    </tr>\n",
       "  </tbody>\n",
       "</table>\n",
       "<p>480 rows × 7 columns</p>\n",
       "</div>"
      ],
      "text/plain": [
       "                timestamp  time_idx                   series_id    y_true  \\\n",
       "3872  2025-04-14 10:00:00      3872  recommended_fee_economyFee  2.000000   \n",
       "3873  2025-04-14 10:15:00      3873  recommended_fee_economyFee  2.000000   \n",
       "3874  2025-04-14 10:30:00      3874  recommended_fee_economyFee  2.000000   \n",
       "3875  2025-04-14 10:45:00      3875  recommended_fee_economyFee  1.666667   \n",
       "3876  2025-04-14 11:00:00      3876  recommended_fee_economyFee  1.000000   \n",
       "...                   ...       ...                         ...       ...   \n",
       "19835 2025-04-15 08:45:00      3963  recommended_fee_minimumFee  1.000000   \n",
       "19836 2025-04-15 09:00:00      3964  recommended_fee_minimumFee  1.000000   \n",
       "19837 2025-04-15 09:15:00      3965  recommended_fee_minimumFee  1.000000   \n",
       "19838 2025-04-15 09:30:00      3966  recommended_fee_minimumFee  1.000000   \n",
       "19839 2025-04-15 09:45:00      3967  recommended_fee_minimumFee  1.000000   \n",
       "\n",
       "       y_pred_0_1  y_pred_0_5  y_pred_0_9  \n",
       "3872     1.334719    1.744658    3.089655  \n",
       "3873     1.223352    1.627597    2.889691  \n",
       "3874     1.127285    1.455303    2.540511  \n",
       "3875     1.096270    1.371815    2.357823  \n",
       "3876     1.077805    1.324783    2.265793  \n",
       "...           ...         ...         ...  \n",
       "19835    0.963559    0.979365    1.026531  \n",
       "19836    0.963334    0.979169    1.026364  \n",
       "19837    0.963327    0.979099    1.025990  \n",
       "19838    0.963473    0.979361    1.026427  \n",
       "19839    0.963555    0.979407    1.026562  \n",
       "\n",
       "[480 rows x 7 columns]"
      ]
     },
     "execution_count": 121,
     "metadata": {},
     "output_type": "execute_result"
    }
   ],
   "source": [
    "# Shape: (batch, decoder_length)\n",
    "batch, pred_len = pred.x[\"decoder_time_idx\"].shape\n",
    "\n",
    "# Convert raw tensor to NumPy for post-processing\n",
    "pred_np = pred.output.prediction.detach().cpu().numpy()\n",
    "\n",
    "# Unpack each quantile (0.1, 0.5, 0.9)\n",
    "step_pred_0_1, step_pred_0_5, step_pred_0_9 = [\n",
    "    pred_np[:, :, q].reshape(-1) for q in range(3)\n",
    "]\n",
    "\n",
    "# Combine predictions with true values and metadata\n",
    "df_eval = pd.DataFrame(\n",
    "    dict(\n",
    "        timestamp=df_true[\"timestamp\"],\n",
    "        time_idx=df_true[\"time_idx\"],\n",
    "        series_id=decoder_data[\"series_id\"],\n",
    "        y_true=df_true[\"target\"],\n",
    "        y_pred_0_1=step_pred_0_1,\n",
    "        y_pred_0_5=step_pred_0_5,\n",
    "        y_pred_0_9=step_pred_0_9,\n",
    "    )\n",
    ")\n",
    "\n",
    "# Final output: ready for evaluation or visualization\n",
    "df_eval"
   ]
  },
  {
   "cell_type": "markdown",
   "id": "b6ab5bec-cb34-4ea2-9b6f-acca37295d57",
   "metadata": {},
   "source": [
    "### Summary\n",
    "\n",
    "This step completes the forecasting pipeline:\n",
    "- It uses true historical context (encoder)\n",
    "- It simulates unseen future conditions (decoder)\n",
    "- It generates **multi-quantile forecasts** to assess both accuracy and uncertainty\n",
    "\n",
    "We can now use `df_eval` for:\n",
    "- Plotting forecasts vs. actuals\n",
    "- Calculating metrics (e.g., pinball loss, RMSE)\n",
    "- Visual inspection of prediction confidence bands\n",
    "\n",
    "---"
   ]
  },
  {
   "cell_type": "markdown",
   "id": "550a819c-edc0-475a-ae89-a3d751a9e742",
   "metadata": {},
   "source": [
    "## 10. Evaluate Forecast Accuracy and Visualize Results\n",
    "\n",
    "After generating predictions with our trained Temporal Fusion Transformer, we now:\n",
    "\n",
    "1. **Compute evaluation metrics** like MAE, RMSE, and MAPE per series  \n",
    "2. **Visualize predicted vs. actual values** along with prediction intervals  \n",
    "3. Review model performance and **assess forecast uncertainty**"
   ]
  },
  {
   "cell_type": "markdown",
   "id": "2b1b3fc3-774d-4bb7-b277-1e7362be0028",
   "metadata": {},
   "source": [
    "### 10.1 Compute Evaluation Metrics (Per Series)\n",
    "\n",
    "**Why this step is important:**  \n",
    "Metrics help quantify how well the model is performing. Evaluating per `series_id` ensures we capture model quality across all partitions of the time series.\n"
   ]
  },
  {
   "cell_type": "code",
   "execution_count": 122,
   "id": "dfbb2de0-ec06-411a-bda3-e422ff158f6d",
   "metadata": {},
   "outputs": [
    {
     "name": "stderr",
     "output_type": "stream",
     "text": [
      "C:\\Users\\davyx\\AppData\\Local\\Temp\\ipykernel_29808\\3875382415.py:3: DeprecationWarning: DataFrameGroupBy.apply operated on the grouping columns. This behavior is deprecated, and in a future version of pandas the grouping columns will be excluded from the operation. Either pass `include_groups=False` to exclude the groupings or explicitly select the grouping columns after groupby to silence this warning.\n",
      "  .apply(\n"
     ]
    },
    {
     "data": {
      "text/html": [
       "<div>\n",
       "<style scoped>\n",
       "    .dataframe tbody tr th:only-of-type {\n",
       "        vertical-align: middle;\n",
       "    }\n",
       "\n",
       "    .dataframe tbody tr th {\n",
       "        vertical-align: top;\n",
       "    }\n",
       "\n",
       "    .dataframe thead th {\n",
       "        text-align: right;\n",
       "    }\n",
       "</style>\n",
       "<table border=\"1\" class=\"dataframe\">\n",
       "  <thead>\n",
       "    <tr style=\"text-align: right;\">\n",
       "      <th></th>\n",
       "      <th>series_id</th>\n",
       "      <th>MAE</th>\n",
       "      <th>RMSE</th>\n",
       "      <th>MAPE</th>\n",
       "    </tr>\n",
       "  </thead>\n",
       "  <tbody>\n",
       "    <tr>\n",
       "      <th>4</th>\n",
       "      <td>recommended_fee_minimumFee</td>\n",
       "      <td>0.019633</td>\n",
       "      <td>0.019694</td>\n",
       "      <td>1.963273</td>\n",
       "    </tr>\n",
       "    <tr>\n",
       "      <th>0</th>\n",
       "      <td>recommended_fee_economyFee</td>\n",
       "      <td>0.255220</td>\n",
       "      <td>0.345069</td>\n",
       "      <td>18.321833</td>\n",
       "    </tr>\n",
       "    <tr>\n",
       "      <th>3</th>\n",
       "      <td>recommended_fee_hourFee</td>\n",
       "      <td>0.667273</td>\n",
       "      <td>0.836140</td>\n",
       "      <td>51.706615</td>\n",
       "    </tr>\n",
       "    <tr>\n",
       "      <th>2</th>\n",
       "      <td>recommended_fee_halfHourFee</td>\n",
       "      <td>0.874412</td>\n",
       "      <td>1.101232</td>\n",
       "      <td>49.264723</td>\n",
       "    </tr>\n",
       "    <tr>\n",
       "      <th>1</th>\n",
       "      <td>recommended_fee_fastestFee</td>\n",
       "      <td>1.018017</td>\n",
       "      <td>1.321290</td>\n",
       "      <td>42.439540</td>\n",
       "    </tr>\n",
       "  </tbody>\n",
       "</table>\n",
       "</div>"
      ],
      "text/plain": [
       "                     series_id       MAE      RMSE       MAPE\n",
       "4   recommended_fee_minimumFee  0.019633  0.019694   1.963273\n",
       "0   recommended_fee_economyFee  0.255220  0.345069  18.321833\n",
       "3      recommended_fee_hourFee  0.667273  0.836140  51.706615\n",
       "2  recommended_fee_halfHourFee  0.874412  1.101232  49.264723\n",
       "1   recommended_fee_fastestFee  1.018017  1.321290  42.439540"
      ]
     },
     "execution_count": 122,
     "metadata": {},
     "output_type": "execute_result"
    }
   ],
   "source": [
    "metrics_per_sid = (\n",
    "    df_eval.groupby(\"series_id\")\n",
    "    .apply(\n",
    "        lambda g: pd.Series(\n",
    "            {\n",
    "                \"MAE\": np.abs(g.y_pred_0_5 - g.y_true).mean(),  # Mean Absolute Error\n",
    "                \"RMSE\": np.sqrt(\n",
    "                    ((g.y_pred_0_5 - g.y_true) ** 2).mean()\n",
    "                ),  # Root Mean Square Error\n",
    "                \"MAPE\": (\n",
    "                    np.abs((g.y_pred_0_5 - g.y_true) / g.y_true).mean() * 100\n",
    "                ),  # Mean Absolute Percentage Error\n",
    "            }\n",
    "        )\n",
    "    )\n",
    "    .reset_index()\n",
    "    .sort_values(\"RMSE\")  # Sort to highlight best-performing series\n",
    ")\n",
    "\n",
    "metrics_per_sid"
   ]
  },
  {
   "cell_type": "markdown",
   "id": "9acd998f-84a8-4605-af01-24c0efa89a3f",
   "metadata": {},
   "source": [
    "- **MAE** reflects average error in absolute terms.\n",
    "- **RMSE** penalizes larger errors more heavily.\n",
    "- **MAPE** is scale-independent but unstable if target ≈ 0.\n",
    "---"
   ]
  },
  {
   "cell_type": "markdown",
   "id": "0434d9ae-a27d-4512-af55-d4ac1468035d",
   "metadata": {},
   "source": [
    "### 10.2 Define Forecast Plotting Function\n",
    "\n",
    "**Why this step is important:**  \n",
    "Plotting actual vs. predicted values — especially with prediction intervals — helps visually **assess accuracy and confidence**. This is crucial for understanding how well the model captures both level and uncertainty."
   ]
  },
  {
   "cell_type": "code",
   "execution_count": 123,
   "id": "d22934e6-ef9f-41a8-963d-fb4bee777439",
   "metadata": {},
   "outputs": [],
   "source": [
    "def plot_series(sid, ax=None):\n",
    "    \"\"\"\n",
    "    Plot actual vs. predicted values with prediction intervals for a specific time series.\n",
    "\n",
    "    Parameters:\n",
    "    -----------\n",
    "    sid : str or int\n",
    "        The series_id identifying the specific time series to plot.\n",
    "    ax : matplotlib.axes.Axes, optional\n",
    "        An optional matplotlib Axes object to draw the plot on. If None, a new figure and axes are created.\n",
    "\n",
    "    Returns:\n",
    "    --------\n",
    "    ax : matplotlib.axes.Axes\n",
    "        The matplotlib Axes object with the plotted data.\n",
    "    \"\"\"\n",
    "    # Filter the evaluation DataFrame for the selected series\n",
    "    subset = df_eval[df_eval.series_id == sid]\n",
    "\n",
    "    # If no Axes object is provided, create a new one\n",
    "    if ax is None:\n",
    "        _, ax = plt.subplots(figsize=(14, 5))\n",
    "\n",
    "    # Plot the actual ground truth values\n",
    "    ax.plot(subset.timestamp, subset.y_true, label=\"Actual\", color=\"black\")\n",
    "\n",
    "    # Plot the predicted median (0.5 quantile)\n",
    "    ax.plot(subset.timestamp, subset.y_pred_0_5, label=\"Forecast (Median)\", color=\"blue\")\n",
    "\n",
    "    # Fill between the 0.1 and 0.9 quantile predictions to show prediction uncertainty\n",
    "    ax.fill_between(\n",
    "        subset.timestamp,\n",
    "        subset.y_pred_0_1,\n",
    "        subset.y_pred_0_9,\n",
    "        color=\"blue\",\n",
    "        alpha=0.3,\n",
    "        label=\"Quantile range (0.1 – 0.9)\"\n",
    "    )\n",
    "\n",
    "    # Set title with the series ID\n",
    "    ax.set_title(f\"Series {sid} – 24h Forecast with Quantiles\")\n",
    "\n",
    "    # Set axis labels\n",
    "    ax.set_xlabel(\"Timestamp\")\n",
    "    ax.set_ylabel(\"Fee Value\")\n",
    "\n",
    "    # Enable grid for easier reading\n",
    "    ax.grid(True)\n",
    "\n",
    "    # Add legend to distinguish the plotted lines\n",
    "    ax.legend()\n",
    "\n",
    "    return ax"
   ]
  },
  {
   "cell_type": "markdown",
   "id": "51948cf1-b292-4b71-8176-7dea49745d71",
   "metadata": {},
   "source": [
    "### 10.3 Plot Forecast Results for the First 5 Series\n",
    "\n",
    "**Why this step is important:**  \n",
    "Looking at several forecast plots helps confirm:\n",
    "- If the **predicted values track the real data**\n",
    "- If the **uncertainty band covers most of the true values**\n",
    "- Whether the model tends to **under- or overpredict**"
   ]
  },
  {
   "cell_type": "code",
   "execution_count": 124,
   "id": "b8527823-f142-418c-9bb9-18cd9c262d14",
   "metadata": {},
   "outputs": [
    {
     "data": {
      "image/png": "[encoded data removed]",
      "text/plain": [
       "<Figure size 1400x2000 with 5 Axes>"
      ]
     },
     "metadata": {},
     "output_type": "display_data"
    }
   ],
   "source": [
    "fig, axs = plt.subplots(5, 1, figsize=(14, 20), sharex=True)\n",
    "\n",
    "# Loop over first 5 unique series_ids and corresponding axes\n",
    "for i, sid in enumerate(df_eval.series_id.unique()[:5]):\n",
    "    plot_series(sid, ax=axs[i])  # pass ax explicitly\n",
    "\n",
    "plt.tight_layout()\n",
    "plt.show()"
   ]
  },
  {
   "cell_type": "markdown",
   "id": "e3c2ddda-4b74-455e-a3cc-699a4630c685",
   "metadata": {},
   "source": [
    "### Summary\n",
    "\n",
    "This step:\n",
    "- Quantifies forecasting accuracy with interpretable metrics\n",
    "- Visualizes forecast sharpness, bias, and uncertainty\n",
    "- Confirms that the model's confidence intervals are calibrated (or not)\n",
    "\n",
    "You're now ready to interpret results, compare models, or export forecasts."
   ]
  }
 ],
 "metadata": {
  "kernelspec": {
   "display_name": "Python 3 (ipykernel)",
   "language": "python",
   "name": "python3"
  },
  "language_info": {
   "codemirror_mode": {
    "name": "ipython",
    "version": 3
   },
   "file_extension": ".py",
   "mimetype": "text/x-python",
   "name": "python",
   "nbconvert_exporter": "python",
   "pygments_lexer": "ipython3",
   "version": "3.11.12"
  }
 },
 "nbformat": 4,
 "nbformat_minor": 5
}
