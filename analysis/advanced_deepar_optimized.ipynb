{
 "cells": [
  {
   "cell_type": "markdown",
   "id": "bdb326fa-9d8c-41b0-a9ff-eec3fc2071cc",
   "metadata": {},
   "source": [
    "## Deepar"
   ]
  },
  {
   "cell_type": "code",
   "execution_count": 1,
   "id": "4527da80-acc7-4c5f-817a-4f8810565f11",
   "metadata": {},
   "outputs": [],
   "source": [
    "import json\n",
    "from gluonts.dataset.common import ListDataset\n",
    "from gluonts.torch.model.deepar import DeepAREstimator\n",
    "from gluonts.evaluation.backtest import make_evaluation_predictions\n",
    "import matplotlib.pyplot as plt\n",
    "from itertools import islice\n",
    "from gluonts.evaluation import Evaluator\n",
    "import pandas as pd"
   ]
  },
  {
   "cell_type": "code",
   "execution_count": 2,
   "id": "d78d0788-dd97-421b-9e79-99d1801e6e48",
   "metadata": {},
   "outputs": [],
   "source": [
    "# Load JSONL into a list of dicts\n",
    "with open(\"../data/processed/deepar_dataset.jsonl\") as f:\n",
    "    series_list = [json.loads(line) for line in f]\n"
   ]
  },
  {
   "cell_type": "code",
   "execution_count": 3,
   "id": "2d0f6961-b14c-4697-adcc-cce83dc22248",
   "metadata": {},
   "outputs": [],
   "source": [
    "#subset 100 data points\n",
    "s = series_list[0]\n",
    "dataset = ListDataset(series_list, freq=\"5min\")"
   ]
  },
  {
   "cell_type": "code",
   "execution_count": null,
   "id": "073aafbc-5611-4cff-b353-990e09095acf",
   "metadata": {},
   "outputs": [],
   "source": [
    "from gluonts.torch.model.deepar import DeepAREstimator\n",
    "\n",
    "estimator = DeepAREstimator(\n",
    "    prediction_length=288,\n",
    "    context_length=288,\n",
    "    freq=\"5min\",\n",
    "    lags_seq=[1, 2, 3, 6, 12, 24, 48, 96, 192],\n",
    "    hidden_size=80,     # RNN cell size\n",
    "    num_layers=3,       # Depth of the network\n",
    "    dropout_rate=0.1,\n",
    "    lr=1e-3,\n",
    "    weight_decay=1e-8,\n",
    "    batch_size=64,\n",
    "    num_batches_per_epoch=50,\n",
    "    trainer_kwargs={\n",
    "        \"max_epochs\": 50,\n",
    "        \"accelerator\": \"cpu\",\n",
    "        \"gradient_clip_val\": 10.0,\n",
    "        \"logger\": False,\n",
    "    }\n",
    ")\n"
   ]
  },
  {
   "cell_type": "code",
   "execution_count": 10,
   "id": "a1313048-1435-41be-adab-6da756bf6580",
   "metadata": {},
   "outputs": [
    {
     "ename": "Exception",
     "evalue": "invalid frequency",
     "output_type": "error",
     "traceback": [
      "\u001b[1;31m---------------------------------------------------------------------------\u001b[0m",
      "\u001b[1;31mException\u001b[0m                                 Traceback (most recent call last)",
      "Cell \u001b[1;32mIn[10], line 1\u001b[0m\n\u001b[1;32m----> 1\u001b[0m predictor \u001b[38;5;241m=\u001b[39m \u001b[43mestimator\u001b[49m\u001b[38;5;241;43m.\u001b[39;49m\u001b[43mtrain\u001b[49m\u001b[43m(\u001b[49m\u001b[43mdataset\u001b[49m\u001b[43m)\u001b[49m\n",
      "File \u001b[1;32mc:\\Users\\86166\\miniforge3\\envs\\563\\Lib\\site-packages\\gluonts\\torch\\model\\estimator.py:237\u001b[0m, in \u001b[0;36mPyTorchLightningEstimator.train\u001b[1;34m(self, training_data, validation_data, shuffle_buffer_length, cache_data, ckpt_path, **kwargs)\u001b[0m\n\u001b[0;32m    228\u001b[0m \u001b[38;5;28;01mdef\u001b[39;00m\u001b[38;5;250m \u001b[39m\u001b[38;5;21mtrain\u001b[39m(\n\u001b[0;32m    229\u001b[0m     \u001b[38;5;28mself\u001b[39m,\n\u001b[0;32m    230\u001b[0m     training_data: Dataset,\n\u001b[1;32m   (...)\u001b[0m\n\u001b[0;32m    235\u001b[0m     \u001b[38;5;241m*\u001b[39m\u001b[38;5;241m*\u001b[39mkwargs,\n\u001b[0;32m    236\u001b[0m ) \u001b[38;5;241m-\u001b[39m\u001b[38;5;241m>\u001b[39m PyTorchPredictor:\n\u001b[1;32m--> 237\u001b[0m     \u001b[38;5;28;01mreturn\u001b[39;00m \u001b[38;5;28;43mself\u001b[39;49m\u001b[38;5;241;43m.\u001b[39;49m\u001b[43mtrain_model\u001b[49m\u001b[43m(\u001b[49m\n\u001b[0;32m    238\u001b[0m \u001b[43m        \u001b[49m\u001b[43mtraining_data\u001b[49m\u001b[43m,\u001b[49m\n\u001b[0;32m    239\u001b[0m \u001b[43m        \u001b[49m\u001b[43mvalidation_data\u001b[49m\u001b[43m,\u001b[49m\n\u001b[0;32m    240\u001b[0m \u001b[43m        \u001b[49m\u001b[43mshuffle_buffer_length\u001b[49m\u001b[38;5;241;43m=\u001b[39;49m\u001b[43mshuffle_buffer_length\u001b[49m\u001b[43m,\u001b[49m\n\u001b[0;32m    241\u001b[0m \u001b[43m        \u001b[49m\u001b[43mcache_data\u001b[49m\u001b[38;5;241;43m=\u001b[39;49m\u001b[43mcache_data\u001b[49m\u001b[43m,\u001b[49m\n\u001b[0;32m    242\u001b[0m \u001b[43m        \u001b[49m\u001b[43mckpt_path\u001b[49m\u001b[38;5;241;43m=\u001b[39;49m\u001b[43mckpt_path\u001b[49m\u001b[43m,\u001b[49m\n\u001b[0;32m    243\u001b[0m \u001b[43m    \u001b[49m\u001b[43m)\u001b[49m\u001b[38;5;241m.\u001b[39mpredictor\n",
      "File \u001b[1;32mc:\\Users\\86166\\miniforge3\\envs\\563\\Lib\\site-packages\\gluonts\\torch\\model\\estimator.py:165\u001b[0m, in \u001b[0;36mPyTorchLightningEstimator.train_model\u001b[1;34m(self, training_data, validation_data, from_predictor, shuffle_buffer_length, cache_data, ckpt_path, **kwargs)\u001b[0m\n\u001b[0;32m    162\u001b[0m     \u001b[38;5;28;01mif\u001b[39;00m cache_data:\n\u001b[0;32m    163\u001b[0m         transformed_training_data \u001b[38;5;241m=\u001b[39m Cached(transformed_training_data)\n\u001b[1;32m--> 165\u001b[0m     training_network \u001b[38;5;241m=\u001b[39m \u001b[38;5;28;43mself\u001b[39;49m\u001b[38;5;241;43m.\u001b[39;49m\u001b[43mcreate_lightning_module\u001b[49m\u001b[43m(\u001b[49m\u001b[43m)\u001b[49m\n\u001b[0;32m    167\u001b[0m     training_data_loader \u001b[38;5;241m=\u001b[39m \u001b[38;5;28mself\u001b[39m\u001b[38;5;241m.\u001b[39mcreate_training_data_loader(\n\u001b[0;32m    168\u001b[0m         transformed_training_data,\n\u001b[0;32m    169\u001b[0m         training_network,\n\u001b[0;32m    170\u001b[0m         shuffle_buffer_length\u001b[38;5;241m=\u001b[39mshuffle_buffer_length,\n\u001b[0;32m    171\u001b[0m     )\n\u001b[0;32m    173\u001b[0m validation_data_loader \u001b[38;5;241m=\u001b[39m \u001b[38;5;28;01mNone\u001b[39;00m\n",
      "File \u001b[1;32mc:\\Users\\86166\\miniforge3\\envs\\563\\Lib\\site-packages\\gluonts\\torch\\model\\deepar\\estimator.py:376\u001b[0m, in \u001b[0;36mDeepAREstimator.create_lightning_module\u001b[1;34m(self)\u001b[0m\n\u001b[0;32m    375\u001b[0m \u001b[38;5;28;01mdef\u001b[39;00m\u001b[38;5;250m \u001b[39m\u001b[38;5;21mcreate_lightning_module\u001b[39m(\u001b[38;5;28mself\u001b[39m) \u001b[38;5;241m-\u001b[39m\u001b[38;5;241m>\u001b[39m DeepARLightningModule:\n\u001b[1;32m--> 376\u001b[0m     \u001b[38;5;28;01mreturn\u001b[39;00m \u001b[43mDeepARLightningModule\u001b[49m\u001b[43m(\u001b[49m\n\u001b[0;32m    377\u001b[0m \u001b[43m        \u001b[49m\u001b[43mloss\u001b[49m\u001b[38;5;241;43m=\u001b[39;49m\u001b[38;5;28;43mself\u001b[39;49m\u001b[38;5;241;43m.\u001b[39;49m\u001b[43mloss\u001b[49m\u001b[43m,\u001b[49m\n\u001b[0;32m    378\u001b[0m \u001b[43m        \u001b[49m\u001b[43mlr\u001b[49m\u001b[38;5;241;43m=\u001b[39;49m\u001b[38;5;28;43mself\u001b[39;49m\u001b[38;5;241;43m.\u001b[39;49m\u001b[43mlr\u001b[49m\u001b[43m,\u001b[49m\n\u001b[0;32m    379\u001b[0m \u001b[43m        \u001b[49m\u001b[43mweight_decay\u001b[49m\u001b[38;5;241;43m=\u001b[39;49m\u001b[38;5;28;43mself\u001b[39;49m\u001b[38;5;241;43m.\u001b[39;49m\u001b[43mweight_decay\u001b[49m\u001b[43m,\u001b[49m\n\u001b[0;32m    380\u001b[0m \u001b[43m        \u001b[49m\u001b[43mpatience\u001b[49m\u001b[38;5;241;43m=\u001b[39;49m\u001b[38;5;28;43mself\u001b[39;49m\u001b[38;5;241;43m.\u001b[39;49m\u001b[43mpatience\u001b[49m\u001b[43m,\u001b[49m\n\u001b[0;32m    381\u001b[0m \u001b[43m        \u001b[49m\u001b[43mmodel_kwargs\u001b[49m\u001b[38;5;241;43m=\u001b[39;49m\u001b[43m{\u001b[49m\n\u001b[0;32m    382\u001b[0m \u001b[43m            \u001b[49m\u001b[38;5;124;43m\"\u001b[39;49m\u001b[38;5;124;43mfreq\u001b[39;49m\u001b[38;5;124;43m\"\u001b[39;49m\u001b[43m:\u001b[49m\u001b[43m \u001b[49m\u001b[38;5;28;43mself\u001b[39;49m\u001b[38;5;241;43m.\u001b[39;49m\u001b[43mfreq\u001b[49m\u001b[43m,\u001b[49m\n\u001b[0;32m    383\u001b[0m \u001b[43m            \u001b[49m\u001b[38;5;124;43m\"\u001b[39;49m\u001b[38;5;124;43mcontext_length\u001b[39;49m\u001b[38;5;124;43m\"\u001b[39;49m\u001b[43m:\u001b[49m\u001b[43m \u001b[49m\u001b[38;5;28;43mself\u001b[39;49m\u001b[38;5;241;43m.\u001b[39;49m\u001b[43mcontext_length\u001b[49m\u001b[43m,\u001b[49m\n\u001b[0;32m    384\u001b[0m \u001b[43m            \u001b[49m\u001b[38;5;124;43m\"\u001b[39;49m\u001b[38;5;124;43mprediction_length\u001b[39;49m\u001b[38;5;124;43m\"\u001b[39;49m\u001b[43m:\u001b[49m\u001b[43m \u001b[49m\u001b[38;5;28;43mself\u001b[39;49m\u001b[38;5;241;43m.\u001b[39;49m\u001b[43mprediction_length\u001b[49m\u001b[43m,\u001b[49m\n\u001b[0;32m    385\u001b[0m \u001b[43m            \u001b[49m\u001b[38;5;124;43m\"\u001b[39;49m\u001b[38;5;124;43mnum_feat_dynamic_real\u001b[39;49m\u001b[38;5;124;43m\"\u001b[39;49m\u001b[43m:\u001b[49m\u001b[43m \u001b[49m\u001b[43m(\u001b[49m\n\u001b[0;32m    386\u001b[0m \u001b[43m                \u001b[49m\u001b[38;5;241;43m1\u001b[39;49m\u001b[43m \u001b[49m\u001b[38;5;241;43m+\u001b[39;49m\u001b[43m \u001b[49m\u001b[38;5;28;43mself\u001b[39;49m\u001b[38;5;241;43m.\u001b[39;49m\u001b[43mnum_feat_dynamic_real\u001b[49m\u001b[43m \u001b[49m\u001b[38;5;241;43m+\u001b[39;49m\u001b[43m \u001b[49m\u001b[38;5;28;43mlen\u001b[39;49m\u001b[43m(\u001b[49m\u001b[38;5;28;43mself\u001b[39;49m\u001b[38;5;241;43m.\u001b[39;49m\u001b[43mtime_features\u001b[49m\u001b[43m)\u001b[49m\n\u001b[0;32m    387\u001b[0m \u001b[43m            \u001b[49m\u001b[43m)\u001b[49m\u001b[43m,\u001b[49m\n\u001b[0;32m    388\u001b[0m \u001b[43m            \u001b[49m\u001b[38;5;124;43m\"\u001b[39;49m\u001b[38;5;124;43mnum_feat_static_real\u001b[39;49m\u001b[38;5;124;43m\"\u001b[39;49m\u001b[43m:\u001b[49m\u001b[43m \u001b[49m\u001b[38;5;28;43mmax\u001b[39;49m\u001b[43m(\u001b[49m\u001b[38;5;241;43m1\u001b[39;49m\u001b[43m,\u001b[49m\u001b[43m \u001b[49m\u001b[38;5;28;43mself\u001b[39;49m\u001b[38;5;241;43m.\u001b[39;49m\u001b[43mnum_feat_static_real\u001b[49m\u001b[43m)\u001b[49m\u001b[43m,\u001b[49m\n\u001b[0;32m    389\u001b[0m \u001b[43m            \u001b[49m\u001b[38;5;124;43m\"\u001b[39;49m\u001b[38;5;124;43mnum_feat_static_cat\u001b[39;49m\u001b[38;5;124;43m\"\u001b[39;49m\u001b[43m:\u001b[49m\u001b[43m \u001b[49m\u001b[38;5;28;43mmax\u001b[39;49m\u001b[43m(\u001b[49m\u001b[38;5;241;43m1\u001b[39;49m\u001b[43m,\u001b[49m\u001b[43m \u001b[49m\u001b[38;5;28;43mself\u001b[39;49m\u001b[38;5;241;43m.\u001b[39;49m\u001b[43mnum_feat_static_cat\u001b[49m\u001b[43m)\u001b[49m\u001b[43m,\u001b[49m\n\u001b[0;32m    390\u001b[0m \u001b[43m            \u001b[49m\u001b[38;5;124;43m\"\u001b[39;49m\u001b[38;5;124;43mcardinality\u001b[39;49m\u001b[38;5;124;43m\"\u001b[39;49m\u001b[43m:\u001b[49m\u001b[43m \u001b[49m\u001b[38;5;28;43mself\u001b[39;49m\u001b[38;5;241;43m.\u001b[39;49m\u001b[43mcardinality\u001b[49m\u001b[43m,\u001b[49m\n\u001b[0;32m    391\u001b[0m \u001b[43m            \u001b[49m\u001b[38;5;124;43m\"\u001b[39;49m\u001b[38;5;124;43membedding_dimension\u001b[39;49m\u001b[38;5;124;43m\"\u001b[39;49m\u001b[43m:\u001b[49m\u001b[43m \u001b[49m\u001b[38;5;28;43mself\u001b[39;49m\u001b[38;5;241;43m.\u001b[39;49m\u001b[43membedding_dimension\u001b[49m\u001b[43m,\u001b[49m\n\u001b[0;32m    392\u001b[0m \u001b[43m            \u001b[49m\u001b[38;5;124;43m\"\u001b[39;49m\u001b[38;5;124;43mnum_layers\u001b[39;49m\u001b[38;5;124;43m\"\u001b[39;49m\u001b[43m:\u001b[49m\u001b[43m \u001b[49m\u001b[38;5;28;43mself\u001b[39;49m\u001b[38;5;241;43m.\u001b[39;49m\u001b[43mnum_layers\u001b[49m\u001b[43m,\u001b[49m\n\u001b[0;32m    393\u001b[0m \u001b[43m            \u001b[49m\u001b[38;5;124;43m\"\u001b[39;49m\u001b[38;5;124;43mhidden_size\u001b[39;49m\u001b[38;5;124;43m\"\u001b[39;49m\u001b[43m:\u001b[49m\u001b[43m \u001b[49m\u001b[38;5;28;43mself\u001b[39;49m\u001b[38;5;241;43m.\u001b[39;49m\u001b[43mhidden_size\u001b[49m\u001b[43m,\u001b[49m\n\u001b[0;32m    394\u001b[0m \u001b[43m            \u001b[49m\u001b[38;5;124;43m\"\u001b[39;49m\u001b[38;5;124;43mdistr_output\u001b[39;49m\u001b[38;5;124;43m\"\u001b[39;49m\u001b[43m:\u001b[49m\u001b[43m \u001b[49m\u001b[38;5;28;43mself\u001b[39;49m\u001b[38;5;241;43m.\u001b[39;49m\u001b[43mdistr_output\u001b[49m\u001b[43m,\u001b[49m\n\u001b[0;32m    395\u001b[0m \u001b[43m            \u001b[49m\u001b[38;5;124;43m\"\u001b[39;49m\u001b[38;5;124;43mdropout_rate\u001b[39;49m\u001b[38;5;124;43m\"\u001b[39;49m\u001b[43m:\u001b[49m\u001b[43m \u001b[49m\u001b[38;5;28;43mself\u001b[39;49m\u001b[38;5;241;43m.\u001b[39;49m\u001b[43mdropout_rate\u001b[49m\u001b[43m,\u001b[49m\n\u001b[0;32m    396\u001b[0m \u001b[43m            \u001b[49m\u001b[38;5;124;43m\"\u001b[39;49m\u001b[38;5;124;43mlags_seq\u001b[39;49m\u001b[38;5;124;43m\"\u001b[39;49m\u001b[43m:\u001b[49m\u001b[43m \u001b[49m\u001b[38;5;28;43mself\u001b[39;49m\u001b[38;5;241;43m.\u001b[39;49m\u001b[43mlags_seq\u001b[49m\u001b[43m,\u001b[49m\n\u001b[0;32m    397\u001b[0m \u001b[43m            \u001b[49m\u001b[38;5;124;43m\"\u001b[39;49m\u001b[38;5;124;43mscaling\u001b[39;49m\u001b[38;5;124;43m\"\u001b[39;49m\u001b[43m:\u001b[49m\u001b[43m \u001b[49m\u001b[38;5;28;43mself\u001b[39;49m\u001b[38;5;241;43m.\u001b[39;49m\u001b[43mscaling\u001b[49m\u001b[43m,\u001b[49m\n\u001b[0;32m    398\u001b[0m \u001b[43m            \u001b[49m\u001b[38;5;124;43m\"\u001b[39;49m\u001b[38;5;124;43mdefault_scale\u001b[39;49m\u001b[38;5;124;43m\"\u001b[39;49m\u001b[43m:\u001b[49m\u001b[43m \u001b[49m\u001b[38;5;28;43mself\u001b[39;49m\u001b[38;5;241;43m.\u001b[39;49m\u001b[43mdefault_scale\u001b[49m\u001b[43m,\u001b[49m\n\u001b[0;32m    399\u001b[0m \u001b[43m            \u001b[49m\u001b[38;5;124;43m\"\u001b[39;49m\u001b[38;5;124;43mnum_parallel_samples\u001b[39;49m\u001b[38;5;124;43m\"\u001b[39;49m\u001b[43m:\u001b[49m\u001b[43m \u001b[49m\u001b[38;5;28;43mself\u001b[39;49m\u001b[38;5;241;43m.\u001b[39;49m\u001b[43mnum_parallel_samples\u001b[49m\u001b[43m,\u001b[49m\n\u001b[0;32m    400\u001b[0m \u001b[43m        \u001b[49m\u001b[43m}\u001b[49m\u001b[43m,\u001b[49m\n\u001b[0;32m    401\u001b[0m \u001b[43m    \u001b[49m\u001b[43m)\u001b[49m\n",
      "File \u001b[1;32mc:\\Users\\86166\\miniforge3\\envs\\563\\Lib\\site-packages\\gluonts\\core\\component.py:359\u001b[0m, in \u001b[0;36mvalidated.<locals>.validator.<locals>.init_wrapper\u001b[1;34m(*args, **kwargs)\u001b[0m\n\u001b[0;32m    356\u001b[0m     \u001b[38;5;28mself\u001b[39m\u001b[38;5;241m.\u001b[39m\u001b[38;5;18m__class__\u001b[39m\u001b[38;5;241m.\u001b[39m__getnewargs_ex__ \u001b[38;5;241m=\u001b[39m validated_getnewargs_ex\n\u001b[0;32m    357\u001b[0m     \u001b[38;5;28mself\u001b[39m\u001b[38;5;241m.\u001b[39m\u001b[38;5;18m__class__\u001b[39m\u001b[38;5;241m.\u001b[39m\u001b[38;5;21m__repr__\u001b[39m \u001b[38;5;241m=\u001b[39m validated_repr\n\u001b[1;32m--> 359\u001b[0m \u001b[38;5;28;01mreturn\u001b[39;00m \u001b[43minit\u001b[49m\u001b[43m(\u001b[49m\u001b[38;5;28;43mself\u001b[39;49m\u001b[43m,\u001b[49m\u001b[43m \u001b[49m\u001b[38;5;241;43m*\u001b[39;49m\u001b[38;5;241;43m*\u001b[39;49m\u001b[43mall_args\u001b[49m\u001b[43m)\u001b[49m\n",
      "File \u001b[1;32mc:\\Users\\86166\\miniforge3\\envs\\563\\Lib\\site-packages\\gluonts\\torch\\model\\deepar\\lightning_module.py:59\u001b[0m, in \u001b[0;36mDeepARLightningModule.__init__\u001b[1;34m(self, model_kwargs, loss, lr, weight_decay, patience)\u001b[0m\n\u001b[0;32m     57\u001b[0m \u001b[38;5;28msuper\u001b[39m()\u001b[38;5;241m.\u001b[39m\u001b[38;5;21m__init__\u001b[39m()\n\u001b[0;32m     58\u001b[0m \u001b[38;5;28mself\u001b[39m\u001b[38;5;241m.\u001b[39msave_hyperparameters()\n\u001b[1;32m---> 59\u001b[0m \u001b[38;5;28mself\u001b[39m\u001b[38;5;241m.\u001b[39mmodel \u001b[38;5;241m=\u001b[39m \u001b[43mDeepARModel\u001b[49m\u001b[43m(\u001b[49m\u001b[38;5;241;43m*\u001b[39;49m\u001b[38;5;241;43m*\u001b[39;49m\u001b[43mmodel_kwargs\u001b[49m\u001b[43m)\u001b[49m\n\u001b[0;32m     60\u001b[0m \u001b[38;5;28mself\u001b[39m\u001b[38;5;241m.\u001b[39mloss \u001b[38;5;241m=\u001b[39m loss\n\u001b[0;32m     61\u001b[0m \u001b[38;5;28mself\u001b[39m\u001b[38;5;241m.\u001b[39mlr \u001b[38;5;241m=\u001b[39m lr\n",
      "File \u001b[1;32mc:\\Users\\86166\\miniforge3\\envs\\563\\Lib\\site-packages\\gluonts\\core\\component.py:359\u001b[0m, in \u001b[0;36mvalidated.<locals>.validator.<locals>.init_wrapper\u001b[1;34m(*args, **kwargs)\u001b[0m\n\u001b[0;32m    356\u001b[0m     \u001b[38;5;28mself\u001b[39m\u001b[38;5;241m.\u001b[39m\u001b[38;5;18m__class__\u001b[39m\u001b[38;5;241m.\u001b[39m__getnewargs_ex__ \u001b[38;5;241m=\u001b[39m validated_getnewargs_ex\n\u001b[0;32m    357\u001b[0m     \u001b[38;5;28mself\u001b[39m\u001b[38;5;241m.\u001b[39m\u001b[38;5;18m__class__\u001b[39m\u001b[38;5;241m.\u001b[39m\u001b[38;5;21m__repr__\u001b[39m \u001b[38;5;241m=\u001b[39m validated_repr\n\u001b[1;32m--> 359\u001b[0m \u001b[38;5;28;01mreturn\u001b[39;00m \u001b[43minit\u001b[49m\u001b[43m(\u001b[49m\u001b[38;5;28;43mself\u001b[39;49m\u001b[43m,\u001b[49m\u001b[43m \u001b[49m\u001b[38;5;241;43m*\u001b[39;49m\u001b[38;5;241;43m*\u001b[39;49m\u001b[43mall_args\u001b[49m\u001b[43m)\u001b[49m\n",
      "File \u001b[1;32mc:\\Users\\86166\\miniforge3\\envs\\563\\Lib\\site-packages\\gluonts\\torch\\model\\deepar\\module.py:135\u001b[0m, in \u001b[0;36mDeepARModel.__init__\u001b[1;34m(self, freq, context_length, prediction_length, num_feat_dynamic_real, num_feat_static_real, num_feat_static_cat, cardinality, embedding_dimension, num_layers, hidden_size, dropout_rate, distr_output, lags_seq, scaling, default_scale, num_parallel_samples)\u001b[0m\n\u001b[0;32m    129\u001b[0m \u001b[38;5;28mself\u001b[39m\u001b[38;5;241m.\u001b[39mnum_feat_static_real \u001b[38;5;241m=\u001b[39m num_feat_static_real\n\u001b[0;32m    130\u001b[0m \u001b[38;5;28mself\u001b[39m\u001b[38;5;241m.\u001b[39membedding_dimension \u001b[38;5;241m=\u001b[39m (\n\u001b[0;32m    131\u001b[0m     embedding_dimension\n\u001b[0;32m    132\u001b[0m     \u001b[38;5;28;01mif\u001b[39;00m embedding_dimension \u001b[38;5;129;01mis\u001b[39;00m \u001b[38;5;129;01mnot\u001b[39;00m \u001b[38;5;28;01mNone\u001b[39;00m \u001b[38;5;129;01mor\u001b[39;00m cardinality \u001b[38;5;129;01mis\u001b[39;00m \u001b[38;5;28;01mNone\u001b[39;00m\n\u001b[0;32m    133\u001b[0m     \u001b[38;5;28;01melse\u001b[39;00m [\u001b[38;5;28mmin\u001b[39m(\u001b[38;5;241m50\u001b[39m, (cat \u001b[38;5;241m+\u001b[39m \u001b[38;5;241m1\u001b[39m) \u001b[38;5;241m/\u001b[39m\u001b[38;5;241m/\u001b[39m \u001b[38;5;241m2\u001b[39m) \u001b[38;5;28;01mfor\u001b[39;00m cat \u001b[38;5;129;01min\u001b[39;00m cardinality]\n\u001b[0;32m    134\u001b[0m )\n\u001b[1;32m--> 135\u001b[0m \u001b[38;5;28mself\u001b[39m\u001b[38;5;241m.\u001b[39mlags_seq \u001b[38;5;241m=\u001b[39m lags_seq \u001b[38;5;129;01mor\u001b[39;00m \u001b[43mget_lags_for_frequency\u001b[49m\u001b[43m(\u001b[49m\u001b[43mfreq_str\u001b[49m\u001b[38;5;241;43m=\u001b[39;49m\u001b[43mfreq\u001b[49m\u001b[43m)\u001b[49m\n\u001b[0;32m    136\u001b[0m \u001b[38;5;28mself\u001b[39m\u001b[38;5;241m.\u001b[39mlags_seq \u001b[38;5;241m=\u001b[39m [l \u001b[38;5;241m-\u001b[39m \u001b[38;5;241m1\u001b[39m \u001b[38;5;28;01mfor\u001b[39;00m l \u001b[38;5;129;01min\u001b[39;00m \u001b[38;5;28mself\u001b[39m\u001b[38;5;241m.\u001b[39mlags_seq]\n\u001b[0;32m    137\u001b[0m \u001b[38;5;28mself\u001b[39m\u001b[38;5;241m.\u001b[39mnum_parallel_samples \u001b[38;5;241m=\u001b[39m num_parallel_samples\n",
      "File \u001b[1;32mc:\\Users\\86166\\miniforge3\\envs\\563\\Lib\\site-packages\\gluonts\\time_feature\\lag.py:149\u001b[0m, in \u001b[0;36mget_lags_for_frequency\u001b[1;34m(freq_str, lag_ub, num_lags, num_default_lags)\u001b[0m\n\u001b[0;32m    143\u001b[0m     lags \u001b[38;5;241m=\u001b[39m (\n\u001b[0;32m    144\u001b[0m         _make_lags_for_second(offset\u001b[38;5;241m.\u001b[39mn)\n\u001b[0;32m    145\u001b[0m         \u001b[38;5;241m+\u001b[39m _make_lags_for_minute(offset\u001b[38;5;241m.\u001b[39mn \u001b[38;5;241m/\u001b[39m \u001b[38;5;241m60\u001b[39m)\n\u001b[0;32m    146\u001b[0m         \u001b[38;5;241m+\u001b[39m _make_lags_for_hour(offset\u001b[38;5;241m.\u001b[39mn \u001b[38;5;241m/\u001b[39m (\u001b[38;5;241m60\u001b[39m \u001b[38;5;241m*\u001b[39m \u001b[38;5;241m60\u001b[39m))\n\u001b[0;32m    147\u001b[0m     )\n\u001b[0;32m    148\u001b[0m \u001b[38;5;28;01melse\u001b[39;00m:\n\u001b[1;32m--> 149\u001b[0m     \u001b[38;5;28;01mraise\u001b[39;00m \u001b[38;5;167;01mException\u001b[39;00m(\u001b[38;5;124m\"\u001b[39m\u001b[38;5;124minvalid frequency\u001b[39m\u001b[38;5;124m\"\u001b[39m)\n\u001b[0;32m    151\u001b[0m \u001b[38;5;66;03m# flatten lags list and filter\u001b[39;00m\n\u001b[0;32m    152\u001b[0m lags \u001b[38;5;241m=\u001b[39m [\n\u001b[0;32m    153\u001b[0m     \u001b[38;5;28mint\u001b[39m(lag) \u001b[38;5;28;01mfor\u001b[39;00m sub_list \u001b[38;5;129;01min\u001b[39;00m lags \u001b[38;5;28;01mfor\u001b[39;00m lag \u001b[38;5;129;01min\u001b[39;00m sub_list \u001b[38;5;28;01mif\u001b[39;00m \u001b[38;5;241m7\u001b[39m \u001b[38;5;241m<\u001b[39m lag \u001b[38;5;241m<\u001b[39m\u001b[38;5;241m=\u001b[39m lag_ub\n\u001b[0;32m    154\u001b[0m ]\n",
      "\u001b[1;31mException\u001b[0m: invalid frequency"
     ]
    }
   ],
   "source": [
    "predictor = estimator.train(dataset)\n"
   ]
  },
  {
   "cell_type": "code",
   "execution_count": 15,
   "id": "f63bc252-6629-4563-a18d-a46fc2299004",
   "metadata": {},
   "outputs": [],
   "source": [
    "# Evaluate\n",
    "forecast_it, ts_it = make_evaluation_predictions(\n",
    "    dataset=dataset,\n",
    "    predictor=predictor,\n",
    "    num_samples=100\n",
    ")\n",
    "forecast_list = list(forecast_it)\n",
    "ts_list = list(ts_it)"
   ]
  },
  {
   "cell_type": "code",
   "execution_count": 16,
   "id": "1b1b69e6-5878-43b4-9567-d20cc5f34b6a",
   "metadata": {},
   "outputs": [
    {
     "name": "stderr",
     "output_type": "stream",
     "text": [
      "Running evaluation: 5it [00:00, 18.23it/s]\n"
     ]
    },
    {
     "name": "stdout",
     "output_type": "stream",
     "text": [
      "\n",
      "Aggregate Metrics:\n",
      "                 MSE: 1.4311\n",
      "           abs_error: 1045.1602\n",
      "      abs_target_sum: 2389.0000\n",
      "     abs_target_mean: 1.6590\n",
      "      seasonal_error: 0.8808\n",
      "                MASE: 0.9508\n",
      "                MAPE: 0.3061\n",
      "               sMAPE: 0.3974\n",
      "                MSIS: 12.4072\n",
      "num_masked_target_values: 0.0000\n",
      "   QuantileLoss[0.1]: 248.4927\n",
      "       Coverage[0.1]: 0.0035\n",
      "   QuantileLoss[0.2]: 469.2538\n",
      "       Coverage[0.2]: 0.1472\n",
      "   QuantileLoss[0.3]: 696.2949\n",
      "       Coverage[0.3]: 0.2444\n",
      "   QuantileLoss[0.4]: 901.0123\n",
      "       Coverage[0.4]: 0.3778\n",
      "   QuantileLoss[0.5]: 1045.1601\n",
      "       Coverage[0.5]: 0.4049\n",
      "   QuantileLoss[0.6]: 1161.5135\n",
      "       Coverage[0.6]: 0.4333\n",
      "   QuantileLoss[0.7]: 1225.4822\n",
      "       Coverage[0.7]: 0.4590\n",
      "   QuantileLoss[0.8]: 1221.7752\n",
      "       Coverage[0.8]: 0.5292\n",
      "   QuantileLoss[0.9]: 1108.9159\n",
      "       Coverage[0.9]: 0.6611\n",
      "                RMSE: 1.1963\n",
      "               NRMSE: 0.7211\n",
      "                  ND: 0.4375\n",
      "  wQuantileLoss[0.1]: 0.1040\n",
      "  wQuantileLoss[0.2]: 0.1964\n",
      "  wQuantileLoss[0.3]: 0.2915\n",
      "  wQuantileLoss[0.4]: 0.3772\n",
      "  wQuantileLoss[0.5]: 0.4375\n",
      "  wQuantileLoss[0.6]: 0.4862\n",
      "  wQuantileLoss[0.7]: 0.5130\n",
      "  wQuantileLoss[0.8]: 0.5114\n",
      "  wQuantileLoss[0.9]: 0.4642\n",
      "mean_absolute_QuantileLoss: 897.5445\n",
      "  mean_wQuantileLoss: 0.3757\n",
      "        MAE_Coverage: 0.2537\n",
      "                 OWA: nan\n"
     ]
    },
    {
     "name": "stderr",
     "output_type": "stream",
     "text": [
      "/Users/xuximin/miniforge3/envs/satcast/lib/python3.12/site-packages/gluonts/json.py:102: UserWarning: Using `json`-module for json-handling. Consider installing one of `orjson`, `ujson` to speed up serialization and deserialization.\n",
      "  warnings.warn(\n"
     ]
    }
   ],
   "source": [
    "\n",
    "# Evaluation\n",
    "evaluator = Evaluator()\n",
    "agg_metrics, item_metrics = evaluator(ts_list, forecast_list)\n",
    "\n",
    "# Print summary\n",
    "print(\"\\nAggregate Metrics:\")\n",
    "for k, v in agg_metrics.items():\n",
    "    print(f\"{k:>20}: {v:.4f}\")\n"
   ]
  },
  {
   "cell_type": "code",
   "execution_count": 7,
   "id": "a8ea325f-626f-447a-85f1-2b1bbd3b3e37",
   "metadata": {},
   "outputs": [
    {
     "ename": "NameError",
     "evalue": "name 'forecast_list' is not defined",
     "output_type": "error",
     "traceback": [
      "\u001b[1;31m---------------------------------------------------------------------------\u001b[0m",
      "\u001b[1;31mNameError\u001b[0m                                 Traceback (most recent call last)",
      "Cell \u001b[1;32mIn[7], line 1\u001b[0m\n\u001b[1;32m----> 1\u001b[0m n_plots \u001b[38;5;241m=\u001b[39m \u001b[38;5;28mlen\u001b[39m(\u001b[43mforecast_list\u001b[49m)  \u001b[38;5;66;03m# or set a lower limit for visual clarity\u001b[39;00m\n\u001b[0;32m      2\u001b[0m \u001b[38;5;28;01mfor\u001b[39;00m i \u001b[38;5;129;01min\u001b[39;00m \u001b[38;5;28mrange\u001b[39m(n_plots):\n\u001b[0;32m      3\u001b[0m     ts \u001b[38;5;241m=\u001b[39m ts_list[i]\n",
      "\u001b[1;31mNameError\u001b[0m: name 'forecast_list' is not defined"
     ]
    }
   ],
   "source": [
    "n_plots = len(forecast_list)  # or set a lower limit for visual clarity\n",
    "for i in range(n_plots):\n",
    "    ts = ts_list[i]\n",
    "    forecast = forecast_list[i]\n",
    "\n",
    "    # Convert PeriodIndex to Timestamp for plotting\n",
    "    ts_index = ts.index.to_timestamp()\n",
    "\n",
    "    # Forecast timestamps\n",
    "    start = forecast.start_date.to_timestamp()\n",
    "    freq = pd.Timedelta(forecast.freq)\n",
    "    forecast_index = pd.date_range(start=start, periods=len(forecast.mean), freq=freq)\n",
    "\n",
    "    # Determine x-axis limits (last 2 days)\n",
    "    last_time = ts_index[-1]\n",
    "    xlim_start = last_time - pd.Timedelta(days=2)\n",
    "    xlim_end = last_time + pd.Timedelta(minutes=5 * len(forecast.mean))  # include forecast horizon\n",
    "\n",
    "    # Plot\n",
    "    plt.figure(figsize=(14, 5))\n",
    "    plt.plot(ts_index, ts.values, label=\"True values\", color=\"black\")\n",
    "    plt.plot(forecast_index, forecast.mean, label=\"Forecast (mean)\", color=\"blue\")\n",
    "\n",
    "    plt.title(f\"Forecast vs True (Series {i})\")\n",
    "    plt.legend()\n",
    "    plt.grid(True)\n",
    "    plt.xlim(xlim_start, xlim_end)\n",
    "    plt.tight_layout()\n",
    "    plt.show()\n"
   ]
  },
  {
   "cell_type": "code",
   "execution_count": null,
   "id": "c3ea6114",
   "metadata": {},
   "outputs": [],
   "source": [
    "\n",
    "import optuna\n",
    "from gluonts.evaluation import Evaluator\n",
    "from gluonts.dataset.common import ListDataset\n",
    "from gluonts.model.deepar import DeepAREstimator\n",
    "from gluonts.trainer import Trainer\n",
    "\n",
    "def objective(trial):\n",
    "    hs = trial.suggest_categorical(\"hidden_size\", [40, 80, 120])\n",
    "    cl = trial.suggest_categorical(\"context_length\", [144, 288])\n",
    "    dr = trial.suggest_float(\"dropout_rate\", 0.0, 0.3)\n",
    "\n",
    "    estimator = DeepAREstimator(\n",
    "        prediction_length=prediction_length,\n",
    "        context_length=cl,\n",
    "        freq=freq,\n",
    "        hidden_size=hs,\n",
    "        dropout_rate=dr,\n",
    "        trainer=Trainer(epochs=5)\n",
    "    )\n",
    "\n",
    "    predictor = estimator.train(train_ds)\n",
    "\n",
    "    forecast_it, ts_it = make_evaluation_predictions(dataset=test_ds, predictor=predictor, num_samples=100)\n",
    "    agg_metrics, _ = Evaluator()(ts_it, forecast_it)\n",
    "\n",
    "    return agg_metrics[\"RMSE\"]\n",
    "\n",
    "study = optuna.create_study(direction=\"minimize\")\n",
    "study.optimize(objective, n_trials=10)\n",
    "study.best_params\n"
   ]
  },
  {
   "cell_type": "code",
   "execution_count": null,
   "id": "f7d17b2f",
   "metadata": {},
   "outputs": [],
   "source": [
    "\n",
    "for forecast in forecasts:\n",
    "    plt.figure(figsize=(10, 4))\n",
    "    forecast.plot(color='g')\n",
    "    plt.plot(prediction_index, target[-prediction_length:], color='orange')\n",
    "    plt.fill_between(prediction_index, forecast.quantile(0.1), forecast.quantile(0.9), color='lightblue', alpha=0.4)\n",
    "    plt.title(\"Forecast with 80% Prediction Interval\")\n",
    "    plt.grid(True)\n",
    "    plt.show()\n",
    "    break\n"
   ]
  },
  {
   "cell_type": "code",
   "execution_count": null,
   "id": "c2b89005",
   "metadata": {},
   "outputs": [],
   "source": [
    "\n",
    "external_columns = ['mempool_blocks_nTx']\n",
    "exog_values = df[external_columns].T.values.tolist()\n",
    "\n",
    "train_ds = ListDataset([{\n",
    "    \"target\": df[target_column][:train_end_index].values,\n",
    "    \"start\": df.index[0],\n",
    "    \"feat_dynamic_real\": exog_values\n",
    "}], freq=freq)\n",
    "\n",
    "test_ds = ListDataset([{\n",
    "    \"target\": df[target_column].values,\n",
    "    \"start\": df.index[0],\n",
    "    \"feat_dynamic_real\": exog_values\n",
    "}], freq=freq)\n",
    "\n",
    "estimator = DeepAREstimator(\n",
    "    prediction_length=prediction_length,\n",
    "    context_length=288,\n",
    "    freq=freq,\n",
    "    use_feat_dynamic_real=True,\n",
    "    trainer=Trainer(epochs=5)\n",
    ")\n"
   ]
  },
  {
   "cell_type": "code",
   "execution_count": null,
   "id": "3d355392",
   "metadata": {},
   "outputs": [],
   "source": [
    "\n",
    "horizons = [72, 144, 288]\n",
    "results = []\n",
    "\n",
    "for horizon in horizons:\n",
    "    estimator = DeepAREstimator(\n",
    "        prediction_length=horizon,\n",
    "        context_length=horizon * 2,\n",
    "        freq=freq,\n",
    "        trainer=Trainer(epochs=5)\n",
    "    )\n",
    "    predictor = estimator.train(train_ds)\n",
    "    forecast_it, ts_it = make_evaluation_predictions(test_ds, predictor=predictor, num_samples=100)\n",
    "    agg_metrics, _ = Evaluator()(ts_it, forecast_it)\n",
    "    results.append((horizon, agg_metrics[\"RMSE\"], agg_metrics[\"MAE\"]))\n",
    "\n",
    "results_df = pd.DataFrame(results, columns=[\"Horizon\", \"RMSE\", \"MAE\"])\n",
    "print(results_df)\n"
   ]
  },
  {
   "cell_type": "code",
   "execution_count": null,
   "id": "70a09c41",
   "metadata": {},
   "outputs": [],
   "source": [
    "\n",
    "split_points = list(range(5000, len(df), 288))\n",
    "metrics_expanding = []\n",
    "\n",
    "for split in split_points:\n",
    "    train_target = df[target_column][:split]\n",
    "    test_target = df[target_column][split:split+288]\n",
    "\n",
    "    train_ds = ListDataset([{\n",
    "        \"target\": train_target.values,\n",
    "        \"start\": df.index[0],\n",
    "        \"feat_dynamic_real\": [df[\"mempool_blocks_nTx\"].values]\n",
    "    }], freq=freq)\n",
    "\n",
    "    test_ds = ListDataset([{\n",
    "        \"target\": df[target_column].values,\n",
    "        \"start\": df.index[0],\n",
    "        \"feat_dynamic_real\": [df[\"mempool_blocks_nTx\"].values]\n",
    "    }], freq=freq)\n",
    "\n",
    "    estimator = DeepAREstimator(\n",
    "        prediction_length=288,\n",
    "        context_length=288,\n",
    "        freq=freq,\n",
    "        use_feat_dynamic_real=True,\n",
    "        trainer=Trainer(epochs=5)\n",
    "    )\n",
    "    predictor = estimator.train(train_ds)\n",
    "    forecast_it, ts_it = make_evaluation_predictions(test_ds, predictor=predictor, num_samples=100)\n",
    "    agg_metrics, _ = Evaluator()(ts_it, forecast_it)\n",
    "    metrics_expanding.append((df.index[split], agg_metrics[\"RMSE\"], agg_metrics[\"MAE\"]))\n",
    "\n",
    "metrics_expanding_df = pd.DataFrame(metrics_expanding, columns=[\"SplitTime\", \"RMSE\", \"MAE\"])\n",
    "metrics_expanding_df.plot(x=\"SplitTime\", y=[\"RMSE\", \"MAE\"], title=\"Expanding Window Evaluation\")\n"
   ]
  }
 ],
 "metadata": {
  "kernelspec": {
   "display_name": "563",
   "language": "python",
   "name": "python3"
  },
  "language_info": {
   "codemirror_mode": {
    "name": "ipython",
    "version": 3
   },
   "file_extension": ".py",
   "mimetype": "text/x-python",
   "name": "python",
   "nbconvert_exporter": "python",
   "pygments_lexer": "ipython3",
   "version": "3.12.0"
  }
 },
 "nbformat": 4,
 "nbformat_minor": 5
}
