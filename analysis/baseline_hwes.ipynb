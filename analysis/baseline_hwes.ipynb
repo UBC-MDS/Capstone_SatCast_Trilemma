{
 "cells": [
  {
   "cell_type": "markdown",
   "id": "27289a48",
   "metadata": {},
   "source": [
    "# 📓 Baseline Model 2: HWES with Decomposition Insights"
   ]
  },
  {
   "cell_type": "markdown",
   "id": "0e34eaba",
   "metadata": {},
   "source": [
    "\n",
    "In this notebook, we forecast the **fastest Bitcoin transaction fee (sats/vByte)** for the next 24 hours using **Holt-Winters Exponential Smoothing (HWES)**.\n",
    "\n",
    "---\n",
    "\n",
    "### 🧠 Why HWES? Additive or Multiplicative?\n",
    "\n",
    "We analyzed the seasonality and trend of the time series using both **additive** and **multiplicative** decompositions. Here's what we found:\n",
    "\n",
    "**✅ Additive Decomposition**\n",
    "\n",
    "- Seasonal pattern has **constant amplitude** regardless of trend level.\n",
    "- Works well when seasonality is **independent of the trend level**.\n",
    "- Residuals look okay but large spikes (likely outliers) are present.\n",
    "\n",
    "✅ **Multiplicative Decomposition**\n",
    "\n",
    "- Seasonal component **scales with the level of the series** (i.e., as fees rise, seasonal amplitude increases).\n",
    "- This fits **real-world Bitcoin fee behavior more accurately**:\n",
    "    - High congestion periods (e.g., spikes in March) show **amplified seasonal patterns**.\n",
    "    - Multiplicative seasonality captures this well.\n",
    "- Residuals are tighter and better-behaved around 0 compared to additive, except for extreme spikes, which are expected.\n",
    "\n",
    "⚠️ **Note:** Multiplicative models require **strictly positive values**.\n"
   ]
  },
  {
   "cell_type": "markdown",
   "id": "c7bb6ac3",
   "metadata": {},
   "source": [
    "### 🔢 Step 1: Import Required Libraries"
   ]
  },
  {
   "cell_type": "code",
   "execution_count": 31,
   "id": "1f6bcd18",
   "metadata": {},
   "outputs": [],
   "source": [
    "\n",
    "import pandas as pd\n",
    "import numpy as np\n",
    "from itertools import product\n",
    "from sklearn.preprocessing import RobustScaler\n",
    "from sklearn.preprocessing import MinMaxScaler\n",
    "from statsmodels.tsa.holtwinters import ExponentialSmoothing\n",
    "from sklearn.metrics import mean_absolute_error, mean_squared_error, mean_absolute_percentage_error\n",
    "from statsmodels.stats.diagnostic import acorr_ljungbox\n",
    "import scipy.stats as stats\n",
    "from statsmodels.stats.diagnostic import het_arch\n",
    "import matplotlib.pyplot as plt\n",
    "import seaborn as sns\n",
    "from utils import mape, hwes_cross_val, hwes_train_test\n"
   ]
  },
  {
   "cell_type": "markdown",
   "id": "f9dfe1ca",
   "metadata": {},
   "source": [
    "### 📥 Step 2: Load and Prepare the Data\n",
    "\n",
    "We load the dataset and apply a small positive shift to avoid issues with multiplicative modeling (HWES cannot handle zero or negative values)."
   ]
  },
  {
   "cell_type": "code",
   "execution_count": 3,
   "id": "3ec0ff27",
   "metadata": {},
   "outputs": [
    {
     "name": "stdout",
     "output_type": "stream",
     "text": [
      "Number of zero values in 'recommended_fee_fastestFee': 0\n"
     ]
    }
   ],
   "source": [
    "\n",
    "df = pd.read_parquet('../data/processed/preprocessed_sarima_hwes.parquet')\n",
    "\n",
    "# Count how many values are exactly zero\n",
    "zero_count = (df['recommended_fee_fastestFee'] == 0).sum()\n",
    "print(f\"Number of zero values in 'recommended_fee_fastestFee': {zero_count}\")\n",
    "\n",
    "# # Add small constant to avoid zeros for multiplicative modeling\n",
    "# epsilon = 0.01\n",
    "# df['recommended_fee_fastestFee'] += epsilon\n",
    "\n",
    "# Full series for final model\n",
    "series_full = df['recommended_fee_fastestFee'].astype(float).sort_index()\n",
    "series_full.index.freq = pd.infer_freq(series_full.index)"
   ]
  },
  {
   "cell_type": "code",
   "execution_count": 4,
   "id": "f21fb2b5",
   "metadata": {},
   "outputs": [
    {
     "data": {
      "text/plain": [
       "timestamp\n",
       "2025-03-05 02:10:00    2.0\n",
       "2025-03-05 02:15:00    2.0\n",
       "2025-03-05 02:20:00    3.0\n",
       "2025-03-05 02:25:00    4.0\n",
       "2025-03-05 02:30:00    2.0\n",
       "Freq: 5min, Name: recommended_fee_fastestFee, dtype: float64"
      ]
     },
     "execution_count": 4,
     "metadata": {},
     "output_type": "execute_result"
    }
   ],
   "source": [
    "series_full.head()"
   ]
  },
  {
   "cell_type": "markdown",
   "id": "4ab63a1a",
   "metadata": {},
   "source": [
    "### ✂️ Step 3: Train-Test Split\n",
    "\n",
    "We hold out the last 24 hours of the sample as a test set for evaluating different HWES parameter combinations. "
   ]
  },
  {
   "cell_type": "code",
   "execution_count": 5,
   "id": "8c14fb8c",
   "metadata": {},
   "outputs": [],
   "source": [
    "\n",
    "forecast_horizon = 288  # 24 hours * (60 / 5)\n",
    "train_full = series_full[:-forecast_horizon]\n",
    "test = series_full[-forecast_horizon:]\n"
   ]
  },
  {
   "cell_type": "markdown",
   "id": "0d0ada65",
   "metadata": {},
   "source": [
    "### 🔁 Step 4: Extracted Sampled Data and Apply `MinMaxScaler()`\n",
    "\n",
    "In addition, the last 7-day sample is used for tuning the model parameters. `MinMaxScaler` is used to prevent numerical instability during grid search while the shift ensures values to be strictly positive. After identifying the best model structure, the model is trained on full, real-scale data. "
   ]
  },
  {
   "cell_type": "code",
   "execution_count": 6,
   "id": "9e98be21",
   "metadata": {},
   "outputs": [
    {
     "name": "stderr",
     "output_type": "stream",
     "text": [
      "C:\\Users\\86166\\AppData\\Local\\Temp\\ipykernel_46000\\525058880.py:2: FutureWarning: last is deprecated and will be removed in a future version. Please create a mask and filter using `.loc` instead\n",
      "  train_sampled = train_full.last('7D')\n"
     ]
    }
   ],
   "source": [
    "# Subset for hyperparameter tuning (last 7 days)\n",
    "train_sampled = train_full.last('7D')\n",
    "train_sampled.index.freq = pd.infer_freq(train_sampled.index)\n",
    "\n",
    "# end_time = train_full.index[-1]\n",
    "# start_time = end_time - pd.Timedelta(days=7)\n",
    "# series_sampled = train_full.loc[start_time:end_time]"
   ]
  },
  {
   "cell_type": "code",
   "execution_count": 7,
   "id": "9266c378",
   "metadata": {},
   "outputs": [],
   "source": [
    "scaler = MinMaxScaler(feature_range=(1, 2))  # Always > 0\n",
    "train_sampled_scaled = pd.Series(\n",
    "    scaler.fit_transform(train_sampled.values.reshape(-1, 1)).flatten(),\n",
    "    index=train_sampled.index\n",
    ")"
   ]
  },
  {
   "cell_type": "code",
   "execution_count": 8,
   "id": "2bd85be2",
   "metadata": {},
   "outputs": [],
   "source": [
    "# # Create and fit the scaler\n",
    "# scaler = RobustScaler()\n",
    "# scaled = pd.Series(\n",
    "#     scaler.fit_transform(train_sampled.values.reshape(-1, 1)).flatten(),\n",
    "#     index=train_sampled.index\n",
    "# )"
   ]
  },
  {
   "cell_type": "code",
   "execution_count": 9,
   "id": "8559dde2",
   "metadata": {},
   "outputs": [],
   "source": [
    "# # Shift scaled data to be strictly positive\n",
    "# min_val = scaled.min()\n",
    "# shift = abs(min_val) + 1e-3 if min_val <= 0 else 0\n",
    "# scaled_shifted = scaled + shift\n",
    "\n",
    "# train_sampled_scaled_shifted = pd.Series(scaled_shifted, index=train_sampled.index)"
   ]
  },
  {
   "cell_type": "markdown",
   "id": "6398d8e1",
   "metadata": {},
   "source": [
    "### ⚙️ Step 5: Efficient Hyperparameter Optimization (Additive & Multiplicative)\n",
    "\n",
    "We test a mix of additive and multiplicative models, prioritizing those that better represent real-world fee dynamics (scaling seasonal effects).\n",
    "\n",
    "We try both options of 1) single train-validation split (last 7-days only) and 2) rolling window cross-validation. The latter is more robust but computationally expensive. "
   ]
  },
  {
   "cell_type": "code",
   "execution_count": 10,
   "id": "90cb4415",
   "metadata": {},
   "outputs": [
    {
     "name": "stderr",
     "output_type": "stream",
     "text": [
      "c:\\Users\\86166\\miniforge3\\envs\\satcast\\Lib\\site-packages\\statsmodels\\tsa\\holtwinters\\model.py:918: ConvergenceWarning: Optimization failed to converge. Check mle_retvals.\n",
      "  warnings.warn(\n",
      "c:\\Users\\86166\\miniforge3\\envs\\satcast\\Lib\\site-packages\\statsmodels\\tsa\\holtwinters\\model.py:84: RuntimeWarning: overflow encountered in matmul\n",
      "  return err.T @ err\n"
     ]
    }
   ],
   "source": [
    "\n",
    "# param_grid = [\n",
    "#     ('add', 'add', False),\n",
    "#     ('add', 'add', True),\n",
    "#     ('mul', 'mul', False),\n",
    "#     ('mul', 'mul', True),\n",
    "#     ('add', 'mul', False),\n",
    "#     ('mul', 'add', False),\n",
    "#     (None, None, False),\n",
    "# ]\n",
    "\n",
    "# Define all grid combinations\n",
    "trend_options = ['add', 'mul', None]\n",
    "seasonal_options = ['add', 'mul', None]\n",
    "damped_options = [True, False]\n",
    "\n",
    "param_grid = [\n",
    "    (trend, seasonal, damped)\n",
    "    for trend, seasonal, damped in product(trend_options, seasonal_options, damped_options)\n",
    "    if not (trend is None and damped)\n",
    "]\n",
    "\n",
    "best_mae= float('inf')\n",
    "best_params = None\n",
    "results = []\n",
    "\n",
    "for trend, seasonal, damped in param_grid:\n",
    "    try:\n",
    "        model = ExponentialSmoothing(\n",
    "            train_sampled_scaled,\n",
    "            trend=trend,\n",
    "            seasonal=seasonal,\n",
    "            seasonal_periods=288 if seasonal else None,\n",
    "            damped_trend=damped\n",
    "        )\n",
    "        fit = model.fit(optimized=True, use_brute=True)\n",
    "        pred = fit.forecast(forecast_horizon)\n",
    "\n",
    "        mae = mean_absolute_error(test, pred)\n",
    "        mape = mean_absolute_percentage_error(test, pred)\n",
    "        rmse = np.sqrt(mean_squared_error(test, pred))\n",
    "        results.append((trend, seasonal, damped, mae, mape, rmse))\n",
    "\n",
    "        if mae < best_mae:\n",
    "            best_mae = mae\n",
    "            best_params = (trend, seasonal, damped)\n",
    "\n",
    "    except Exception as e:\n",
    "        print(f\"Error with parameters {trend}, {seasonal}, {damped}: {e}\")\n"
   ]
  },
  {
   "cell_type": "code",
   "execution_count": 11,
   "id": "ff7f8a91",
   "metadata": {},
   "outputs": [],
   "source": [
    "# cv_results = hwes_cross_val(\n",
    "#     series=train_full,\n",
    "#     seasonal_periods=288,\n",
    "#     horizon=288,\n",
    "#     window_size=2016,  # 7 days\n",
    "#     step=288,\n",
    "#     scaler=scaler\n",
    "# )\n",
    "\n",
    "# cv_results"
   ]
  },
  {
   "cell_type": "markdown",
   "id": "32fd15cc",
   "metadata": {},
   "source": [
    "### ✅ Step 6: Report Best HWES Parameters\n",
    "\n",
    "Based on the above hyperparmeter tuning, both options yield similar best parameters."
   ]
  },
  {
   "cell_type": "code",
   "execution_count": 12,
   "id": "3ceabe60",
   "metadata": {},
   "outputs": [
    {
     "name": "stdout",
     "output_type": "stream",
     "text": [
      "Best HWES parameters: trend=mul, seasonal=mul, damped=True\n"
     ]
    }
   ],
   "source": [
    "\n",
    "best_trend, best_seasonal, best_damped = best_params\n",
    "print(f\"Best HWES parameters: trend={best_trend}, seasonal={best_seasonal}, damped={best_damped}\")\n"
   ]
  },
  {
   "cell_type": "markdown",
   "id": "9abc4664",
   "metadata": {},
   "source": [
    "### 🏁 Step 7: Train Final Model on Full Dataset\n",
    "\n",
    "With the best parameter set identified, we retrain the model on the full dataset to produce a final forecast."
   ]
  },
  {
   "cell_type": "code",
   "execution_count": 18,
   "id": "8d24bacf",
   "metadata": {},
   "outputs": [
    {
     "name": "stderr",
     "output_type": "stream",
     "text": [
      "c:\\Users\\86166\\miniforge3\\envs\\satcast\\Lib\\site-packages\\statsmodels\\tsa\\holtwinters\\model.py:918: ConvergenceWarning: Optimization failed to converge. Check mle_retvals.\n",
      "  warnings.warn(\n"
     ]
    }
   ],
   "source": [
    "\n",
    "final_model = ExponentialSmoothing(\n",
    "    train_full,\n",
    "    trend=best_trend,\n",
    "    seasonal=best_seasonal,\n",
    "    seasonal_periods=288 if best_seasonal else None,\n",
    "    damped_trend=best_damped\n",
    ")\n",
    "final_fit = final_model.fit(optimized=True, use_brute=True)\n",
    "forecast = final_fit.forecast(288)\n"
   ]
  },
  {
   "cell_type": "markdown",
   "id": "1f79261c",
   "metadata": {},
   "source": [
    "### 🧪 Step 8: Residual Analysis\n",
    "We analyze the residuals of the final model to ensure they are normally distributed and uncorrelated. This is crucial for validating the model's performance."
   ]
  },
  {
   "cell_type": "code",
   "execution_count": 19,
   "id": "727bdea9",
   "metadata": {},
   "outputs": [],
   "source": [
    "fitted_values = final_fit.fittedvalues\n",
    "residuals = train_full - fitted_values"
   ]
  },
  {
   "cell_type": "code",
   "execution_count": 20,
   "id": "8695afc8",
   "metadata": {},
   "outputs": [
    {
     "data": {
      "text/html": [
       "<div>\n",
       "<style scoped>\n",
       "    .dataframe tbody tr th:only-of-type {\n",
       "        vertical-align: middle;\n",
       "    }\n",
       "\n",
       "    .dataframe tbody tr th {\n",
       "        vertical-align: top;\n",
       "    }\n",
       "\n",
       "    .dataframe thead th {\n",
       "        text-align: right;\n",
       "    }\n",
       "</style>\n",
       "<table border=\"1\" class=\"dataframe\">\n",
       "  <thead>\n",
       "    <tr style=\"text-align: right;\">\n",
       "      <th></th>\n",
       "      <th>lb_stat</th>\n",
       "      <th>lb_pvalue</th>\n",
       "    </tr>\n",
       "  </thead>\n",
       "  <tbody>\n",
       "    <tr>\n",
       "      <th>288</th>\n",
       "      <td>620.074897</td>\n",
       "      <td>2.019040e-26</td>\n",
       "    </tr>\n",
       "  </tbody>\n",
       "</table>\n",
       "</div>"
      ],
      "text/plain": [
       "        lb_stat     lb_pvalue\n",
       "288  620.074897  2.019040e-26"
      ]
     },
     "execution_count": 20,
     "metadata": {},
     "output_type": "execute_result"
    }
   ],
   "source": [
    "# Check for Autocorrelation (Ljung-Box Test)\n",
    "# p-value < 0.05 indicates significant autocorrelation\n",
    "lb_test = acorr_ljungbox(residuals.dropna(), lags=[288], return_df=True)\n",
    "lb_test\n"
   ]
  },
  {
   "cell_type": "code",
   "execution_count": 21,
   "id": "bc8189c8",
   "metadata": {},
   "outputs": [
    {
     "data": {
      "image/png": "[encoded data removed]",
      "text/plain": [
       "<Figure size 600x400 with 1 Axes>"
      ]
     },
     "metadata": {},
     "output_type": "display_data"
    }
   ],
   "source": [
    "# Check for Normality (Q-Q Plot)\n",
    "plt.figure(figsize=(6, 4))\n",
    "stats.probplot(residuals.dropna(), dist=\"norm\", plot=plt)\n",
    "plt.title(\"Q-Q Plot of Residuals\")\n",
    "plt.show()\n"
   ]
  },
  {
   "cell_type": "code",
   "execution_count": 22,
   "id": "da0d5dc5",
   "metadata": {},
   "outputs": [
    {
     "name": "stdout",
     "output_type": "stream",
     "text": [
      "ARCH test p-value: 1.56679683248195e-180\n"
     ]
    }
   ],
   "source": [
    "# Check for Heteroskedasticity\n",
    "# p-value < 0.05 indicates heteroskedasticity\n",
    "arch_test = het_arch(residuals.dropna())\n",
    "print(f\"ARCH test p-value: {arch_test[1]}\")"
   ]
  },
  {
   "cell_type": "markdown",
   "id": "da7ceb18",
   "metadata": {},
   "source": [
    "### 📊 Step 9: Evaluate Forecast Accuracy\n",
    "\n",
    "We evaluate the forecast using MAE, MAPE, and RMSE on the last 24 hours of actual data from the full dataset."
   ]
  },
  {
   "cell_type": "code",
   "execution_count": 23,
   "id": "5c9ea1c4",
   "metadata": {},
   "outputs": [
    {
     "name": "stdout",
     "output_type": "stream",
     "text": [
      "Final Forecast MAE: 1.2096\n",
      "Final Forecast MAPE: 0.6935\n",
      "Final Forecast RMSE: 1.4747\n"
     ]
    }
   ],
   "source": [
    "\n",
    "mae = mean_absolute_error(test, forecast)\n",
    "mape = mean_absolute_percentage_error(test, forecast)\n",
    "rmse = np.sqrt(mean_squared_error(test, forecast))\n",
    "\n",
    "print(f\"Final Forecast MAE: {mae:.4f}\")\n",
    "print(f\"Final Forecast MAPE: {mape:.4f}\")\n",
    "print(f\"Final Forecast RMSE: {rmse:.4f}\")\n"
   ]
  },
  {
   "cell_type": "markdown",
   "id": "df297374",
   "metadata": {},
   "source": [
    "### 📈 Step 9: Visualize Forecast vs Actual\n",
    "\n",
    "We plot the historical series (last 7 days), the actual values from the last 24 hours, and the forecast to visually assess model performance."
   ]
  },
  {
   "cell_type": "code",
   "execution_count": 24,
   "id": "06132f39",
   "metadata": {},
   "outputs": [
    {
     "data": {
      "image/png": "[encoded data removed]",
      "text/plain": [
       "<Figure size 1500x600 with 1 Axes>"
      ]
     },
     "metadata": {},
     "output_type": "display_data"
    }
   ],
   "source": [
    "\n",
    "plt.figure(figsize=(15, 6))\n",
    "plt.plot(train_sampled, label=\"Historical\")\n",
    "plt.plot(test.index, test, label=\"Actual (Last 24h)\")\n",
    "plt.plot(test.index, forecast, label=\"Forecast (Next 24h)\")\n",
    "plt.title(\"HWES Forecast - Fastest Bitcoin Transaction Fee (sats/vByte)\")\n",
    "plt.xlabel(\"Time\")\n",
    "plt.ylabel(\"Fee\")\n",
    "plt.ylim(bottom=0)\n",
    "plt.legend()\n",
    "plt.grid(True)\n",
    "plt.show()\n"
   ]
  },
  {
   "cell_type": "markdown",
   "id": "5ce2d64d",
   "metadata": {},
   "source": [
    "### 🔍 Step 10: Further Exploration into Spikes\n",
    "\n",
    "Given the spike of fees to 41 sats / vByte on March 25, we explore how long it took to go from the last median to the maximum fee to better explore potential resampling of the data with different timeframes."
   ]
  },
  {
   "cell_type": "code",
   "execution_count": 13,
   "id": "b64f860b",
   "metadata": {},
   "outputs": [
    {
     "name": "stdout",
     "output_type": "stream",
     "text": [
      "Overall median before peak: 3.0\n",
      "Max fee value: 41.0 at 2025-03-25 21:40:00\n",
      "Last crossed median at: 2025-03-25 21:35:00\n",
      "Time to reach peak: 0 days 00:05:00\n"
     ]
    }
   ],
   "source": [
    "# Find the max value and its timestamp\n",
    "max_val = series_full.max()\n",
    "max_time = series_full.idxmax()\n",
    "\n",
    "# # Compute rolling median (288 = 1-day window for 5min data)\n",
    "# rolling_median = series_full.rolling(window=288, min_periods=1).median()\n",
    "# # Get the last median before the peak\n",
    "# last_median_before_spike = rolling_median[rolling_median.index < max_time].iloc[-1]\n",
    "\n",
    "# Find when the series first crossed above that median before reaching the max\n",
    "pre_spike = series_full[series_full.index < max_time]\n",
    "\n",
    "# Compute global median before the peak\n",
    "global_median = pre_spike.median()\n",
    "last_cross_time = pre_spike[pre_spike >= global_median].index[-1]\n",
    "\n",
    "# Calculate time to peak\n",
    "time_to_peak = max_time - last_cross_time\n",
    "\n",
    "# print(\"Last median before peak:\", last_median_before_spike)\n",
    "print(\"Overall median before peak:\", global_median)\n",
    "print(\"Max fee value:\", max_val, \"at\", max_time)\n",
    "print(\"Last crossed median at:\", last_cross_time)\n",
    "print(\"Time to reach peak:\", time_to_peak)"
   ]
  },
  {
   "cell_type": "markdown",
   "id": "3eb3f5a6",
   "metadata": {},
   "source": [
    "### ➿ Step 11: Exploration of Various Train and Test Horizon\n",
    "\n",
    "In addition to utilizing the last 24 hours of data, we explore the impact of different train and test horizons on the model's performance. This helps us understand how the model behaves with varying amounts of historical data and forecast lengths."
   ]
  },
  {
   "cell_type": "code",
   "execution_count": 24,
   "id": "688aa23a",
   "metadata": {},
   "outputs": [
    {
     "name": "stdout",
     "output_type": "stream",
     "text": [
      "Running with window=2016, horizon=288, method=sliding...\n",
      "Running with window=2016, horizon=288, method=expanding...\n",
      "Running with window=2016, horizon=576, method=sliding...\n",
      "Running with window=2016, horizon=576, method=expanding...\n",
      "Running with window=2880, horizon=288, method=sliding...\n"
     ]
    },
    {
     "name": "stderr",
     "output_type": "stream",
     "text": [
      "c:\\Users\\86166\\miniforge3\\envs\\satcast\\Lib\\site-packages\\statsmodels\\tsa\\holtwinters\\model.py:84: RuntimeWarning: overflow encountered in matmul\n",
      "  return err.T @ err\n"
     ]
    },
    {
     "name": "stdout",
     "output_type": "stream",
     "text": [
      "Running with window=2880, horizon=288, method=expanding...\n",
      "Running with window=2880, horizon=576, method=sliding...\n"
     ]
    },
    {
     "name": "stderr",
     "output_type": "stream",
     "text": [
      "c:\\Users\\86166\\miniforge3\\envs\\satcast\\Lib\\site-packages\\statsmodels\\tsa\\holtwinters\\model.py:84: RuntimeWarning: overflow encountered in matmul\n",
      "  return err.T @ err\n"
     ]
    },
    {
     "name": "stdout",
     "output_type": "stream",
     "text": [
      "Running with window=2880, horizon=576, method=expanding...\n",
      "Running with window=4032, horizon=288, method=sliding...\n",
      "Running with window=4032, horizon=288, method=expanding...\n",
      "Running with window=4032, horizon=576, method=sliding...\n",
      "Running with window=4032, horizon=576, method=expanding...\n"
     ]
    }
   ],
   "source": [
    "# Define parameter ranges\n",
    "window_sizes = [2016, 2880, 4032]   # e.g., 7 days, 10 days, 14 days (for 5-min data)\n",
    "horizons = [288, 576]  # e.g., 24h, 48h\n",
    "methods = ['sliding', 'expanding']\n",
    "results_all = []\n",
    "\n",
    "for w in window_sizes:\n",
    "    for h in horizons:\n",
    "        for m in methods:\n",
    "            if m == 'expanding':\n",
    "                # For expanding, we need to ensure the window size is not larger than the series length\n",
    "                if w > len(train_full):\n",
    "                    print(f\"Skipping expanding method with window size {w} (too large for series length).\")\n",
    "                    continue\n",
    "\n",
    "            # Perform cross-validation\n",
    "            print(f\"Running with window={w}, horizon={h}, method={m}...\")\n",
    "            df_result = hwes_train_test(\n",
    "                series=series_full,\n",
    "                seasonal_periods=288 if best_seasonal else None,\n",
    "                horizon=h,\n",
    "                window_size=w,\n",
    "                method=m,\n",
    "                trend=best_trend,\n",
    "                seasonal=best_seasonal,\n",
    "                damped_trend=best_damped,\n",
    "            )\n",
    "            df_result[\"window_size\"] = w\n",
    "            df_result[\"horizon\"] = h\n",
    "            df_result[\"method\"] = m\n",
    "            results_all.append(df_result)\n",
    "            "
   ]
  },
  {
   "cell_type": "code",
   "execution_count": 25,
   "id": "15a3f569",
   "metadata": {},
   "outputs": [
    {
     "data": {
      "text/html": [
       "<div>\n",
       "<style scoped>\n",
       "    .dataframe tbody tr th:only-of-type {\n",
       "        vertical-align: middle;\n",
       "    }\n",
       "\n",
       "    .dataframe tbody tr th {\n",
       "        vertical-align: top;\n",
       "    }\n",
       "\n",
       "    .dataframe thead th {\n",
       "        text-align: right;\n",
       "    }\n",
       "</style>\n",
       "<table border=\"1\" class=\"dataframe\">\n",
       "  <thead>\n",
       "    <tr style=\"text-align: right;\">\n",
       "      <th></th>\n",
       "      <th>train_end</th>\n",
       "      <th>mae</th>\n",
       "      <th>rmse</th>\n",
       "      <th>mape</th>\n",
       "      <th>window_size</th>\n",
       "      <th>horizon</th>\n",
       "      <th>method</th>\n",
       "    </tr>\n",
       "  </thead>\n",
       "  <tbody>\n",
       "    <tr>\n",
       "      <th>0</th>\n",
       "      <td>2025-03-12 02:05:00</td>\n",
       "      <td>1.011278</td>\n",
       "      <td>1.287977</td>\n",
       "      <td>0.371474</td>\n",
       "      <td>2016</td>\n",
       "      <td>288</td>\n",
       "      <td>sliding</td>\n",
       "    </tr>\n",
       "    <tr>\n",
       "      <th>1</th>\n",
       "      <td>2025-03-13 02:05:00</td>\n",
       "      <td>1.730017</td>\n",
       "      <td>2.111708</td>\n",
       "      <td>0.620865</td>\n",
       "      <td>2016</td>\n",
       "      <td>288</td>\n",
       "      <td>sliding</td>\n",
       "    </tr>\n",
       "    <tr>\n",
       "      <th>2</th>\n",
       "      <td>2025-03-14 02:05:00</td>\n",
       "      <td>2.389941</td>\n",
       "      <td>2.804663</td>\n",
       "      <td>0.826319</td>\n",
       "      <td>2016</td>\n",
       "      <td>288</td>\n",
       "      <td>sliding</td>\n",
       "    </tr>\n",
       "    <tr>\n",
       "      <th>3</th>\n",
       "      <td>2025-03-15 02:05:00</td>\n",
       "      <td>1.273194</td>\n",
       "      <td>1.801292</td>\n",
       "      <td>0.281275</td>\n",
       "      <td>2016</td>\n",
       "      <td>288</td>\n",
       "      <td>sliding</td>\n",
       "    </tr>\n",
       "    <tr>\n",
       "      <th>4</th>\n",
       "      <td>2025-03-16 02:05:00</td>\n",
       "      <td>5.147518</td>\n",
       "      <td>6.254297</td>\n",
       "      <td>2.103032</td>\n",
       "      <td>2016</td>\n",
       "      <td>288</td>\n",
       "      <td>sliding</td>\n",
       "    </tr>\n",
       "    <tr>\n",
       "      <th>...</th>\n",
       "      <td>...</td>\n",
       "      <td>...</td>\n",
       "      <td>...</td>\n",
       "      <td>...</td>\n",
       "      <td>...</td>\n",
       "      <td>...</td>\n",
       "      <td>...</td>\n",
       "    </tr>\n",
       "    <tr>\n",
       "      <th>153</th>\n",
       "      <td>2025-04-08 02:05:00</td>\n",
       "      <td>1.503796</td>\n",
       "      <td>2.008660</td>\n",
       "      <td>0.598551</td>\n",
       "      <td>4032</td>\n",
       "      <td>576</td>\n",
       "      <td>sliding</td>\n",
       "    </tr>\n",
       "    <tr>\n",
       "      <th>154</th>\n",
       "      <td>2025-04-10 02:05:00</td>\n",
       "      <td>1.088540</td>\n",
       "      <td>1.420219</td>\n",
       "      <td>0.599418</td>\n",
       "      <td>4032</td>\n",
       "      <td>576</td>\n",
       "      <td>sliding</td>\n",
       "    </tr>\n",
       "    <tr>\n",
       "      <th>155</th>\n",
       "      <td>2025-04-12 02:05:00</td>\n",
       "      <td>1.170880</td>\n",
       "      <td>1.565718</td>\n",
       "      <td>0.441151</td>\n",
       "      <td>4032</td>\n",
       "      <td>576</td>\n",
       "      <td>sliding</td>\n",
       "    </tr>\n",
       "    <tr>\n",
       "      <th>156</th>\n",
       "      <td>2025-03-19 02:05:00</td>\n",
       "      <td>1.421388</td>\n",
       "      <td>1.936241</td>\n",
       "      <td>0.355535</td>\n",
       "      <td>4032</td>\n",
       "      <td>576</td>\n",
       "      <td>expanding</td>\n",
       "    </tr>\n",
       "    <tr>\n",
       "      <th>157</th>\n",
       "      <td>2025-04-02 02:05:00</td>\n",
       "      <td>1.252162</td>\n",
       "      <td>1.671209</td>\n",
       "      <td>0.451913</td>\n",
       "      <td>4032</td>\n",
       "      <td>576</td>\n",
       "      <td>expanding</td>\n",
       "    </tr>\n",
       "  </tbody>\n",
       "</table>\n",
       "<p>158 rows × 7 columns</p>\n",
       "</div>"
      ],
      "text/plain": [
       "              train_end       mae      rmse      mape  window_size  horizon  \\\n",
       "0   2025-03-12 02:05:00  1.011278  1.287977  0.371474         2016      288   \n",
       "1   2025-03-13 02:05:00  1.730017  2.111708  0.620865         2016      288   \n",
       "2   2025-03-14 02:05:00  2.389941  2.804663  0.826319         2016      288   \n",
       "3   2025-03-15 02:05:00  1.273194  1.801292  0.281275         2016      288   \n",
       "4   2025-03-16 02:05:00  5.147518  6.254297  2.103032         2016      288   \n",
       "..                  ...       ...       ...       ...          ...      ...   \n",
       "153 2025-04-08 02:05:00  1.503796  2.008660  0.598551         4032      576   \n",
       "154 2025-04-10 02:05:00  1.088540  1.420219  0.599418         4032      576   \n",
       "155 2025-04-12 02:05:00  1.170880  1.565718  0.441151         4032      576   \n",
       "156 2025-03-19 02:05:00  1.421388  1.936241  0.355535         4032      576   \n",
       "157 2025-04-02 02:05:00  1.252162  1.671209  0.451913         4032      576   \n",
       "\n",
       "        method  \n",
       "0      sliding  \n",
       "1      sliding  \n",
       "2      sliding  \n",
       "3      sliding  \n",
       "4      sliding  \n",
       "..         ...  \n",
       "153    sliding  \n",
       "154    sliding  \n",
       "155    sliding  \n",
       "156  expanding  \n",
       "157  expanding  \n",
       "\n",
       "[158 rows x 7 columns]"
      ]
     },
     "execution_count": 25,
     "metadata": {},
     "output_type": "execute_result"
    }
   ],
   "source": [
    "all_results_df = pd.concat(results_all, ignore_index=True)\n",
    "all_results_df"
   ]
  },
  {
   "cell_type": "code",
   "execution_count": 34,
   "id": "cfa31635",
   "metadata": {},
   "outputs": [
    {
     "data": {
      "text/html": [
       "<div>\n",
       "<style scoped>\n",
       "    .dataframe tbody tr th:only-of-type {\n",
       "        vertical-align: middle;\n",
       "    }\n",
       "\n",
       "    .dataframe tbody tr th {\n",
       "        vertical-align: top;\n",
       "    }\n",
       "\n",
       "    .dataframe thead th {\n",
       "        text-align: right;\n",
       "    }\n",
       "</style>\n",
       "<table border=\"1\" class=\"dataframe\">\n",
       "  <thead>\n",
       "    <tr style=\"text-align: right;\">\n",
       "      <th></th>\n",
       "      <th>train_end</th>\n",
       "      <th>mae</th>\n",
       "      <th>rmse</th>\n",
       "      <th>mape</th>\n",
       "      <th>window_size</th>\n",
       "      <th>horizon</th>\n",
       "      <th>method</th>\n",
       "    </tr>\n",
       "  </thead>\n",
       "  <tbody>\n",
       "  </tbody>\n",
       "</table>\n",
       "</div>"
      ],
      "text/plain": [
       "Empty DataFrame\n",
       "Columns: [train_end, mae, rmse, mape, window_size, horizon, method]\n",
       "Index: []"
      ]
     },
     "execution_count": 34,
     "metadata": {},
     "output_type": "execute_result"
    }
   ],
   "source": [
    "# Check for NaN values in the results\n",
    "all_results_df[all_results_df.isna().any(axis=1)]"
   ]
  },
  {
   "cell_type": "code",
   "execution_count": 43,
   "id": "ef7f349f",
   "metadata": {},
   "outputs": [
    {
     "data": {
      "text/html": [
       "<div>\n",
       "<style scoped>\n",
       "    .dataframe tbody tr th:only-of-type {\n",
       "        vertical-align: middle;\n",
       "    }\n",
       "\n",
       "    .dataframe tbody tr th {\n",
       "        vertical-align: top;\n",
       "    }\n",
       "\n",
       "    .dataframe thead th {\n",
       "        text-align: right;\n",
       "    }\n",
       "</style>\n",
       "<table border=\"1\" class=\"dataframe\">\n",
       "  <thead>\n",
       "    <tr style=\"text-align: right;\">\n",
       "      <th></th>\n",
       "      <th>method</th>\n",
       "      <th>window_size</th>\n",
       "      <th>horizon</th>\n",
       "      <th>mae</th>\n",
       "      <th>rmse</th>\n",
       "      <th>mape</th>\n",
       "    </tr>\n",
       "  </thead>\n",
       "  <tbody>\n",
       "    <tr>\n",
       "      <th>0</th>\n",
       "      <td>expanding</td>\n",
       "      <td>2016</td>\n",
       "      <td>288</td>\n",
       "      <td>1.279992</td>\n",
       "      <td>1.793158</td>\n",
       "      <td>0.432956</td>\n",
       "    </tr>\n",
       "    <tr>\n",
       "      <th>1</th>\n",
       "      <td>expanding</td>\n",
       "      <td>2016</td>\n",
       "      <td>576</td>\n",
       "      <td>1.320485</td>\n",
       "      <td>1.811520</td>\n",
       "      <td>0.455346</td>\n",
       "    </tr>\n",
       "    <tr>\n",
       "      <th>2</th>\n",
       "      <td>expanding</td>\n",
       "      <td>2880</td>\n",
       "      <td>288</td>\n",
       "      <td>2.547488</td>\n",
       "      <td>4.139115</td>\n",
       "      <td>0.719159</td>\n",
       "    </tr>\n",
       "    <tr>\n",
       "      <th>3</th>\n",
       "      <td>expanding</td>\n",
       "      <td>2880</td>\n",
       "      <td>576</td>\n",
       "      <td>2.210805</td>\n",
       "      <td>3.854215</td>\n",
       "      <td>0.719466</td>\n",
       "    </tr>\n",
       "    <tr>\n",
       "      <th>4</th>\n",
       "      <td>expanding</td>\n",
       "      <td>4032</td>\n",
       "      <td>288</td>\n",
       "      <td>1.211869</td>\n",
       "      <td>1.664606</td>\n",
       "      <td>0.382683</td>\n",
       "    </tr>\n",
       "    <tr>\n",
       "      <th>5</th>\n",
       "      <td>expanding</td>\n",
       "      <td>4032</td>\n",
       "      <td>576</td>\n",
       "      <td>1.336775</td>\n",
       "      <td>1.803725</td>\n",
       "      <td>0.403724</td>\n",
       "    </tr>\n",
       "    <tr>\n",
       "      <th>6</th>\n",
       "      <td>sliding</td>\n",
       "      <td>2016</td>\n",
       "      <td>288</td>\n",
       "      <td>2.186283</td>\n",
       "      <td>2.932101</td>\n",
       "      <td>0.875219</td>\n",
       "    </tr>\n",
       "    <tr>\n",
       "      <th>7</th>\n",
       "      <td>sliding</td>\n",
       "      <td>2016</td>\n",
       "      <td>576</td>\n",
       "      <td>2.083006</td>\n",
       "      <td>2.952387</td>\n",
       "      <td>0.869928</td>\n",
       "    </tr>\n",
       "    <tr>\n",
       "      <th>8</th>\n",
       "      <td>sliding</td>\n",
       "      <td>2880</td>\n",
       "      <td>288</td>\n",
       "      <td>2.025498</td>\n",
       "      <td>2.723925</td>\n",
       "      <td>0.802131</td>\n",
       "    </tr>\n",
       "    <tr>\n",
       "      <th>9</th>\n",
       "      <td>sliding</td>\n",
       "      <td>2880</td>\n",
       "      <td>576</td>\n",
       "      <td>2.160024</td>\n",
       "      <td>2.855513</td>\n",
       "      <td>0.875335</td>\n",
       "    </tr>\n",
       "    <tr>\n",
       "      <th>10</th>\n",
       "      <td>sliding</td>\n",
       "      <td>4032</td>\n",
       "      <td>288</td>\n",
       "      <td>2.195147</td>\n",
       "      <td>2.944639</td>\n",
       "      <td>0.941037</td>\n",
       "    </tr>\n",
       "    <tr>\n",
       "      <th>11</th>\n",
       "      <td>sliding</td>\n",
       "      <td>4032</td>\n",
       "      <td>576</td>\n",
       "      <td>2.365198</td>\n",
       "      <td>3.086581</td>\n",
       "      <td>1.008741</td>\n",
       "    </tr>\n",
       "  </tbody>\n",
       "</table>\n",
       "</div>"
      ],
      "text/plain": [
       "       method  window_size  horizon       mae      rmse      mape\n",
       "0   expanding         2016      288  1.279992  1.793158  0.432956\n",
       "1   expanding         2016      576  1.320485  1.811520  0.455346\n",
       "2   expanding         2880      288  2.547488  4.139115  0.719159\n",
       "3   expanding         2880      576  2.210805  3.854215  0.719466\n",
       "4   expanding         4032      288  1.211869  1.664606  0.382683\n",
       "5   expanding         4032      576  1.336775  1.803725  0.403724\n",
       "6     sliding         2016      288  2.186283  2.932101  0.875219\n",
       "7     sliding         2016      576  2.083006  2.952387  0.869928\n",
       "8     sliding         2880      288  2.025498  2.723925  0.802131\n",
       "9     sliding         2880      576  2.160024  2.855513  0.875335\n",
       "10    sliding         4032      288  2.195147  2.944639  0.941037\n",
       "11    sliding         4032      576  2.365198  3.086581  1.008741"
      ]
     },
     "execution_count": 43,
     "metadata": {},
     "output_type": "execute_result"
    }
   ],
   "source": [
    "# Summarize error metrics by config\n",
    "train_test_summary = (\n",
    "    all_results_df.groupby([\"method\", \"window_size\", \"horizon\"])\n",
    "    .agg({\"mae\": \"mean\", \"rmse\": \"mean\", \"mape\": \"mean\"})\n",
    "    .reset_index()\n",
    ")\n",
    "train_test_summary"
   ]
  },
  {
   "cell_type": "code",
   "execution_count": 44,
   "id": "d5063657",
   "metadata": {},
   "outputs": [
    {
     "name": "stdout",
     "output_type": "stream",
     "text": [
      "Best configuration:\n",
      " method         expanding\n",
      "window_size         4032\n",
      "horizon              288\n",
      "mae             1.211869\n",
      "rmse            1.664606\n",
      "mape            0.382683\n",
      "Name: 4, dtype: object\n"
     ]
    }
   ],
   "source": [
    "# Best configuration (lowest RMSE)\n",
    "best_config = train_test_summary.loc[train_test_summary[\"mae\"].idxmin()]\n",
    "print(\"Best configuration:\\n\", best_config)"
   ]
  },
  {
   "cell_type": "code",
   "execution_count": null,
   "id": "df4abc0e",
   "metadata": {},
   "outputs": [
    {
     "data": {
      "image/png": "[encoded data removed]",
      "text/plain": [
       "<Figure size 1000x600 with 1 Axes>"
      ]
     },
     "metadata": {},
     "output_type": "display_data"
    }
   ],
   "source": [
    "# RMSE plot across window/horizon\n",
    "plt.figure(figsize=(10, 6))\n",
    "sns.lineplot(data=summary, x=\"window_size\", y=\"mae\", hue=\"horizon\", style=\"method\", marker=\"o\")\n",
    "plt.title(\"HWES RMSE Across Horizons and Window Sizes\")\n",
    "plt.xlabel(\"Window Sizes (steps)\")\n",
    "plt.ylabel(\"RMSE\")\n",
    "plt.grid(True)\n",
    "plt.tight_layout()\n",
    "plt.show()"
   ]
  },
  {
   "cell_type": "markdown",
   "id": "61457163",
   "metadata": {},
   "source": [
    "### 📌 Step 12: Resample to Different Intervals\n",
    "\n",
    "Test the model with different resampling intervals (e.g., 5 min, 10 min, 15 min) to see how it performs with different time granularities. This can help identify the best interval for capturing fee dynamics."
   ]
  },
  {
   "cell_type": "code",
   "execution_count": null,
   "id": "95b88558",
   "metadata": {},
   "outputs": [],
   "source": [
    "# Each entry is: {\"new frequency\": factor relative to 5min}\n",
    "resample_rules = {\n",
    "    \"5min\": 1,      # original data\n",
    "    \"15min\": 3,     # 3 * 5min = 15min\n",
    "    \"30min\": 6,\n",
    "    \"1H\": 12,       # 12 * 5min = 60min\n",
    "    \"2H\": 24        # 24 * 5min = 120min\n",
    "}\n",
    "\n",
    "# Base seasonal periods in 5-min steps\n",
    "base_seasonal_period = 288  # daily seasonality (24h)"
   ]
  },
  {
   "cell_type": "code",
   "execution_count": null,
   "id": "85134e18",
   "metadata": {},
   "outputs": [],
   "source": [
    "# Extract best configuration from summary\n",
    "base_window = int(best_config['window_size'])\n",
    "base_horizon = int(best_config['horizon'])\n",
    "best_method = best_config['method']"
   ]
  },
  {
   "cell_type": "code",
   "execution_count": 40,
   "id": "4cf96c3b",
   "metadata": {},
   "outputs": [
    {
     "name": "stdout",
     "output_type": "stream",
     "text": [
      "\n",
      "🔁 Running for interval: 5min\n",
      "\n",
      "🔁 Running for interval: 15min\n"
     ]
    },
    {
     "name": "stderr",
     "output_type": "stream",
     "text": [
      "c:\\Users\\86166\\miniforge3\\envs\\satcast\\Lib\\site-packages\\statsmodels\\tsa\\holtwinters\\model.py:84: RuntimeWarning: overflow encountered in matmul\n",
      "  return err.T @ err\n"
     ]
    },
    {
     "name": "stdout",
     "output_type": "stream",
     "text": [
      "\n",
      "🔁 Running for interval: 30min\n"
     ]
    },
    {
     "name": "stderr",
     "output_type": "stream",
     "text": [
      "c:\\Users\\86166\\miniforge3\\envs\\satcast\\Lib\\site-packages\\statsmodels\\tsa\\holtwinters\\model.py:84: RuntimeWarning: overflow encountered in matmul\n",
      "  return err.T @ err\n"
     ]
    },
    {
     "name": "stdout",
     "output_type": "stream",
     "text": [
      "\n",
      "🔁 Running for interval: 1H\n",
      "\n",
      "🔁 Running for interval: 2H\n"
     ]
    }
   ],
   "source": [
    "subsample_results_list = []\n",
    "\n",
    "for label, step in resample_rules.items():\n",
    "    print(f\"\\n🔁 Running for interval: {label}\")\n",
    "\n",
    "    # Subsample instead of aggregate\n",
    "    subsample_series = series_full.iloc[::step].copy()\n",
    "\n",
    "    # Adjust parameters\n",
    "    window_size = int(base_window / step)\n",
    "    horizon = int(base_horizon / step)\n",
    "    seasonal_period = int(base_seasonal_period / step)\n",
    "\n",
    "    try:\n",
    "        df_result = hwes_train_test(\n",
    "            series=subsample_series,\n",
    "            seasonal_periods=seasonal_period,\n",
    "            horizon=horizon,\n",
    "            window_size=window_size,\n",
    "            method=best_method,         \n",
    "            trend=best_trend,\n",
    "            seasonal=best_seasonal,\n",
    "            damped_trend=best_damped,\n",
    "        )\n",
    "        df_result[\"subsample\"] = label\n",
    "        subsample_results_list.append(df_result)\n",
    "    except Exception as e:\n",
    "        print(f\"❌ Failed on {label}: {e}\")\n",
    "        continue"
   ]
  },
  {
   "cell_type": "code",
   "execution_count": 41,
   "id": "6c4fcdec",
   "metadata": {},
   "outputs": [
    {
     "data": {
      "text/html": [
       "<div>\n",
       "<style scoped>\n",
       "    .dataframe tbody tr th:only-of-type {\n",
       "        vertical-align: middle;\n",
       "    }\n",
       "\n",
       "    .dataframe tbody tr th {\n",
       "        vertical-align: top;\n",
       "    }\n",
       "\n",
       "    .dataframe thead th {\n",
       "        text-align: right;\n",
       "    }\n",
       "</style>\n",
       "<table border=\"1\" class=\"dataframe\">\n",
       "  <thead>\n",
       "    <tr style=\"text-align: right;\">\n",
       "      <th></th>\n",
       "      <th>train_end</th>\n",
       "      <th>mae</th>\n",
       "      <th>rmse</th>\n",
       "      <th>mape</th>\n",
       "      <th>subsample</th>\n",
       "    </tr>\n",
       "  </thead>\n",
       "  <tbody>\n",
       "    <tr>\n",
       "      <th>0</th>\n",
       "      <td>2025-03-19 02:05:00</td>\n",
       "      <td>1.330871</td>\n",
       "      <td>1.805790</td>\n",
       "      <td>0.358499</td>\n",
       "      <td>5min</td>\n",
       "    </tr>\n",
       "    <tr>\n",
       "      <th>1</th>\n",
       "      <td>2025-04-02 02:05:00</td>\n",
       "      <td>1.092866</td>\n",
       "      <td>1.523423</td>\n",
       "      <td>0.406868</td>\n",
       "      <td>5min</td>\n",
       "    </tr>\n",
       "    <tr>\n",
       "      <th>2</th>\n",
       "      <td>2025-03-19 01:55:00</td>\n",
       "      <td>1.256651</td>\n",
       "      <td>1.778679</td>\n",
       "      <td>0.306171</td>\n",
       "      <td>15min</td>\n",
       "    </tr>\n",
       "    <tr>\n",
       "      <th>3</th>\n",
       "      <td>2025-04-02 01:55:00</td>\n",
       "      <td>1.701407</td>\n",
       "      <td>2.091633</td>\n",
       "      <td>1.235126</td>\n",
       "      <td>15min</td>\n",
       "    </tr>\n",
       "    <tr>\n",
       "      <th>4</th>\n",
       "      <td>2025-03-19 01:40:00</td>\n",
       "      <td>1.280749</td>\n",
       "      <td>1.721365</td>\n",
       "      <td>0.318165</td>\n",
       "      <td>30min</td>\n",
       "    </tr>\n",
       "    <tr>\n",
       "      <th>5</th>\n",
       "      <td>2025-04-02 01:40:00</td>\n",
       "      <td>1.138308</td>\n",
       "      <td>1.465890</td>\n",
       "      <td>0.553793</td>\n",
       "      <td>30min</td>\n",
       "    </tr>\n",
       "    <tr>\n",
       "      <th>6</th>\n",
       "      <td>2025-03-19 01:10:00</td>\n",
       "      <td>1.169691</td>\n",
       "      <td>1.511688</td>\n",
       "      <td>0.311218</td>\n",
       "      <td>1H</td>\n",
       "    </tr>\n",
       "    <tr>\n",
       "      <th>7</th>\n",
       "      <td>2025-04-02 01:10:00</td>\n",
       "      <td>1.249778</td>\n",
       "      <td>1.618389</td>\n",
       "      <td>0.817294</td>\n",
       "      <td>1H</td>\n",
       "    </tr>\n",
       "    <tr>\n",
       "      <th>8</th>\n",
       "      <td>2025-03-19 00:10:00</td>\n",
       "      <td>4.862538</td>\n",
       "      <td>5.177011</td>\n",
       "      <td>1.756861</td>\n",
       "      <td>2H</td>\n",
       "    </tr>\n",
       "    <tr>\n",
       "      <th>9</th>\n",
       "      <td>2025-04-02 00:10:00</td>\n",
       "      <td>1.170897</td>\n",
       "      <td>1.476559</td>\n",
       "      <td>1.028352</td>\n",
       "      <td>2H</td>\n",
       "    </tr>\n",
       "  </tbody>\n",
       "</table>\n",
       "</div>"
      ],
      "text/plain": [
       "            train_end       mae      rmse      mape subsample\n",
       "0 2025-03-19 02:05:00  1.330871  1.805790  0.358499      5min\n",
       "1 2025-04-02 02:05:00  1.092866  1.523423  0.406868      5min\n",
       "2 2025-03-19 01:55:00  1.256651  1.778679  0.306171     15min\n",
       "3 2025-04-02 01:55:00  1.701407  2.091633  1.235126     15min\n",
       "4 2025-03-19 01:40:00  1.280749  1.721365  0.318165     30min\n",
       "5 2025-04-02 01:40:00  1.138308  1.465890  0.553793     30min\n",
       "6 2025-03-19 01:10:00  1.169691  1.511688  0.311218        1H\n",
       "7 2025-04-02 01:10:00  1.249778  1.618389  0.817294        1H\n",
       "8 2025-03-19 00:10:00  4.862538  5.177011  1.756861        2H\n",
       "9 2025-04-02 00:10:00  1.170897  1.476559  1.028352        2H"
      ]
     },
     "execution_count": 41,
     "metadata": {},
     "output_type": "execute_result"
    }
   ],
   "source": [
    "# Combine all results\n",
    "all_results_subsample_df = pd.concat(subsample_results_list, ignore_index=True)\n",
    "all_results_subsample_df"
   ]
  },
  {
   "cell_type": "code",
   "execution_count": 42,
   "id": "1f5bd7b1",
   "metadata": {},
   "outputs": [
    {
     "data": {
      "text/html": [
       "<div>\n",
       "<style scoped>\n",
       "    .dataframe tbody tr th:only-of-type {\n",
       "        vertical-align: middle;\n",
       "    }\n",
       "\n",
       "    .dataframe tbody tr th {\n",
       "        vertical-align: top;\n",
       "    }\n",
       "\n",
       "    .dataframe thead th {\n",
       "        text-align: right;\n",
       "    }\n",
       "</style>\n",
       "<table border=\"1\" class=\"dataframe\">\n",
       "  <thead>\n",
       "    <tr style=\"text-align: right;\">\n",
       "      <th></th>\n",
       "      <th>train_end</th>\n",
       "      <th>mae</th>\n",
       "      <th>rmse</th>\n",
       "      <th>mape</th>\n",
       "      <th>subsample</th>\n",
       "    </tr>\n",
       "  </thead>\n",
       "  <tbody>\n",
       "  </tbody>\n",
       "</table>\n",
       "</div>"
      ],
      "text/plain": [
       "Empty DataFrame\n",
       "Columns: [train_end, mae, rmse, mape, subsample]\n",
       "Index: []"
      ]
     },
     "execution_count": 42,
     "metadata": {},
     "output_type": "execute_result"
    }
   ],
   "source": [
    "# Check for NaN values in the results\n",
    "all_results_subsample_df[all_results_subsample_df.isna().any(axis=1)]"
   ]
  },
  {
   "cell_type": "code",
   "execution_count": 45,
   "id": "3dfc1e0b",
   "metadata": {},
   "outputs": [
    {
     "data": {
      "text/html": [
       "<div>\n",
       "<style scoped>\n",
       "    .dataframe tbody tr th:only-of-type {\n",
       "        vertical-align: middle;\n",
       "    }\n",
       "\n",
       "    .dataframe tbody tr th {\n",
       "        vertical-align: top;\n",
       "    }\n",
       "\n",
       "    .dataframe thead th {\n",
       "        text-align: right;\n",
       "    }\n",
       "</style>\n",
       "<table border=\"1\" class=\"dataframe\">\n",
       "  <thead>\n",
       "    <tr style=\"text-align: right;\">\n",
       "      <th></th>\n",
       "      <th>subsample</th>\n",
       "      <th>mae</th>\n",
       "      <th>rmse</th>\n",
       "      <th>mape</th>\n",
       "    </tr>\n",
       "  </thead>\n",
       "  <tbody>\n",
       "    <tr>\n",
       "      <th>0</th>\n",
       "      <td>15min</td>\n",
       "      <td>1.479029</td>\n",
       "      <td>1.935156</td>\n",
       "      <td>0.770649</td>\n",
       "    </tr>\n",
       "    <tr>\n",
       "      <th>1</th>\n",
       "      <td>1H</td>\n",
       "      <td>1.209734</td>\n",
       "      <td>1.565038</td>\n",
       "      <td>0.564256</td>\n",
       "    </tr>\n",
       "    <tr>\n",
       "      <th>2</th>\n",
       "      <td>2H</td>\n",
       "      <td>3.016717</td>\n",
       "      <td>3.326785</td>\n",
       "      <td>1.392607</td>\n",
       "    </tr>\n",
       "    <tr>\n",
       "      <th>3</th>\n",
       "      <td>30min</td>\n",
       "      <td>1.209528</td>\n",
       "      <td>1.593627</td>\n",
       "      <td>0.435979</td>\n",
       "    </tr>\n",
       "    <tr>\n",
       "      <th>4</th>\n",
       "      <td>5min</td>\n",
       "      <td>1.211869</td>\n",
       "      <td>1.664606</td>\n",
       "      <td>0.382683</td>\n",
       "    </tr>\n",
       "  </tbody>\n",
       "</table>\n",
       "</div>"
      ],
      "text/plain": [
       "  subsample       mae      rmse      mape\n",
       "0     15min  1.479029  1.935156  0.770649\n",
       "1        1H  1.209734  1.565038  0.564256\n",
       "2        2H  3.016717  3.326785  1.392607\n",
       "3     30min  1.209528  1.593627  0.435979\n",
       "4      5min  1.211869  1.664606  0.382683"
      ]
     },
     "execution_count": 45,
     "metadata": {},
     "output_type": "execute_result"
    }
   ],
   "source": [
    "# Summarize error metrics by config\n",
    "interval_summary = (\n",
    "    all_results_subsample_df.groupby([\"subsample\"])\n",
    "    .agg({\"mae\": \"mean\", \"rmse\": \"mean\", \"mape\": \"mean\"})\n",
    "    .reset_index()\n",
    ")\n",
    "interval_summary"
   ]
  },
  {
   "cell_type": "code",
   "execution_count": 47,
   "id": "cf88fbb2",
   "metadata": {},
   "outputs": [
    {
     "name": "stdout",
     "output_type": "stream",
     "text": [
      "Best configuration:\n",
      " subsample       30min\n",
      "mae          1.209528\n",
      "rmse         1.593627\n",
      "mape         0.435979\n",
      "Name: 3, dtype: object\n"
     ]
    }
   ],
   "source": [
    "# Best configuration (lowest RMSE)\n",
    "best_interval = interval_summary.loc[interval_summary[\"mae\"].idxmin()]\n",
    "print(\"Best configuration:\\n\", best_interval)"
   ]
  },
  {
   "cell_type": "code",
   "execution_count": 53,
   "id": "740e7c5f",
   "metadata": {},
   "outputs": [
    {
     "data": {
      "image/png": "[encoded data removed]",
      "text/plain": [
       "<Figure size 1200x600 with 1 Axes>"
      ]
     },
     "metadata": {},
     "output_type": "display_data"
    }
   ],
   "source": [
    "# Sort the DataFrame by MAE\n",
    "interval_summary_sorted = interval_summary.sort_values(\"mae\").reset_index(drop=True)\n",
    "\n",
    "# Setup\n",
    "plt.figure(figsize=(12, 6))\n",
    "bar_width = 0.35\n",
    "x = interval_summary_sorted[\"subsample\"]\n",
    "x_pos = range(len(x))\n",
    "\n",
    "# Plot bars\n",
    "mae_bars = plt.bar(x_pos, interval_summary_sorted[\"mae\"], width=bar_width, label=\"MAE\")\n",
    "rmse_bars = plt.bar([p + bar_width for p in x_pos], interval_summary_sorted[\"rmse\"], width=bar_width, label=\"RMSE\")\n",
    "\n",
    "# Annotate values on bars\n",
    "for bar in mae_bars:\n",
    "    height = bar.get_height()\n",
    "    plt.text(bar.get_x() + bar.get_width()/2, height + 0.03, f\"{height:.2f}\", ha='center', va='bottom', fontsize=9)\n",
    "\n",
    "for bar in rmse_bars:\n",
    "    height = bar.get_height()\n",
    "    plt.text(bar.get_x() + bar.get_width()/2, height + 0.03, f\"{height:.2f}\", ha='center', va='bottom', fontsize=9)\n",
    "\n",
    "# Labels and formatting\n",
    "plt.xticks([p + bar_width / 2 for p in x_pos], x)\n",
    "plt.title(\"MAE and RMSE by Subsample Interval\")\n",
    "plt.xlabel(\"Subsample Interval\")\n",
    "plt.ylabel(\"Error\")\n",
    "plt.legend()\n",
    "plt.grid(False)\n",
    "plt.tight_layout()\n",
    "plt.show()"
   ]
  },
  {
   "cell_type": "markdown",
   "id": "0b4e72db",
   "metadata": {},
   "source": [
    "### 🌐 Step 13: Resample to Different Intervals\n",
    "\n",
    "The below section combines the best configuration from the previous step with the resampling intervals. It will run the HWES model on each subsampled series and evaluate the performance. Be cautious of memory usage and time execution, as this can be computationally intensive depending on the size of data and the number of intervals chosen."
   ]
  },
  {
   "cell_type": "code",
   "execution_count": null,
   "id": "f7bbde78",
   "metadata": {},
   "outputs": [],
   "source": [
    "# base_window_sizes = [2016, 2880, 4032]   # e.g., 7 days, 10 days, 14 days (for 5-min data)\n",
    "# base_horizons = [288, 576]  # e.g., 24h, 48h\n",
    "\n",
    "# # Store all results\n",
    "# all_resample_results = []\n",
    "\n",
    "# # Run for each resampling interval\n",
    "# for rule, factor in resample_rules.items():\n",
    "#     print(f\"\\n=== Resampling to {rule} interval ===\")\n",
    "#     step = resample_rules[rule]\n",
    "#     series_resampled = series_full.iloc[::step].copy()\n",
    "\n",
    "#     window_sizes = [int(w / factor) for w in base_window_sizes]\n",
    "#     horizons = [int(h / factor) for h in base_horizons]\n",
    "#     seasonal_periods = int(288 / factor)\n",
    "\n",
    "#     for w in window_sizes:\n",
    "#         for h in horizons:\n",
    "#             for m in methods:\n",
    "#                 if m == 'expanding' and w > len(series_resampled):\n",
    "#                     print(f\"Skipping expanding method with window size {w} (too large for series length).\")\n",
    "#                     continue\n",
    "\n",
    "#                 print(f\"Running {rule} | window={w}, horizon={h}, method={m}...\")\n",
    "#                 try:\n",
    "#                     df_result = hwes_train_test(\n",
    "#                         series=series_resampled,\n",
    "#                         seasonal_periods=seasonal_periods if best_seasonal else None,\n",
    "#                         horizon=h,\n",
    "#                         window_size=w,\n",
    "#                         method=m,\n",
    "#                         trend=best_trend,\n",
    "#                         seasonal=best_seasonal,\n",
    "#                         damped_trend=best_damped,\n",
    "#                     )\n",
    "#                     df_result[\"window_size\"] = w\n",
    "#                     df_result[\"horizon\"] = h\n",
    "#                     df_result[\"method\"] = m\n",
    "#                     df_result[\"resample\"] = rule\n",
    "#                     all_resample_results.append(df_result)\n",
    "#                 except Exception as e:\n",
    "#                     print(f\"Failed at {rule} | window={w}, horizon={h}, method={m}: {e}\")\n",
    "#                     continue"
   ]
  }
 ],
 "metadata": {
  "kernelspec": {
   "display_name": "satcast",
   "language": "python",
   "name": "python3"
  },
  "language_info": {
   "codemirror_mode": {
    "name": "ipython",
    "version": 3
   },
   "file_extension": ".py",
   "mimetype": "text/x-python",
   "name": "python",
   "nbconvert_exporter": "python",
   "pygments_lexer": "ipython3",
   "version": "3.13.2"
  }
 },
 "nbformat": 4,
 "nbformat_minor": 5
}
