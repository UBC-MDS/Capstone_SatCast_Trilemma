{
 "cells": [
  {
   "cell_type": "markdown",
   "id": "0d0c5a81-f96b-4ad0-90ce-433e36731651",
   "metadata": {},
   "source": [
    "# SARIMA Model for Forecasting Bitcoin Transaction Fees (Next 24 Hours)\n",
    "\n",
    "This notebook builds and evaluates a SARIMA model to forecast the **Bitcoin transaction fee** over the **next 24 hours** , using **15-minute interval data** resampled from the raw mempool dataset.\n",
    "\n",
    "### Why SARIMA?\n",
    "\n",
    "During exploratory data analysis (EDA), we identified:\n",
    "- **Daily seasonality patterns** in transaction fees (24-hour cycle),\n",
    "- **Strong autocorrelation**, indicating temporal dependence.\n",
    "\n",
    "Given these findings, the SARIMA model is an appropriate choice as it can model:\n",
    "- Autoregressive and moving average components,\n",
    "- **Seasonal effects**, such as daily cyclic behavior.\n",
    "\n",
    "This notebook walks through the full modeling pipeline using SARIMA.\n"
   ]
  },
  {
   "cell_type": "code",
   "execution_count": 2,
   "id": "1f9a6592-6368-47fa-badb-823af8f442cd",
   "metadata": {},
   "outputs": [],
   "source": [
    "from sktime.forecasting.model_selection import (ExpandingWindowSplitter, SlidingWindowSplitter, temporal_train_test_split)\n",
    "from sktime.forecasting.base import ForecastingHorizon\n",
    "from sktime.forecasting.arima import AutoARIMA, ARIMA\n",
    "from sktime.performance_metrics.forecasting import mean_absolute_percentage_error, mean_squared_error, mean_absolute_error\n",
    "from sktime.forecasting.model_evaluation import evaluate\n",
    "import pandas as pd\n",
    "from statsmodels.tsa.seasonal import seasonal_decompose\n",
    "import numpy as np\n",
    "from statsmodels.graphics.tsaplots import plot_acf, plot_pacf\n",
    "from statsmodels.tsa.stattools import adfuller\n",
    "import matplotlib.pyplot as plt\n",
    "import warnings\n",
    "warnings.filterwarnings(\"ignore\")"
   ]
  },
  {
   "cell_type": "markdown",
   "id": "c238f86b-145c-49c6-89e3-826e4e265f51",
   "metadata": {},
   "source": [
    "## 1. Data Loading\n",
    "\n",
    "We begin by loading the preprocessed dataset specifically prepared for SARIMA and HWES models.\n"
   ]
  },
  {
   "cell_type": "code",
   "execution_count": 3,
   "id": "e38185de-9bd5-48b6-8f70-3426de81f758",
   "metadata": {},
   "outputs": [
    {
     "data": {
      "text/html": [
       "<div>\n",
       "<style scoped>\n",
       "    .dataframe tbody tr th:only-of-type {\n",
       "        vertical-align: middle;\n",
       "    }\n",
       "\n",
       "    .dataframe tbody tr th {\n",
       "        vertical-align: top;\n",
       "    }\n",
       "\n",
       "    .dataframe thead th {\n",
       "        text-align: right;\n",
       "    }\n",
       "</style>\n",
       "<table border=\"1\" class=\"dataframe\">\n",
       "  <thead>\n",
       "    <tr style=\"text-align: right;\">\n",
       "      <th></th>\n",
       "      <th>mempool_blocks_blockSize</th>\n",
       "      <th>mempool_blocks_blockVSize</th>\n",
       "      <th>mempool_blocks_nTx</th>\n",
       "      <th>mempool_blocks_totalFees</th>\n",
       "      <th>mempool_blocks_medianFee</th>\n",
       "      <th>recommended_fee_fastestFee</th>\n",
       "      <th>recommended_fee_halfHourFee</th>\n",
       "      <th>recommended_fee_hourFee</th>\n",
       "      <th>recommended_fee_economyFee</th>\n",
       "      <th>recommended_fee_minimumFee</th>\n",
       "      <th>...</th>\n",
       "      <th>mempool_fee_histogram_bin_70_75</th>\n",
       "      <th>mempool_fee_histogram_bin_75_80</th>\n",
       "      <th>mempool_fee_histogram_bin_80_85</th>\n",
       "      <th>mempool_fee_histogram_bin_85_90</th>\n",
       "      <th>mempool_fee_histogram_bin_90_95</th>\n",
       "      <th>mempool_fee_histogram_bin_95_100</th>\n",
       "      <th>mempool_fee_histogram_bin_100_150</th>\n",
       "      <th>mempool_fee_histogram_bin_150_200</th>\n",
       "      <th>mempool_fee_histogram_bin_200_250</th>\n",
       "      <th>mempool_fee_histogram_bin_250_300</th>\n",
       "    </tr>\n",
       "    <tr>\n",
       "      <th>timestamp</th>\n",
       "      <th></th>\n",
       "      <th></th>\n",
       "      <th></th>\n",
       "      <th></th>\n",
       "      <th></th>\n",
       "      <th></th>\n",
       "      <th></th>\n",
       "      <th></th>\n",
       "      <th></th>\n",
       "      <th></th>\n",
       "      <th></th>\n",
       "      <th></th>\n",
       "      <th></th>\n",
       "      <th></th>\n",
       "      <th></th>\n",
       "      <th></th>\n",
       "      <th></th>\n",
       "      <th></th>\n",
       "      <th></th>\n",
       "      <th></th>\n",
       "      <th></th>\n",
       "    </tr>\n",
       "  </thead>\n",
       "  <tbody>\n",
       "    <tr>\n",
       "      <th>2025-03-05 02:00:00</th>\n",
       "      <td>2.131827e+06</td>\n",
       "      <td>997874.250000</td>\n",
       "      <td>1030.000000</td>\n",
       "      <td>2.077770e+06</td>\n",
       "      <td>1.300139</td>\n",
       "      <td>2.000000</td>\n",
       "      <td>2.000000</td>\n",
       "      <td>2.000000</td>\n",
       "      <td>2.000000</td>\n",
       "      <td>2.0</td>\n",
       "      <td>...</td>\n",
       "      <td>0.0</td>\n",
       "      <td>0.0</td>\n",
       "      <td>0.0</td>\n",
       "      <td>0.0</td>\n",
       "      <td>0.0</td>\n",
       "      <td>0.0</td>\n",
       "      <td>0.0</td>\n",
       "      <td>0.0</td>\n",
       "      <td>0.0</td>\n",
       "      <td>0.0</td>\n",
       "    </tr>\n",
       "    <tr>\n",
       "      <th>2025-03-05 02:15:00</th>\n",
       "      <td>1.801526e+06</td>\n",
       "      <td>997925.916667</td>\n",
       "      <td>2627.000000</td>\n",
       "      <td>3.407913e+06</td>\n",
       "      <td>2.473960</td>\n",
       "      <td>3.000000</td>\n",
       "      <td>2.666667</td>\n",
       "      <td>2.666667</td>\n",
       "      <td>2.666667</td>\n",
       "      <td>2.0</td>\n",
       "      <td>...</td>\n",
       "      <td>0.0</td>\n",
       "      <td>0.0</td>\n",
       "      <td>0.0</td>\n",
       "      <td>0.0</td>\n",
       "      <td>0.0</td>\n",
       "      <td>0.0</td>\n",
       "      <td>0.0</td>\n",
       "      <td>0.0</td>\n",
       "      <td>0.0</td>\n",
       "      <td>0.0</td>\n",
       "    </tr>\n",
       "    <tr>\n",
       "      <th>2025-03-05 02:30:00</th>\n",
       "      <td>2.055350e+06</td>\n",
       "      <td>997965.916667</td>\n",
       "      <td>922.000000</td>\n",
       "      <td>1.855358e+06</td>\n",
       "      <td>1.355898</td>\n",
       "      <td>2.000000</td>\n",
       "      <td>2.000000</td>\n",
       "      <td>2.000000</td>\n",
       "      <td>2.000000</td>\n",
       "      <td>2.0</td>\n",
       "      <td>...</td>\n",
       "      <td>0.0</td>\n",
       "      <td>0.0</td>\n",
       "      <td>0.0</td>\n",
       "      <td>0.0</td>\n",
       "      <td>0.0</td>\n",
       "      <td>0.0</td>\n",
       "      <td>0.0</td>\n",
       "      <td>0.0</td>\n",
       "      <td>0.0</td>\n",
       "      <td>0.0</td>\n",
       "    </tr>\n",
       "    <tr>\n",
       "      <th>2025-03-05 02:45:00</th>\n",
       "      <td>2.006800e+06</td>\n",
       "      <td>997970.083333</td>\n",
       "      <td>1296.666667</td>\n",
       "      <td>2.167251e+06</td>\n",
       "      <td>1.536092</td>\n",
       "      <td>2.333333</td>\n",
       "      <td>2.333333</td>\n",
       "      <td>2.333333</td>\n",
       "      <td>2.333333</td>\n",
       "      <td>2.0</td>\n",
       "      <td>...</td>\n",
       "      <td>0.0</td>\n",
       "      <td>0.0</td>\n",
       "      <td>0.0</td>\n",
       "      <td>0.0</td>\n",
       "      <td>0.0</td>\n",
       "      <td>0.0</td>\n",
       "      <td>0.0</td>\n",
       "      <td>0.0</td>\n",
       "      <td>0.0</td>\n",
       "      <td>0.0</td>\n",
       "    </tr>\n",
       "    <tr>\n",
       "      <th>2025-03-05 03:00:00</th>\n",
       "      <td>1.773658e+06</td>\n",
       "      <td>997960.333333</td>\n",
       "      <td>2725.333333</td>\n",
       "      <td>3.462741e+06</td>\n",
       "      <td>2.467659</td>\n",
       "      <td>3.333333</td>\n",
       "      <td>3.000000</td>\n",
       "      <td>3.000000</td>\n",
       "      <td>3.000000</td>\n",
       "      <td>2.0</td>\n",
       "      <td>...</td>\n",
       "      <td>0.0</td>\n",
       "      <td>0.0</td>\n",
       "      <td>0.0</td>\n",
       "      <td>0.0</td>\n",
       "      <td>0.0</td>\n",
       "      <td>0.0</td>\n",
       "      <td>0.0</td>\n",
       "      <td>0.0</td>\n",
       "      <td>0.0</td>\n",
       "      <td>0.0</td>\n",
       "    </tr>\n",
       "  </tbody>\n",
       "</table>\n",
       "<p>5 rows × 61 columns</p>\n",
       "</div>"
      ],
      "text/plain": [
       "                     mempool_blocks_blockSize  mempool_blocks_blockVSize  \\\n",
       "timestamp                                                                  \n",
       "2025-03-05 02:00:00              2.131827e+06              997874.250000   \n",
       "2025-03-05 02:15:00              1.801526e+06              997925.916667   \n",
       "2025-03-05 02:30:00              2.055350e+06              997965.916667   \n",
       "2025-03-05 02:45:00              2.006800e+06              997970.083333   \n",
       "2025-03-05 03:00:00              1.773658e+06              997960.333333   \n",
       "\n",
       "                     mempool_blocks_nTx  mempool_blocks_totalFees  \\\n",
       "timestamp                                                           \n",
       "2025-03-05 02:00:00         1030.000000              2.077770e+06   \n",
       "2025-03-05 02:15:00         2627.000000              3.407913e+06   \n",
       "2025-03-05 02:30:00          922.000000              1.855358e+06   \n",
       "2025-03-05 02:45:00         1296.666667              2.167251e+06   \n",
       "2025-03-05 03:00:00         2725.333333              3.462741e+06   \n",
       "\n",
       "                     mempool_blocks_medianFee  recommended_fee_fastestFee  \\\n",
       "timestamp                                                                   \n",
       "2025-03-05 02:00:00                  1.300139                    2.000000   \n",
       "2025-03-05 02:15:00                  2.473960                    3.000000   \n",
       "2025-03-05 02:30:00                  1.355898                    2.000000   \n",
       "2025-03-05 02:45:00                  1.536092                    2.333333   \n",
       "2025-03-05 03:00:00                  2.467659                    3.333333   \n",
       "\n",
       "                     recommended_fee_halfHourFee  recommended_fee_hourFee  \\\n",
       "timestamp                                                                   \n",
       "2025-03-05 02:00:00                     2.000000                 2.000000   \n",
       "2025-03-05 02:15:00                     2.666667                 2.666667   \n",
       "2025-03-05 02:30:00                     2.000000                 2.000000   \n",
       "2025-03-05 02:45:00                     2.333333                 2.333333   \n",
       "2025-03-05 03:00:00                     3.000000                 3.000000   \n",
       "\n",
       "                     recommended_fee_economyFee  recommended_fee_minimumFee  \\\n",
       "timestamp                                                                     \n",
       "2025-03-05 02:00:00                    2.000000                         2.0   \n",
       "2025-03-05 02:15:00                    2.666667                         2.0   \n",
       "2025-03-05 02:30:00                    2.000000                         2.0   \n",
       "2025-03-05 02:45:00                    2.333333                         2.0   \n",
       "2025-03-05 03:00:00                    3.000000                         2.0   \n",
       "\n",
       "                     ...  mempool_fee_histogram_bin_70_75  \\\n",
       "timestamp            ...                                    \n",
       "2025-03-05 02:00:00  ...                              0.0   \n",
       "2025-03-05 02:15:00  ...                              0.0   \n",
       "2025-03-05 02:30:00  ...                              0.0   \n",
       "2025-03-05 02:45:00  ...                              0.0   \n",
       "2025-03-05 03:00:00  ...                              0.0   \n",
       "\n",
       "                     mempool_fee_histogram_bin_75_80  \\\n",
       "timestamp                                              \n",
       "2025-03-05 02:00:00                              0.0   \n",
       "2025-03-05 02:15:00                              0.0   \n",
       "2025-03-05 02:30:00                              0.0   \n",
       "2025-03-05 02:45:00                              0.0   \n",
       "2025-03-05 03:00:00                              0.0   \n",
       "\n",
       "                     mempool_fee_histogram_bin_80_85  \\\n",
       "timestamp                                              \n",
       "2025-03-05 02:00:00                              0.0   \n",
       "2025-03-05 02:15:00                              0.0   \n",
       "2025-03-05 02:30:00                              0.0   \n",
       "2025-03-05 02:45:00                              0.0   \n",
       "2025-03-05 03:00:00                              0.0   \n",
       "\n",
       "                     mempool_fee_histogram_bin_85_90  \\\n",
       "timestamp                                              \n",
       "2025-03-05 02:00:00                              0.0   \n",
       "2025-03-05 02:15:00                              0.0   \n",
       "2025-03-05 02:30:00                              0.0   \n",
       "2025-03-05 02:45:00                              0.0   \n",
       "2025-03-05 03:00:00                              0.0   \n",
       "\n",
       "                     mempool_fee_histogram_bin_90_95  \\\n",
       "timestamp                                              \n",
       "2025-03-05 02:00:00                              0.0   \n",
       "2025-03-05 02:15:00                              0.0   \n",
       "2025-03-05 02:30:00                              0.0   \n",
       "2025-03-05 02:45:00                              0.0   \n",
       "2025-03-05 03:00:00                              0.0   \n",
       "\n",
       "                     mempool_fee_histogram_bin_95_100  \\\n",
       "timestamp                                               \n",
       "2025-03-05 02:00:00                               0.0   \n",
       "2025-03-05 02:15:00                               0.0   \n",
       "2025-03-05 02:30:00                               0.0   \n",
       "2025-03-05 02:45:00                               0.0   \n",
       "2025-03-05 03:00:00                               0.0   \n",
       "\n",
       "                     mempool_fee_histogram_bin_100_150  \\\n",
       "timestamp                                                \n",
       "2025-03-05 02:00:00                                0.0   \n",
       "2025-03-05 02:15:00                                0.0   \n",
       "2025-03-05 02:30:00                                0.0   \n",
       "2025-03-05 02:45:00                                0.0   \n",
       "2025-03-05 03:00:00                                0.0   \n",
       "\n",
       "                     mempool_fee_histogram_bin_150_200  \\\n",
       "timestamp                                                \n",
       "2025-03-05 02:00:00                                0.0   \n",
       "2025-03-05 02:15:00                                0.0   \n",
       "2025-03-05 02:30:00                                0.0   \n",
       "2025-03-05 02:45:00                                0.0   \n",
       "2025-03-05 03:00:00                                0.0   \n",
       "\n",
       "                     mempool_fee_histogram_bin_200_250  \\\n",
       "timestamp                                                \n",
       "2025-03-05 02:00:00                                0.0   \n",
       "2025-03-05 02:15:00                                0.0   \n",
       "2025-03-05 02:30:00                                0.0   \n",
       "2025-03-05 02:45:00                                0.0   \n",
       "2025-03-05 03:00:00                                0.0   \n",
       "\n",
       "                     mempool_fee_histogram_bin_250_300  \n",
       "timestamp                                               \n",
       "2025-03-05 02:00:00                                0.0  \n",
       "2025-03-05 02:15:00                                0.0  \n",
       "2025-03-05 02:30:00                                0.0  \n",
       "2025-03-05 02:45:00                                0.0  \n",
       "2025-03-05 03:00:00                                0.0  \n",
       "\n",
       "[5 rows x 61 columns]"
      ]
     },
     "execution_count": 3,
     "metadata": {},
     "output_type": "execute_result"
    }
   ],
   "source": [
    "df = pd.read_parquet('../data/processed/preprocessed_sarima_15min.parquet')\n",
    "\n",
    "df.head()"
   ]
  },
  {
   "cell_type": "markdown",
   "id": "077a12e5-e450-43ba-be88-529360affb85",
   "metadata": {},
   "source": [
    "# 2. Autocorrelation, Partial Autocorrelation Analysis and Stationarity Check (ADF Test)\n",
    "\n",
    "To determine the appropriate AR (autoregressive) and MA (moving average) orders, we examine the **Autocorrelation Function (ACF)** and **Partial Autocorrelation Function (PACF)** of the target variable. Before fitting a SARIMA model, we need to verify if the time series is **stationary** — a key assumption for ARIMA-family models. We use the **Augmented Dickey-Fuller (ADF) test**, which tests the null hypothesis that the time series has a unit root (i.e., is non-stationary)."
   ]
  },
  {
   "cell_type": "code",
   "execution_count": 4,
   "id": "c9d27021-53ed-41d8-9bde-bd34228857d2",
   "metadata": {},
   "outputs": [
    {
     "data": {
      "text/plain": [
       "(3968,)"
      ]
     },
     "execution_count": 4,
     "metadata": {},
     "output_type": "execute_result"
    },
    {
     "data": {
      "image/png": "[encoded data removed]",
      "text/plain": [
       "<Figure size 640x480 with 1 Axes>"
      ]
     },
     "metadata": {},
     "output_type": "display_data"
    },
    {
     "data": {
      "image/png": "[encoded data removed]",
      "text/plain": [
       "<Figure size 640x480 with 1 Axes>"
      ]
     },
     "metadata": {},
     "output_type": "display_data"
    }
   ],
   "source": [
    "y = df[\"recommended_fee_fastestFee\"]\n",
    "plot_acf(y, lags=1680)   \n",
    "plot_pacf(y, lags=1680)\n",
    "y.shape"
   ]
  },
  {
   "cell_type": "code",
   "execution_count": 5,
   "id": "7c2c8290-67fd-4bff-84e2-7b0e2a11b72a",
   "metadata": {},
   "outputs": [
    {
     "data": {
      "text/plain": [
       "2.856371654220831e-20"
      ]
     },
     "execution_count": 5,
     "metadata": {},
     "output_type": "execute_result"
    }
   ],
   "source": [
    "adfuller(y)[1]"
   ]
  },
  {
   "cell_type": "markdown",
   "id": "7a635d0b-212a-4cff-8df9-67f350853e8c",
   "metadata": {},
   "source": [
    "The PACF cuts off at lag 1 and the ACF shows a significant lag-1 with slow decay, suggesting an ARIMA(1, 0, 1) structure. Clear seasonal spikes at lag 96 in the ACF indicate a seasonal pattern, so we set the seasonal order to (1, 0, 1, 96)"
   ]
  },
  {
   "cell_type": "markdown",
   "id": "35c97532",
   "metadata": {},
   "source": [
    "## 3. Train-Test Splits using Expanding and Sliding Window\n",
    "\n",
    "### 3.1.1 Expanding Window Forecasting - Daily\n",
    "\n",
    "Use expanding window to evaluate SARIMA performance across different time periods (7-day initial window, 1-day forecast)."
   ]
  },
  {
   "cell_type": "code",
   "execution_count": 12,
   "id": "d3a8625e",
   "metadata": {},
   "outputs": [
    {
     "name": "stderr",
     "output_type": "stream",
     "text": [
      "/Users/liuyajing/miniforge3/envs/sarima-env/lib/python3.10/site-packages/sklearn/utils/deprecation.py:151: FutureWarning: 'force_all_finite' was renamed to 'ensure_all_finite' in 1.6 and will be removed in 1.8.\n",
      "  warnings.warn(\n",
      "/Users/liuyajing/miniforge3/envs/sarima-env/lib/python3.10/site-packages/sklearn/utils/deprecation.py:151: FutureWarning: 'force_all_finite' was renamed to 'ensure_all_finite' in 1.6 and will be removed in 1.8.\n",
      "  warnings.warn(\n",
      "/Users/liuyajing/miniforge3/envs/sarima-env/lib/python3.10/site-packages/sklearn/utils/deprecation.py:151: FutureWarning: 'force_all_finite' was renamed to 'ensure_all_finite' in 1.6 and will be removed in 1.8.\n",
      "  warnings.warn(\n"
     ]
    },
    {
     "name": "stdout",
     "output_type": "stream",
     "text": [
      "Fold 1 — MSE: 0.65, MAE: 0.67\n"
     ]
    },
    {
     "name": "stderr",
     "output_type": "stream",
     "text": [
      "/Users/liuyajing/miniforge3/envs/sarima-env/lib/python3.10/site-packages/sklearn/utils/deprecation.py:151: FutureWarning: 'force_all_finite' was renamed to 'ensure_all_finite' in 1.6 and will be removed in 1.8.\n",
      "  warnings.warn(\n",
      "/Users/liuyajing/miniforge3/envs/sarima-env/lib/python3.10/site-packages/sklearn/utils/deprecation.py:151: FutureWarning: 'force_all_finite' was renamed to 'ensure_all_finite' in 1.6 and will be removed in 1.8.\n",
      "  warnings.warn(\n"
     ]
    },
    {
     "name": "stdout",
     "output_type": "stream",
     "text": [
      "Fold 2 — MSE: 3.09, MAE: 1.16\n"
     ]
    },
    {
     "name": "stderr",
     "output_type": "stream",
     "text": [
      "/Users/liuyajing/miniforge3/envs/sarima-env/lib/python3.10/site-packages/sklearn/utils/deprecation.py:151: FutureWarning: 'force_all_finite' was renamed to 'ensure_all_finite' in 1.6 and will be removed in 1.8.\n",
      "  warnings.warn(\n",
      "/Users/liuyajing/miniforge3/envs/sarima-env/lib/python3.10/site-packages/sklearn/utils/deprecation.py:151: FutureWarning: 'force_all_finite' was renamed to 'ensure_all_finite' in 1.6 and will be removed in 1.8.\n",
      "  warnings.warn(\n"
     ]
    },
    {
     "name": "stdout",
     "output_type": "stream",
     "text": [
      "Fold 3 — MSE: 1.55, MAE: 0.97\n"
     ]
    },
    {
     "name": "stderr",
     "output_type": "stream",
     "text": [
      "/Users/liuyajing/miniforge3/envs/sarima-env/lib/python3.10/site-packages/sklearn/utils/deprecation.py:151: FutureWarning: 'force_all_finite' was renamed to 'ensure_all_finite' in 1.6 and will be removed in 1.8.\n",
      "  warnings.warn(\n",
      "/Users/liuyajing/miniforge3/envs/sarima-env/lib/python3.10/site-packages/sklearn/utils/deprecation.py:151: FutureWarning: 'force_all_finite' was renamed to 'ensure_all_finite' in 1.6 and will be removed in 1.8.\n",
      "  warnings.warn(\n"
     ]
    },
    {
     "name": "stdout",
     "output_type": "stream",
     "text": [
      "Fold 4 — MSE: 4.43, MAE: 1.47\n"
     ]
    },
    {
     "name": "stderr",
     "output_type": "stream",
     "text": [
      "/Users/liuyajing/miniforge3/envs/sarima-env/lib/python3.10/site-packages/sklearn/utils/deprecation.py:151: FutureWarning: 'force_all_finite' was renamed to 'ensure_all_finite' in 1.6 and will be removed in 1.8.\n",
      "  warnings.warn(\n",
      "/Users/liuyajing/miniforge3/envs/sarima-env/lib/python3.10/site-packages/sklearn/utils/deprecation.py:151: FutureWarning: 'force_all_finite' was renamed to 'ensure_all_finite' in 1.6 and will be removed in 1.8.\n",
      "  warnings.warn(\n"
     ]
    },
    {
     "name": "stdout",
     "output_type": "stream",
     "text": [
      "Fold 5 — MSE: 1.11, MAE: 0.91\n"
     ]
    },
    {
     "name": "stderr",
     "output_type": "stream",
     "text": [
      "/Users/liuyajing/miniforge3/envs/sarima-env/lib/python3.10/site-packages/sklearn/utils/deprecation.py:151: FutureWarning: 'force_all_finite' was renamed to 'ensure_all_finite' in 1.6 and will be removed in 1.8.\n",
      "  warnings.warn(\n",
      "/Users/liuyajing/miniforge3/envs/sarima-env/lib/python3.10/site-packages/sklearn/utils/deprecation.py:151: FutureWarning: 'force_all_finite' was renamed to 'ensure_all_finite' in 1.6 and will be removed in 1.8.\n",
      "  warnings.warn(\n"
     ]
    },
    {
     "name": "stdout",
     "output_type": "stream",
     "text": [
      "Fold 6 — MSE: 0.86, MAE: 0.77\n"
     ]
    },
    {
     "name": "stderr",
     "output_type": "stream",
     "text": [
      "/Users/liuyajing/miniforge3/envs/sarima-env/lib/python3.10/site-packages/sklearn/utils/deprecation.py:151: FutureWarning: 'force_all_finite' was renamed to 'ensure_all_finite' in 1.6 and will be removed in 1.8.\n",
      "  warnings.warn(\n",
      "/Users/liuyajing/miniforge3/envs/sarima-env/lib/python3.10/site-packages/sklearn/utils/deprecation.py:151: FutureWarning: 'force_all_finite' was renamed to 'ensure_all_finite' in 1.6 and will be removed in 1.8.\n",
      "  warnings.warn(\n"
     ]
    },
    {
     "name": "stdout",
     "output_type": "stream",
     "text": [
      "Fold 7 — MSE: 0.72, MAE: 0.73\n"
     ]
    },
    {
     "name": "stderr",
     "output_type": "stream",
     "text": [
      "/Users/liuyajing/miniforge3/envs/sarima-env/lib/python3.10/site-packages/sklearn/utils/deprecation.py:151: FutureWarning: 'force_all_finite' was renamed to 'ensure_all_finite' in 1.6 and will be removed in 1.8.\n",
      "  warnings.warn(\n",
      "/Users/liuyajing/miniforge3/envs/sarima-env/lib/python3.10/site-packages/sklearn/utils/deprecation.py:151: FutureWarning: 'force_all_finite' was renamed to 'ensure_all_finite' in 1.6 and will be removed in 1.8.\n",
      "  warnings.warn(\n"
     ]
    },
    {
     "name": "stdout",
     "output_type": "stream",
     "text": [
      "Fold 8 — MSE: 1.71, MAE: 0.95\n"
     ]
    },
    {
     "name": "stderr",
     "output_type": "stream",
     "text": [
      "/Users/liuyajing/miniforge3/envs/sarima-env/lib/python3.10/site-packages/sklearn/utils/deprecation.py:151: FutureWarning: 'force_all_finite' was renamed to 'ensure_all_finite' in 1.6 and will be removed in 1.8.\n",
      "  warnings.warn(\n",
      "/Users/liuyajing/miniforge3/envs/sarima-env/lib/python3.10/site-packages/sklearn/utils/deprecation.py:151: FutureWarning: 'force_all_finite' was renamed to 'ensure_all_finite' in 1.6 and will be removed in 1.8.\n",
      "  warnings.warn(\n"
     ]
    },
    {
     "name": "stdout",
     "output_type": "stream",
     "text": [
      "Fold 9 — MSE: 2.69, MAE: 1.20\n"
     ]
    },
    {
     "name": "stderr",
     "output_type": "stream",
     "text": [
      "/Users/liuyajing/miniforge3/envs/sarima-env/lib/python3.10/site-packages/sklearn/utils/deprecation.py:151: FutureWarning: 'force_all_finite' was renamed to 'ensure_all_finite' in 1.6 and will be removed in 1.8.\n",
      "  warnings.warn(\n",
      "/Users/liuyajing/miniforge3/envs/sarima-env/lib/python3.10/site-packages/sklearn/utils/deprecation.py:151: FutureWarning: 'force_all_finite' was renamed to 'ensure_all_finite' in 1.6 and will be removed in 1.8.\n",
      "  warnings.warn(\n"
     ]
    },
    {
     "name": "stdout",
     "output_type": "stream",
     "text": [
      "Fold 10 — MSE: 1.09, MAE: 0.85\n"
     ]
    },
    {
     "name": "stderr",
     "output_type": "stream",
     "text": [
      "/Users/liuyajing/miniforge3/envs/sarima-env/lib/python3.10/site-packages/sklearn/utils/deprecation.py:151: FutureWarning: 'force_all_finite' was renamed to 'ensure_all_finite' in 1.6 and will be removed in 1.8.\n",
      "  warnings.warn(\n",
      "/Users/liuyajing/miniforge3/envs/sarima-env/lib/python3.10/site-packages/sklearn/utils/deprecation.py:151: FutureWarning: 'force_all_finite' was renamed to 'ensure_all_finite' in 1.6 and will be removed in 1.8.\n",
      "  warnings.warn(\n"
     ]
    },
    {
     "name": "stdout",
     "output_type": "stream",
     "text": [
      "Fold 11 — MSE: 52.05, MAE: 3.34\n"
     ]
    },
    {
     "name": "stderr",
     "output_type": "stream",
     "text": [
      "/Users/liuyajing/miniforge3/envs/sarima-env/lib/python3.10/site-packages/sklearn/utils/deprecation.py:151: FutureWarning: 'force_all_finite' was renamed to 'ensure_all_finite' in 1.6 and will be removed in 1.8.\n",
      "  warnings.warn(\n",
      "/Users/liuyajing/miniforge3/envs/sarima-env/lib/python3.10/site-packages/sklearn/utils/deprecation.py:151: FutureWarning: 'force_all_finite' was renamed to 'ensure_all_finite' in 1.6 and will be removed in 1.8.\n",
      "  warnings.warn(\n"
     ]
    },
    {
     "name": "stdout",
     "output_type": "stream",
     "text": [
      "Fold 12 — MSE: 0.90, MAE: 0.57\n"
     ]
    },
    {
     "name": "stderr",
     "output_type": "stream",
     "text": [
      "/Users/liuyajing/miniforge3/envs/sarima-env/lib/python3.10/site-packages/sklearn/utils/deprecation.py:151: FutureWarning: 'force_all_finite' was renamed to 'ensure_all_finite' in 1.6 and will be removed in 1.8.\n",
      "  warnings.warn(\n",
      "/Users/liuyajing/miniforge3/envs/sarima-env/lib/python3.10/site-packages/sklearn/utils/deprecation.py:151: FutureWarning: 'force_all_finite' was renamed to 'ensure_all_finite' in 1.6 and will be removed in 1.8.\n",
      "  warnings.warn(\n"
     ]
    },
    {
     "name": "stdout",
     "output_type": "stream",
     "text": [
      "Fold 13 — MSE: 2.33, MAE: 1.10\n"
     ]
    },
    {
     "name": "stderr",
     "output_type": "stream",
     "text": [
      "/Users/liuyajing/miniforge3/envs/sarima-env/lib/python3.10/site-packages/sklearn/utils/deprecation.py:151: FutureWarning: 'force_all_finite' was renamed to 'ensure_all_finite' in 1.6 and will be removed in 1.8.\n",
      "  warnings.warn(\n",
      "/Users/liuyajing/miniforge3/envs/sarima-env/lib/python3.10/site-packages/sklearn/utils/deprecation.py:151: FutureWarning: 'force_all_finite' was renamed to 'ensure_all_finite' in 1.6 and will be removed in 1.8.\n",
      "  warnings.warn(\n"
     ]
    },
    {
     "name": "stdout",
     "output_type": "stream",
     "text": [
      "Fold 14 — MSE: 106.98, MAE: 5.35\n"
     ]
    },
    {
     "name": "stderr",
     "output_type": "stream",
     "text": [
      "/Users/liuyajing/miniforge3/envs/sarima-env/lib/python3.10/site-packages/sklearn/utils/deprecation.py:151: FutureWarning: 'force_all_finite' was renamed to 'ensure_all_finite' in 1.6 and will be removed in 1.8.\n",
      "  warnings.warn(\n",
      "/Users/liuyajing/miniforge3/envs/sarima-env/lib/python3.10/site-packages/sklearn/utils/deprecation.py:151: FutureWarning: 'force_all_finite' was renamed to 'ensure_all_finite' in 1.6 and will be removed in 1.8.\n",
      "  warnings.warn(\n"
     ]
    },
    {
     "name": "stdout",
     "output_type": "stream",
     "text": [
      "Fold 15 — MSE: 4.02, MAE: 1.26\n"
     ]
    },
    {
     "name": "stderr",
     "output_type": "stream",
     "text": [
      "/Users/liuyajing/miniforge3/envs/sarima-env/lib/python3.10/site-packages/sklearn/utils/deprecation.py:151: FutureWarning: 'force_all_finite' was renamed to 'ensure_all_finite' in 1.6 and will be removed in 1.8.\n",
      "  warnings.warn(\n",
      "/Users/liuyajing/miniforge3/envs/sarima-env/lib/python3.10/site-packages/sklearn/utils/deprecation.py:151: FutureWarning: 'force_all_finite' was renamed to 'ensure_all_finite' in 1.6 and will be removed in 1.8.\n",
      "  warnings.warn(\n"
     ]
    },
    {
     "name": "stdout",
     "output_type": "stream",
     "text": [
      "Fold 16 — MSE: 0.65, MAE: 0.70\n"
     ]
    },
    {
     "name": "stderr",
     "output_type": "stream",
     "text": [
      "/Users/liuyajing/miniforge3/envs/sarima-env/lib/python3.10/site-packages/sklearn/utils/deprecation.py:151: FutureWarning: 'force_all_finite' was renamed to 'ensure_all_finite' in 1.6 and will be removed in 1.8.\n",
      "  warnings.warn(\n",
      "/Users/liuyajing/miniforge3/envs/sarima-env/lib/python3.10/site-packages/sklearn/utils/deprecation.py:151: FutureWarning: 'force_all_finite' was renamed to 'ensure_all_finite' in 1.6 and will be removed in 1.8.\n",
      "  warnings.warn(\n"
     ]
    },
    {
     "name": "stdout",
     "output_type": "stream",
     "text": [
      "Fold 17 — MSE: 2.35, MAE: 1.13\n"
     ]
    },
    {
     "name": "stderr",
     "output_type": "stream",
     "text": [
      "/Users/liuyajing/miniforge3/envs/sarima-env/lib/python3.10/site-packages/sklearn/utils/deprecation.py:151: FutureWarning: 'force_all_finite' was renamed to 'ensure_all_finite' in 1.6 and will be removed in 1.8.\n",
      "  warnings.warn(\n",
      "/Users/liuyajing/miniforge3/envs/sarima-env/lib/python3.10/site-packages/sklearn/utils/deprecation.py:151: FutureWarning: 'force_all_finite' was renamed to 'ensure_all_finite' in 1.6 and will be removed in 1.8.\n",
      "  warnings.warn(\n"
     ]
    },
    {
     "name": "stdout",
     "output_type": "stream",
     "text": [
      "Fold 18 — MSE: 0.97, MAE: 0.90\n"
     ]
    },
    {
     "name": "stderr",
     "output_type": "stream",
     "text": [
      "/Users/liuyajing/miniforge3/envs/sarima-env/lib/python3.10/site-packages/sklearn/utils/deprecation.py:151: FutureWarning: 'force_all_finite' was renamed to 'ensure_all_finite' in 1.6 and will be removed in 1.8.\n",
      "  warnings.warn(\n",
      "/Users/liuyajing/miniforge3/envs/sarima-env/lib/python3.10/site-packages/sklearn/utils/deprecation.py:151: FutureWarning: 'force_all_finite' was renamed to 'ensure_all_finite' in 1.6 and will be removed in 1.8.\n",
      "  warnings.warn(\n"
     ]
    },
    {
     "name": "stdout",
     "output_type": "stream",
     "text": [
      "Fold 19 — MSE: 1.66, MAE: 1.10\n"
     ]
    },
    {
     "name": "stderr",
     "output_type": "stream",
     "text": [
      "/Users/liuyajing/miniforge3/envs/sarima-env/lib/python3.10/site-packages/sklearn/utils/deprecation.py:151: FutureWarning: 'force_all_finite' was renamed to 'ensure_all_finite' in 1.6 and will be removed in 1.8.\n",
      "  warnings.warn(\n",
      "/Users/liuyajing/miniforge3/envs/sarima-env/lib/python3.10/site-packages/sklearn/utils/deprecation.py:151: FutureWarning: 'force_all_finite' was renamed to 'ensure_all_finite' in 1.6 and will be removed in 1.8.\n",
      "  warnings.warn(\n"
     ]
    },
    {
     "name": "stdout",
     "output_type": "stream",
     "text": [
      "Fold 20 — MSE: 1.82, MAE: 1.15\n"
     ]
    },
    {
     "name": "stderr",
     "output_type": "stream",
     "text": [
      "/Users/liuyajing/miniforge3/envs/sarima-env/lib/python3.10/site-packages/sklearn/utils/deprecation.py:151: FutureWarning: 'force_all_finite' was renamed to 'ensure_all_finite' in 1.6 and will be removed in 1.8.\n",
      "  warnings.warn(\n",
      "/Users/liuyajing/miniforge3/envs/sarima-env/lib/python3.10/site-packages/sklearn/utils/deprecation.py:151: FutureWarning: 'force_all_finite' was renamed to 'ensure_all_finite' in 1.6 and will be removed in 1.8.\n",
      "  warnings.warn(\n"
     ]
    },
    {
     "name": "stdout",
     "output_type": "stream",
     "text": [
      "Fold 21 — MSE: 1.20, MAE: 0.92\n"
     ]
    },
    {
     "name": "stderr",
     "output_type": "stream",
     "text": [
      "/Users/liuyajing/miniforge3/envs/sarima-env/lib/python3.10/site-packages/sklearn/utils/deprecation.py:151: FutureWarning: 'force_all_finite' was renamed to 'ensure_all_finite' in 1.6 and will be removed in 1.8.\n",
      "  warnings.warn(\n",
      "/Users/liuyajing/miniforge3/envs/sarima-env/lib/python3.10/site-packages/sklearn/utils/deprecation.py:151: FutureWarning: 'force_all_finite' was renamed to 'ensure_all_finite' in 1.6 and will be removed in 1.8.\n",
      "  warnings.warn(\n"
     ]
    },
    {
     "name": "stdout",
     "output_type": "stream",
     "text": [
      "Fold 22 — MSE: 1.63, MAE: 1.07\n"
     ]
    },
    {
     "name": "stderr",
     "output_type": "stream",
     "text": [
      "/Users/liuyajing/miniforge3/envs/sarima-env/lib/python3.10/site-packages/sklearn/utils/deprecation.py:151: FutureWarning: 'force_all_finite' was renamed to 'ensure_all_finite' in 1.6 and will be removed in 1.8.\n",
      "  warnings.warn(\n",
      "/Users/liuyajing/miniforge3/envs/sarima-env/lib/python3.10/site-packages/sklearn/utils/deprecation.py:151: FutureWarning: 'force_all_finite' was renamed to 'ensure_all_finite' in 1.6 and will be removed in 1.8.\n",
      "  warnings.warn(\n"
     ]
    },
    {
     "name": "stdout",
     "output_type": "stream",
     "text": [
      "Fold 23 — MSE: 1.39, MAE: 0.95\n"
     ]
    },
    {
     "name": "stderr",
     "output_type": "stream",
     "text": [
      "/Users/liuyajing/miniforge3/envs/sarima-env/lib/python3.10/site-packages/sklearn/utils/deprecation.py:151: FutureWarning: 'force_all_finite' was renamed to 'ensure_all_finite' in 1.6 and will be removed in 1.8.\n",
      "  warnings.warn(\n",
      "/Users/liuyajing/miniforge3/envs/sarima-env/lib/python3.10/site-packages/sklearn/utils/deprecation.py:151: FutureWarning: 'force_all_finite' was renamed to 'ensure_all_finite' in 1.6 and will be removed in 1.8.\n",
      "  warnings.warn(\n"
     ]
    },
    {
     "name": "stdout",
     "output_type": "stream",
     "text": [
      "Fold 24 — MSE: 1.97, MAE: 1.26\n"
     ]
    },
    {
     "name": "stderr",
     "output_type": "stream",
     "text": [
      "/Users/liuyajing/miniforge3/envs/sarima-env/lib/python3.10/site-packages/sklearn/utils/deprecation.py:151: FutureWarning: 'force_all_finite' was renamed to 'ensure_all_finite' in 1.6 and will be removed in 1.8.\n",
      "  warnings.warn(\n",
      "/Users/liuyajing/miniforge3/envs/sarima-env/lib/python3.10/site-packages/sklearn/utils/deprecation.py:151: FutureWarning: 'force_all_finite' was renamed to 'ensure_all_finite' in 1.6 and will be removed in 1.8.\n",
      "  warnings.warn(\n"
     ]
    },
    {
     "name": "stdout",
     "output_type": "stream",
     "text": [
      "Fold 25 — MSE: 1.75, MAE: 1.15\n"
     ]
    },
    {
     "name": "stderr",
     "output_type": "stream",
     "text": [
      "/Users/liuyajing/miniforge3/envs/sarima-env/lib/python3.10/site-packages/sklearn/utils/deprecation.py:151: FutureWarning: 'force_all_finite' was renamed to 'ensure_all_finite' in 1.6 and will be removed in 1.8.\n",
      "  warnings.warn(\n",
      "/Users/liuyajing/miniforge3/envs/sarima-env/lib/python3.10/site-packages/sklearn/utils/deprecation.py:151: FutureWarning: 'force_all_finite' was renamed to 'ensure_all_finite' in 1.6 and will be removed in 1.8.\n",
      "  warnings.warn(\n"
     ]
    },
    {
     "name": "stdout",
     "output_type": "stream",
     "text": [
      "Fold 26 — MSE: 2.00, MAE: 1.27\n"
     ]
    },
    {
     "name": "stderr",
     "output_type": "stream",
     "text": [
      "/Users/liuyajing/miniforge3/envs/sarima-env/lib/python3.10/site-packages/sklearn/utils/deprecation.py:151: FutureWarning: 'force_all_finite' was renamed to 'ensure_all_finite' in 1.6 and will be removed in 1.8.\n",
      "  warnings.warn(\n",
      "/Users/liuyajing/miniforge3/envs/sarima-env/lib/python3.10/site-packages/sklearn/utils/deprecation.py:151: FutureWarning: 'force_all_finite' was renamed to 'ensure_all_finite' in 1.6 and will be removed in 1.8.\n",
      "  warnings.warn(\n"
     ]
    },
    {
     "name": "stdout",
     "output_type": "stream",
     "text": [
      "Fold 27 — MSE: 2.30, MAE: 1.19\n"
     ]
    },
    {
     "name": "stderr",
     "output_type": "stream",
     "text": [
      "/Users/liuyajing/miniforge3/envs/sarima-env/lib/python3.10/site-packages/sklearn/utils/deprecation.py:151: FutureWarning: 'force_all_finite' was renamed to 'ensure_all_finite' in 1.6 and will be removed in 1.8.\n",
      "  warnings.warn(\n",
      "/Users/liuyajing/miniforge3/envs/sarima-env/lib/python3.10/site-packages/sklearn/utils/deprecation.py:151: FutureWarning: 'force_all_finite' was renamed to 'ensure_all_finite' in 1.6 and will be removed in 1.8.\n",
      "  warnings.warn(\n"
     ]
    },
    {
     "name": "stdout",
     "output_type": "stream",
     "text": [
      "Fold 28 — MSE: 2.48, MAE: 1.18\n"
     ]
    },
    {
     "name": "stderr",
     "output_type": "stream",
     "text": [
      "/Users/liuyajing/miniforge3/envs/sarima-env/lib/python3.10/site-packages/sklearn/utils/deprecation.py:151: FutureWarning: 'force_all_finite' was renamed to 'ensure_all_finite' in 1.6 and will be removed in 1.8.\n",
      "  warnings.warn(\n",
      "/Users/liuyajing/miniforge3/envs/sarima-env/lib/python3.10/site-packages/sklearn/utils/deprecation.py:151: FutureWarning: 'force_all_finite' was renamed to 'ensure_all_finite' in 1.6 and will be removed in 1.8.\n",
      "  warnings.warn(\n"
     ]
    },
    {
     "name": "stdout",
     "output_type": "stream",
     "text": [
      "Fold 29 — MSE: 1.42, MAE: 0.99\n"
     ]
    },
    {
     "name": "stderr",
     "output_type": "stream",
     "text": [
      "/Users/liuyajing/miniforge3/envs/sarima-env/lib/python3.10/site-packages/sklearn/utils/deprecation.py:151: FutureWarning: 'force_all_finite' was renamed to 'ensure_all_finite' in 1.6 and will be removed in 1.8.\n",
      "  warnings.warn(\n",
      "/Users/liuyajing/miniforge3/envs/sarima-env/lib/python3.10/site-packages/sklearn/utils/deprecation.py:151: FutureWarning: 'force_all_finite' was renamed to 'ensure_all_finite' in 1.6 and will be removed in 1.8.\n",
      "  warnings.warn(\n"
     ]
    },
    {
     "name": "stdout",
     "output_type": "stream",
     "text": [
      "Fold 30 — MSE: 1.97, MAE: 1.18\n"
     ]
    },
    {
     "name": "stderr",
     "output_type": "stream",
     "text": [
      "/Users/liuyajing/miniforge3/envs/sarima-env/lib/python3.10/site-packages/sklearn/utils/deprecation.py:151: FutureWarning: 'force_all_finite' was renamed to 'ensure_all_finite' in 1.6 and will be removed in 1.8.\n",
      "  warnings.warn(\n",
      "/Users/liuyajing/miniforge3/envs/sarima-env/lib/python3.10/site-packages/sklearn/utils/deprecation.py:151: FutureWarning: 'force_all_finite' was renamed to 'ensure_all_finite' in 1.6 and will be removed in 1.8.\n",
      "  warnings.warn(\n"
     ]
    },
    {
     "name": "stdout",
     "output_type": "stream",
     "text": [
      "Fold 31 — MSE: 0.94, MAE: 0.80\n"
     ]
    },
    {
     "name": "stderr",
     "output_type": "stream",
     "text": [
      "/Users/liuyajing/miniforge3/envs/sarima-env/lib/python3.10/site-packages/sklearn/utils/deprecation.py:151: FutureWarning: 'force_all_finite' was renamed to 'ensure_all_finite' in 1.6 and will be removed in 1.8.\n",
      "  warnings.warn(\n",
      "/Users/liuyajing/miniforge3/envs/sarima-env/lib/python3.10/site-packages/sklearn/utils/deprecation.py:151: FutureWarning: 'force_all_finite' was renamed to 'ensure_all_finite' in 1.6 and will be removed in 1.8.\n",
      "  warnings.warn(\n"
     ]
    },
    {
     "name": "stdout",
     "output_type": "stream",
     "text": [
      "Fold 32 — MSE: 1.07, MAE: 0.85\n"
     ]
    },
    {
     "name": "stderr",
     "output_type": "stream",
     "text": [
      "/Users/liuyajing/miniforge3/envs/sarima-env/lib/python3.10/site-packages/sklearn/utils/deprecation.py:151: FutureWarning: 'force_all_finite' was renamed to 'ensure_all_finite' in 1.6 and will be removed in 1.8.\n",
      "  warnings.warn(\n",
      "/Users/liuyajing/miniforge3/envs/sarima-env/lib/python3.10/site-packages/sklearn/utils/deprecation.py:151: FutureWarning: 'force_all_finite' was renamed to 'ensure_all_finite' in 1.6 and will be removed in 1.8.\n",
      "  warnings.warn(\n"
     ]
    },
    {
     "name": "stdout",
     "output_type": "stream",
     "text": [
      "Fold 33 — MSE: 1.37, MAE: 1.01\n",
      "Fold 34 — MSE: 1.80, MAE: 0.97\n",
      "\n",
      "Average MSE: 6.32\n",
      "Average MAE: 1.21\n"
     ]
    },
    {
     "name": "stderr",
     "output_type": "stream",
     "text": [
      "/Users/liuyajing/miniforge3/envs/sarima-env/lib/python3.10/site-packages/sklearn/utils/deprecation.py:151: FutureWarning: 'force_all_finite' was renamed to 'ensure_all_finite' in 1.6 and will be removed in 1.8.\n",
      "  warnings.warn(\n"
     ]
    }
   ],
   "source": [
    "warnings.filterwarnings(\"ignore\", category=FutureWarning)\n",
    "\n",
    "# Define forecast horizon: next 96 steps (15min × 96 = 1 day)\n",
    "fh = list(range(1, 97))\n",
    "\n",
    "# Create expanding window splitter\n",
    "expanding_cv = ExpandingWindowSplitter(\n",
    "    initial_window=96 * 7,   # 1 week of training data\n",
    "    step_length=96,          # move window forward by 1 day\n",
    "    fh=fh\n",
    ")\n",
    "\n",
    "# Initialize lists to store errors\n",
    "mse_list = []\n",
    "mae_list = []\n",
    "\n",
    "# Loop through each split and fit SARIMA model\n",
    "for i, (train_idx, test_idx) in enumerate(expanding_cv.split(y)):\n",
    "    y_train = y.iloc[train_idx]\n",
    "    y_test = y.iloc[test_idx]\n",
    "\n",
    "    # Log transform the training data\n",
    "    y_train_log = np.log1p(y_train)\n",
    "\n",
    "    # Initialize ARIMA forecaster\n",
    "    forecaster = ARIMA(order=(1, 0, 1), seasonal_order=(1, 0, 1, 96))\n",
    "\n",
    "    # Fit model\n",
    "    forecaster.fit(y_train_log)\n",
    "\n",
    "    # Forecast next 96 steps\n",
    "    y_pred_log = forecaster.predict(fh=fh)\n",
    "    y_pred = np.expm1(y_pred_log)  # Inverse log transform\n",
    "\n",
    "    # Compute and store errors\n",
    "    mse = mean_squared_error(y_test, y_pred)\n",
    "    mae = mean_absolute_error(y_test, y_pred)\n",
    "    mse_list.append(mse)\n",
    "    mae_list.append(mae)\n",
    "\n",
    "    print(f\"Fold {i+1} — MSE: {mse:.2f}, MAE: {mae:.2f}\")\n",
    "\n",
    "# Show average performance across all splits\n",
    "print(f\"\\nAverage MSE: {np.mean(mse_list):.2f}\")\n",
    "print(f\"Average MAE: {np.mean(mae_list):.2f}\")"
   ]
  },
  {
   "cell_type": "markdown",
   "id": "7fc706ab",
   "metadata": {},
   "source": [
    "**Expanding Window Forecasting - Daily Insight**\n",
    "\n",
    "We evaluated SARIMA using an **expanding window** strategy, starting with 7 days of training data and incrementally expanding the window, testing on the next day.  \n",
    "This approach simulates a real-world deployment scenario where more data becomes available over time.\n",
    "\n",
    "- **Average MSE:** 6.32  \n",
    "- **Average MAE:** 1.21  \n",
    "- **Observation:**  \n",
    "  The model maintained stable performance across most folds.  \n",
    "  However, folds containing extreme fee spikes (e.g., Fold 11 & 14) saw significant error increases, highlighting SARIMA's limitations under volatile conditions.\n"
   ]
  },
  {
   "cell_type": "markdown",
   "id": "c8727e6e",
   "metadata": {},
   "source": [
    "### 3.1.2 Expanding Window Forecasting - Weekly\n",
    "\n",
    "Use expanding window to evaluate SARIMA performance on a weekly basis (7-day initial window, 7-day forecast horizon), simulating generalization across multiple weekly periods.\n"
   ]
  },
  {
   "cell_type": "code",
   "execution_count": null,
   "id": "cddac34f",
   "metadata": {},
   "outputs": [
    {
     "name": "stderr",
     "output_type": "stream",
     "text": [
      "/Users/liuyajing/miniforge3/envs/sarima-env/lib/python3.10/site-packages/sklearn/utils/deprecation.py:151: FutureWarning: 'force_all_finite' was renamed to 'ensure_all_finite' in 1.6 and will be removed in 1.8.\n",
      "  warnings.warn(\n",
      "/Users/liuyajing/miniforge3/envs/sarima-env/lib/python3.10/site-packages/sklearn/utils/deprecation.py:151: FutureWarning: 'force_all_finite' was renamed to 'ensure_all_finite' in 1.6 and will be removed in 1.8.\n",
      "  warnings.warn(\n",
      "/Users/liuyajing/miniforge3/envs/sarima-env/lib/python3.10/site-packages/sklearn/utils/deprecation.py:151: FutureWarning: 'force_all_finite' was renamed to 'ensure_all_finite' in 1.6 and will be removed in 1.8.\n",
      "  warnings.warn(\n"
     ]
    },
    {
     "name": "stdout",
     "output_type": "stream",
     "text": [
      "Week 1 — MSE: 1.85, MAE: 0.97\n"
     ]
    },
    {
     "name": "stderr",
     "output_type": "stream",
     "text": [
      "/Users/liuyajing/miniforge3/envs/sarima-env/lib/python3.10/site-packages/sklearn/utils/deprecation.py:151: FutureWarning: 'force_all_finite' was renamed to 'ensure_all_finite' in 1.6 and will be removed in 1.8.\n",
      "  warnings.warn(\n",
      "/Users/liuyajing/miniforge3/envs/sarima-env/lib/python3.10/site-packages/sklearn/utils/deprecation.py:151: FutureWarning: 'force_all_finite' was renamed to 'ensure_all_finite' in 1.6 and will be removed in 1.8.\n",
      "  warnings.warn(\n"
     ]
    },
    {
     "name": "stdout",
     "output_type": "stream",
     "text": [
      "Week 2 — MSE: 24.53, MAE: 1.95\n"
     ]
    },
    {
     "name": "stderr",
     "output_type": "stream",
     "text": [
      "/Users/liuyajing/miniforge3/envs/sarima-env/lib/python3.10/site-packages/sklearn/utils/deprecation.py:151: FutureWarning: 'force_all_finite' was renamed to 'ensure_all_finite' in 1.6 and will be removed in 1.8.\n",
      "  warnings.warn(\n",
      "/Users/liuyajing/miniforge3/envs/sarima-env/lib/python3.10/site-packages/sklearn/utils/deprecation.py:151: FutureWarning: 'force_all_finite' was renamed to 'ensure_all_finite' in 1.6 and will be removed in 1.8.\n",
      "  warnings.warn(\n"
     ]
    },
    {
     "name": "stdout",
     "output_type": "stream",
     "text": [
      "Week 3 — MSE: 1.94, MAE: 1.08\n",
      "Week 4 — MSE: 2.00, MAE: 1.19\n",
      "\n",
      "Average Weekly MSE: 7.58\n",
      "Average Weekly MAE: 1.30\n"
     ]
    },
    {
     "name": "stderr",
     "output_type": "stream",
     "text": [
      "/Users/liuyajing/miniforge3/envs/sarima-env/lib/python3.10/site-packages/sklearn/utils/deprecation.py:151: FutureWarning: 'force_all_finite' was renamed to 'ensure_all_finite' in 1.6 and will be removed in 1.8.\n",
      "  warnings.warn(\n"
     ]
    }
   ],
   "source": [
    "# Define forecast horizon: next 7 days (15min × 96 × 7 = 672 steps)\n",
    "fh = list(range(1, 96 * 7 + 1))\n",
    "\n",
    "# Create expanding window splitter for weekly forecasting\n",
    "expanding_cv_weekly = ExpandingWindowSplitter(\n",
    "    initial_window=96 * 7,   # 1 week of training\n",
    "    step_length=96 * 7,      # move window by 1 week\n",
    "    fh=fh\n",
    ")\n",
    "\n",
    "# Initialize error containers\n",
    "mse_list_weekly = []\n",
    "mae_list_weekly = []\n",
    "\n",
    "# Run cross-validation\n",
    "for i, (train_idx, test_idx) in enumerate(expanding_cv_weekly.split(y)):\n",
    "    y_train = y.iloc[train_idx]\n",
    "    y_test = y.iloc[test_idx]\n",
    "\n",
    "    y_train_log = np.log1p(y_train)\n",
    "\n",
    "    forecaster = ARIMA(order=(1, 0, 1), seasonal_order=(1, 0, 1, 96))\n",
    "    forecaster.fit(y_train_log)\n",
    "\n",
    "    y_pred_log = forecaster.predict(fh=fh)\n",
    "    y_pred = np.expm1(y_pred_log)\n",
    "\n",
    "    mse = mean_squared_error(y_test, y_pred)\n",
    "    mae = mean_absolute_error(y_test, y_pred)\n",
    "    mse_list_weekly.append(mse)\n",
    "    mae_list_weekly.append(mae)\n",
    "\n",
    "    print(f\"Week {i+1} — MSE: {mse:.2f}, MAE: {mae:.2f}\")\n",
    "\n",
    "print(f\"\\nAverage Weekly MSE: {np.mean(mse_list_weekly):.2f}\")\n",
    "print(f\"Average Weekly MAE: {np.mean(mae_list_weekly):.2f}\")\n"
   ]
  },
  {
   "cell_type": "markdown",
   "id": "9d0998d2",
   "metadata": {},
   "source": [
    "### Expanding Window Forecasting - Weekly Insight \n",
    "\n",
    "We evaluated SARIMA using an **expanding window** strategy, starting with 7 days of training data and expanding the window week by week, testing on the next 7 days.  \n",
    "This setup simulates model performance in weekly deployment scenarios, testing generalization over longer time horizons.\n",
    "\n",
    "- **Average Weekly MSE**: 7.58  \n",
    "- **Average Weekly MAE**: 1.30  \n",
    "- **Observation**:  \n",
    "  The model showed consistent performance across most weeks.  \n",
    "  However, Week 2 saw a large performance drop due to a fee spike, again revealing SARIMA's limitations in highly volatile periods.\n"
   ]
  },
  {
   "cell_type": "markdown",
   "id": "31308bb3",
   "metadata": {},
   "source": [
    "### 3.2.1 Sliding Window Forecasting - Daily\n",
    "\n",
    "To further assess temporal stability and generalization, we apply a **sliding window** strategy using a fixed 7-day training window and 1-day test window (96 × 15-minute intervals).  \n",
    "This allows us to evaluate SARIMA performance across multiple time segments without expanding the training data size."
   ]
  },
  {
   "cell_type": "code",
   "execution_count": null,
   "id": "51cd3530",
   "metadata": {},
   "outputs": [
    {
     "name": "stderr",
     "output_type": "stream",
     "text": [
      "/Users/liuyajing/miniforge3/envs/sarima-env/lib/python3.10/site-packages/sklearn/utils/deprecation.py:151: FutureWarning: 'force_all_finite' was renamed to 'ensure_all_finite' in 1.6 and will be removed in 1.8.\n",
      "  warnings.warn(\n",
      "/Users/liuyajing/miniforge3/envs/sarima-env/lib/python3.10/site-packages/sklearn/utils/deprecation.py:151: FutureWarning: 'force_all_finite' was renamed to 'ensure_all_finite' in 1.6 and will be removed in 1.8.\n",
      "  warnings.warn(\n",
      "/Users/liuyajing/miniforge3/envs/sarima-env/lib/python3.10/site-packages/sklearn/utils/deprecation.py:151: FutureWarning: 'force_all_finite' was renamed to 'ensure_all_finite' in 1.6 and will be removed in 1.8.\n",
      "  warnings.warn(\n"
     ]
    },
    {
     "name": "stdout",
     "output_type": "stream",
     "text": [
      "Fold 1 — MSE: 0.65, MAE: 0.67\n"
     ]
    },
    {
     "name": "stderr",
     "output_type": "stream",
     "text": [
      "/Users/liuyajing/miniforge3/envs/sarima-env/lib/python3.10/site-packages/sklearn/utils/deprecation.py:151: FutureWarning: 'force_all_finite' was renamed to 'ensure_all_finite' in 1.6 and will be removed in 1.8.\n",
      "  warnings.warn(\n",
      "/Users/liuyajing/miniforge3/envs/sarima-env/lib/python3.10/site-packages/sklearn/utils/deprecation.py:151: FutureWarning: 'force_all_finite' was renamed to 'ensure_all_finite' in 1.6 and will be removed in 1.8.\n",
      "  warnings.warn(\n"
     ]
    },
    {
     "name": "stdout",
     "output_type": "stream",
     "text": [
      "Fold 2 — MSE: 3.16, MAE: 1.17\n"
     ]
    },
    {
     "name": "stderr",
     "output_type": "stream",
     "text": [
      "/Users/liuyajing/miniforge3/envs/sarima-env/lib/python3.10/site-packages/sklearn/utils/deprecation.py:151: FutureWarning: 'force_all_finite' was renamed to 'ensure_all_finite' in 1.6 and will be removed in 1.8.\n",
      "  warnings.warn(\n",
      "/Users/liuyajing/miniforge3/envs/sarima-env/lib/python3.10/site-packages/sklearn/utils/deprecation.py:151: FutureWarning: 'force_all_finite' was renamed to 'ensure_all_finite' in 1.6 and will be removed in 1.8.\n",
      "  warnings.warn(\n"
     ]
    },
    {
     "name": "stdout",
     "output_type": "stream",
     "text": [
      "Fold 3 — MSE: 1.70, MAE: 1.04\n"
     ]
    },
    {
     "name": "stderr",
     "output_type": "stream",
     "text": [
      "/Users/liuyajing/miniforge3/envs/sarima-env/lib/python3.10/site-packages/sklearn/utils/deprecation.py:151: FutureWarning: 'force_all_finite' was renamed to 'ensure_all_finite' in 1.6 and will be removed in 1.8.\n",
      "  warnings.warn(\n",
      "/Users/liuyajing/miniforge3/envs/sarima-env/lib/python3.10/site-packages/sklearn/utils/deprecation.py:151: FutureWarning: 'force_all_finite' was renamed to 'ensure_all_finite' in 1.6 and will be removed in 1.8.\n",
      "  warnings.warn(\n"
     ]
    },
    {
     "name": "stdout",
     "output_type": "stream",
     "text": [
      "Fold 4 — MSE: 4.97, MAE: 1.52\n"
     ]
    },
    {
     "name": "stderr",
     "output_type": "stream",
     "text": [
      "/Users/liuyajing/miniforge3/envs/sarima-env/lib/python3.10/site-packages/sklearn/utils/deprecation.py:151: FutureWarning: 'force_all_finite' was renamed to 'ensure_all_finite' in 1.6 and will be removed in 1.8.\n",
      "  warnings.warn(\n",
      "/Users/liuyajing/miniforge3/envs/sarima-env/lib/python3.10/site-packages/sklearn/utils/deprecation.py:151: FutureWarning: 'force_all_finite' was renamed to 'ensure_all_finite' in 1.6 and will be removed in 1.8.\n",
      "  warnings.warn(\n"
     ]
    },
    {
     "name": "stdout",
     "output_type": "stream",
     "text": [
      "Fold 5 — MSE: 1.14, MAE: 0.92\n"
     ]
    },
    {
     "name": "stderr",
     "output_type": "stream",
     "text": [
      "/Users/liuyajing/miniforge3/envs/sarima-env/lib/python3.10/site-packages/sklearn/utils/deprecation.py:151: FutureWarning: 'force_all_finite' was renamed to 'ensure_all_finite' in 1.6 and will be removed in 1.8.\n",
      "  warnings.warn(\n",
      "/Users/liuyajing/miniforge3/envs/sarima-env/lib/python3.10/site-packages/sklearn/utils/deprecation.py:151: FutureWarning: 'force_all_finite' was renamed to 'ensure_all_finite' in 1.6 and will be removed in 1.8.\n",
      "  warnings.warn(\n"
     ]
    },
    {
     "name": "stdout",
     "output_type": "stream",
     "text": [
      "Fold 6 — MSE: 0.80, MAE: 0.76\n"
     ]
    },
    {
     "name": "stderr",
     "output_type": "stream",
     "text": [
      "/Users/liuyajing/miniforge3/envs/sarima-env/lib/python3.10/site-packages/sklearn/utils/deprecation.py:151: FutureWarning: 'force_all_finite' was renamed to 'ensure_all_finite' in 1.6 and will be removed in 1.8.\n",
      "  warnings.warn(\n",
      "/Users/liuyajing/miniforge3/envs/sarima-env/lib/python3.10/site-packages/sklearn/utils/deprecation.py:151: FutureWarning: 'force_all_finite' was renamed to 'ensure_all_finite' in 1.6 and will be removed in 1.8.\n",
      "  warnings.warn(\n"
     ]
    },
    {
     "name": "stdout",
     "output_type": "stream",
     "text": [
      "Fold 7 — MSE: 0.76, MAE: 0.75\n"
     ]
    },
    {
     "name": "stderr",
     "output_type": "stream",
     "text": [
      "/Users/liuyajing/miniforge3/envs/sarima-env/lib/python3.10/site-packages/sklearn/utils/deprecation.py:151: FutureWarning: 'force_all_finite' was renamed to 'ensure_all_finite' in 1.6 and will be removed in 1.8.\n",
      "  warnings.warn(\n",
      "/Users/liuyajing/miniforge3/envs/sarima-env/lib/python3.10/site-packages/sklearn/utils/deprecation.py:151: FutureWarning: 'force_all_finite' was renamed to 'ensure_all_finite' in 1.6 and will be removed in 1.8.\n",
      "  warnings.warn(\n"
     ]
    },
    {
     "name": "stdout",
     "output_type": "stream",
     "text": [
      "Fold 8 — MSE: 1.75, MAE: 0.97\n"
     ]
    },
    {
     "name": "stderr",
     "output_type": "stream",
     "text": [
      "/Users/liuyajing/miniforge3/envs/sarima-env/lib/python3.10/site-packages/sklearn/utils/deprecation.py:151: FutureWarning: 'force_all_finite' was renamed to 'ensure_all_finite' in 1.6 and will be removed in 1.8.\n",
      "  warnings.warn(\n",
      "/Users/liuyajing/miniforge3/envs/sarima-env/lib/python3.10/site-packages/sklearn/utils/deprecation.py:151: FutureWarning: 'force_all_finite' was renamed to 'ensure_all_finite' in 1.6 and will be removed in 1.8.\n",
      "  warnings.warn(\n"
     ]
    },
    {
     "name": "stdout",
     "output_type": "stream",
     "text": [
      "Fold 9 — MSE: 3.16, MAE: 1.36\n"
     ]
    },
    {
     "name": "stderr",
     "output_type": "stream",
     "text": [
      "/Users/liuyajing/miniforge3/envs/sarima-env/lib/python3.10/site-packages/sklearn/utils/deprecation.py:151: FutureWarning: 'force_all_finite' was renamed to 'ensure_all_finite' in 1.6 and will be removed in 1.8.\n",
      "  warnings.warn(\n",
      "/Users/liuyajing/miniforge3/envs/sarima-env/lib/python3.10/site-packages/sklearn/utils/deprecation.py:151: FutureWarning: 'force_all_finite' was renamed to 'ensure_all_finite' in 1.6 and will be removed in 1.8.\n",
      "  warnings.warn(\n"
     ]
    },
    {
     "name": "stdout",
     "output_type": "stream",
     "text": [
      "Fold 10 — MSE: 1.13, MAE: 0.87\n"
     ]
    },
    {
     "name": "stderr",
     "output_type": "stream",
     "text": [
      "/Users/liuyajing/miniforge3/envs/sarima-env/lib/python3.10/site-packages/sklearn/utils/deprecation.py:151: FutureWarning: 'force_all_finite' was renamed to 'ensure_all_finite' in 1.6 and will be removed in 1.8.\n",
      "  warnings.warn(\n",
      "/Users/liuyajing/miniforge3/envs/sarima-env/lib/python3.10/site-packages/sklearn/utils/deprecation.py:151: FutureWarning: 'force_all_finite' was renamed to 'ensure_all_finite' in 1.6 and will be removed in 1.8.\n",
      "  warnings.warn(\n"
     ]
    },
    {
     "name": "stdout",
     "output_type": "stream",
     "text": [
      "Fold 11 — MSE: 52.61, MAE: 3.38\n"
     ]
    },
    {
     "name": "stderr",
     "output_type": "stream",
     "text": [
      "/Users/liuyajing/miniforge3/envs/sarima-env/lib/python3.10/site-packages/sklearn/utils/deprecation.py:151: FutureWarning: 'force_all_finite' was renamed to 'ensure_all_finite' in 1.6 and will be removed in 1.8.\n",
      "  warnings.warn(\n",
      "/Users/liuyajing/miniforge3/envs/sarima-env/lib/python3.10/site-packages/sklearn/utils/deprecation.py:151: FutureWarning: 'force_all_finite' was renamed to 'ensure_all_finite' in 1.6 and will be removed in 1.8.\n",
      "  warnings.warn(\n"
     ]
    },
    {
     "name": "stdout",
     "output_type": "stream",
     "text": [
      "Fold 12 — MSE: 0.91, MAE: 0.61\n"
     ]
    },
    {
     "name": "stderr",
     "output_type": "stream",
     "text": [
      "/Users/liuyajing/miniforge3/envs/sarima-env/lib/python3.10/site-packages/sklearn/utils/deprecation.py:151: FutureWarning: 'force_all_finite' was renamed to 'ensure_all_finite' in 1.6 and will be removed in 1.8.\n",
      "  warnings.warn(\n",
      "/Users/liuyajing/miniforge3/envs/sarima-env/lib/python3.10/site-packages/sklearn/utils/deprecation.py:151: FutureWarning: 'force_all_finite' was renamed to 'ensure_all_finite' in 1.6 and will be removed in 1.8.\n",
      "  warnings.warn(\n"
     ]
    },
    {
     "name": "stdout",
     "output_type": "stream",
     "text": [
      "Fold 13 — MSE: 2.37, MAE: 1.12\n"
     ]
    },
    {
     "name": "stderr",
     "output_type": "stream",
     "text": [
      "/Users/liuyajing/miniforge3/envs/sarima-env/lib/python3.10/site-packages/sklearn/utils/deprecation.py:151: FutureWarning: 'force_all_finite' was renamed to 'ensure_all_finite' in 1.6 and will be removed in 1.8.\n",
      "  warnings.warn(\n",
      "/Users/liuyajing/miniforge3/envs/sarima-env/lib/python3.10/site-packages/sklearn/utils/deprecation.py:151: FutureWarning: 'force_all_finite' was renamed to 'ensure_all_finite' in 1.6 and will be removed in 1.8.\n",
      "  warnings.warn(\n"
     ]
    },
    {
     "name": "stdout",
     "output_type": "stream",
     "text": [
      "Fold 14 — MSE: 105.00, MAE: 5.36\n"
     ]
    },
    {
     "name": "stderr",
     "output_type": "stream",
     "text": [
      "/Users/liuyajing/miniforge3/envs/sarima-env/lib/python3.10/site-packages/sklearn/utils/deprecation.py:151: FutureWarning: 'force_all_finite' was renamed to 'ensure_all_finite' in 1.6 and will be removed in 1.8.\n",
      "  warnings.warn(\n",
      "/Users/liuyajing/miniforge3/envs/sarima-env/lib/python3.10/site-packages/sklearn/utils/deprecation.py:151: FutureWarning: 'force_all_finite' was renamed to 'ensure_all_finite' in 1.6 and will be removed in 1.8.\n",
      "  warnings.warn(\n"
     ]
    },
    {
     "name": "stdout",
     "output_type": "stream",
     "text": [
      "Fold 15 — MSE: 3.86, MAE: 1.37\n"
     ]
    },
    {
     "name": "stderr",
     "output_type": "stream",
     "text": [
      "/Users/liuyajing/miniforge3/envs/sarima-env/lib/python3.10/site-packages/sklearn/utils/deprecation.py:151: FutureWarning: 'force_all_finite' was renamed to 'ensure_all_finite' in 1.6 and will be removed in 1.8.\n",
      "  warnings.warn(\n",
      "/Users/liuyajing/miniforge3/envs/sarima-env/lib/python3.10/site-packages/sklearn/utils/deprecation.py:151: FutureWarning: 'force_all_finite' was renamed to 'ensure_all_finite' in 1.6 and will be removed in 1.8.\n",
      "  warnings.warn(\n"
     ]
    },
    {
     "name": "stdout",
     "output_type": "stream",
     "text": [
      "Fold 16 — MSE: 1.02, MAE: 0.89\n"
     ]
    },
    {
     "name": "stderr",
     "output_type": "stream",
     "text": [
      "/Users/liuyajing/miniforge3/envs/sarima-env/lib/python3.10/site-packages/sklearn/utils/deprecation.py:151: FutureWarning: 'force_all_finite' was renamed to 'ensure_all_finite' in 1.6 and will be removed in 1.8.\n",
      "  warnings.warn(\n",
      "/Users/liuyajing/miniforge3/envs/sarima-env/lib/python3.10/site-packages/sklearn/utils/deprecation.py:151: FutureWarning: 'force_all_finite' was renamed to 'ensure_all_finite' in 1.6 and will be removed in 1.8.\n",
      "  warnings.warn(\n"
     ]
    },
    {
     "name": "stdout",
     "output_type": "stream",
     "text": [
      "Fold 17 — MSE: 2.23, MAE: 1.18\n"
     ]
    },
    {
     "name": "stderr",
     "output_type": "stream",
     "text": [
      "/Users/liuyajing/miniforge3/envs/sarima-env/lib/python3.10/site-packages/sklearn/utils/deprecation.py:151: FutureWarning: 'force_all_finite' was renamed to 'ensure_all_finite' in 1.6 and will be removed in 1.8.\n",
      "  warnings.warn(\n",
      "/Users/liuyajing/miniforge3/envs/sarima-env/lib/python3.10/site-packages/sklearn/utils/deprecation.py:151: FutureWarning: 'force_all_finite' was renamed to 'ensure_all_finite' in 1.6 and will be removed in 1.8.\n",
      "  warnings.warn(\n"
     ]
    },
    {
     "name": "stdout",
     "output_type": "stream",
     "text": [
      "Fold 18 — MSE: 1.51, MAE: 1.13\n"
     ]
    },
    {
     "name": "stderr",
     "output_type": "stream",
     "text": [
      "/Users/liuyajing/miniforge3/envs/sarima-env/lib/python3.10/site-packages/sklearn/utils/deprecation.py:151: FutureWarning: 'force_all_finite' was renamed to 'ensure_all_finite' in 1.6 and will be removed in 1.8.\n",
      "  warnings.warn(\n",
      "/Users/liuyajing/miniforge3/envs/sarima-env/lib/python3.10/site-packages/sklearn/utils/deprecation.py:151: FutureWarning: 'force_all_finite' was renamed to 'ensure_all_finite' in 1.6 and will be removed in 1.8.\n",
      "  warnings.warn(\n"
     ]
    },
    {
     "name": "stdout",
     "output_type": "stream",
     "text": [
      "Fold 19 — MSE: 2.06, MAE: 1.25\n"
     ]
    },
    {
     "name": "stderr",
     "output_type": "stream",
     "text": [
      "/Users/liuyajing/miniforge3/envs/sarima-env/lib/python3.10/site-packages/sklearn/utils/deprecation.py:151: FutureWarning: 'force_all_finite' was renamed to 'ensure_all_finite' in 1.6 and will be removed in 1.8.\n",
      "  warnings.warn(\n",
      "/Users/liuyajing/miniforge3/envs/sarima-env/lib/python3.10/site-packages/sklearn/utils/deprecation.py:151: FutureWarning: 'force_all_finite' was renamed to 'ensure_all_finite' in 1.6 and will be removed in 1.8.\n",
      "  warnings.warn(\n"
     ]
    },
    {
     "name": "stdout",
     "output_type": "stream",
     "text": [
      "Fold 20 — MSE: 1.82, MAE: 1.12\n"
     ]
    },
    {
     "name": "stderr",
     "output_type": "stream",
     "text": [
      "/Users/liuyajing/miniforge3/envs/sarima-env/lib/python3.10/site-packages/sklearn/utils/deprecation.py:151: FutureWarning: 'force_all_finite' was renamed to 'ensure_all_finite' in 1.6 and will be removed in 1.8.\n",
      "  warnings.warn(\n",
      "/Users/liuyajing/miniforge3/envs/sarima-env/lib/python3.10/site-packages/sklearn/utils/deprecation.py:151: FutureWarning: 'force_all_finite' was renamed to 'ensure_all_finite' in 1.6 and will be removed in 1.8.\n",
      "  warnings.warn(\n"
     ]
    },
    {
     "name": "stdout",
     "output_type": "stream",
     "text": [
      "Fold 21 — MSE: 1.06, MAE: 0.87\n"
     ]
    },
    {
     "name": "stderr",
     "output_type": "stream",
     "text": [
      "/Users/liuyajing/miniforge3/envs/sarima-env/lib/python3.10/site-packages/sklearn/utils/deprecation.py:151: FutureWarning: 'force_all_finite' was renamed to 'ensure_all_finite' in 1.6 and will be removed in 1.8.\n",
      "  warnings.warn(\n",
      "/Users/liuyajing/miniforge3/envs/sarima-env/lib/python3.10/site-packages/sklearn/utils/deprecation.py:151: FutureWarning: 'force_all_finite' was renamed to 'ensure_all_finite' in 1.6 and will be removed in 1.8.\n",
      "  warnings.warn(\n"
     ]
    },
    {
     "name": "stdout",
     "output_type": "stream",
     "text": [
      "Fold 22 — MSE: 1.32, MAE: 0.91\n"
     ]
    },
    {
     "name": "stderr",
     "output_type": "stream",
     "text": [
      "/Users/liuyajing/miniforge3/envs/sarima-env/lib/python3.10/site-packages/sklearn/utils/deprecation.py:151: FutureWarning: 'force_all_finite' was renamed to 'ensure_all_finite' in 1.6 and will be removed in 1.8.\n",
      "  warnings.warn(\n",
      "/Users/liuyajing/miniforge3/envs/sarima-env/lib/python3.10/site-packages/sklearn/utils/deprecation.py:151: FutureWarning: 'force_all_finite' was renamed to 'ensure_all_finite' in 1.6 and will be removed in 1.8.\n",
      "  warnings.warn(\n"
     ]
    },
    {
     "name": "stdout",
     "output_type": "stream",
     "text": [
      "Fold 23 — MSE: 1.32, MAE: 0.87\n"
     ]
    },
    {
     "name": "stderr",
     "output_type": "stream",
     "text": [
      "/Users/liuyajing/miniforge3/envs/sarima-env/lib/python3.10/site-packages/sklearn/utils/deprecation.py:151: FutureWarning: 'force_all_finite' was renamed to 'ensure_all_finite' in 1.6 and will be removed in 1.8.\n",
      "  warnings.warn(\n",
      "/Users/liuyajing/miniforge3/envs/sarima-env/lib/python3.10/site-packages/sklearn/utils/deprecation.py:151: FutureWarning: 'force_all_finite' was renamed to 'ensure_all_finite' in 1.6 and will be removed in 1.8.\n",
      "  warnings.warn(\n"
     ]
    },
    {
     "name": "stdout",
     "output_type": "stream",
     "text": [
      "Fold 24 — MSE: 1.32, MAE: 0.96\n"
     ]
    },
    {
     "name": "stderr",
     "output_type": "stream",
     "text": [
      "/Users/liuyajing/miniforge3/envs/sarima-env/lib/python3.10/site-packages/sklearn/utils/deprecation.py:151: FutureWarning: 'force_all_finite' was renamed to 'ensure_all_finite' in 1.6 and will be removed in 1.8.\n",
      "  warnings.warn(\n",
      "/Users/liuyajing/miniforge3/envs/sarima-env/lib/python3.10/site-packages/sklearn/utils/deprecation.py:151: FutureWarning: 'force_all_finite' was renamed to 'ensure_all_finite' in 1.6 and will be removed in 1.8.\n",
      "  warnings.warn(\n"
     ]
    },
    {
     "name": "stdout",
     "output_type": "stream",
     "text": [
      "Fold 25 — MSE: 1.25, MAE: 0.92\n"
     ]
    },
    {
     "name": "stderr",
     "output_type": "stream",
     "text": [
      "/Users/liuyajing/miniforge3/envs/sarima-env/lib/python3.10/site-packages/sklearn/utils/deprecation.py:151: FutureWarning: 'force_all_finite' was renamed to 'ensure_all_finite' in 1.6 and will be removed in 1.8.\n",
      "  warnings.warn(\n",
      "/Users/liuyajing/miniforge3/envs/sarima-env/lib/python3.10/site-packages/sklearn/utils/deprecation.py:151: FutureWarning: 'force_all_finite' was renamed to 'ensure_all_finite' in 1.6 and will be removed in 1.8.\n",
      "  warnings.warn(\n"
     ]
    },
    {
     "name": "stdout",
     "output_type": "stream",
     "text": [
      "Fold 26 — MSE: 1.04, MAE: 0.87\n"
     ]
    },
    {
     "name": "stderr",
     "output_type": "stream",
     "text": [
      "/Users/liuyajing/miniforge3/envs/sarima-env/lib/python3.10/site-packages/sklearn/utils/deprecation.py:151: FutureWarning: 'force_all_finite' was renamed to 'ensure_all_finite' in 1.6 and will be removed in 1.8.\n",
      "  warnings.warn(\n",
      "/Users/liuyajing/miniforge3/envs/sarima-env/lib/python3.10/site-packages/sklearn/utils/deprecation.py:151: FutureWarning: 'force_all_finite' was renamed to 'ensure_all_finite' in 1.6 and will be removed in 1.8.\n",
      "  warnings.warn(\n"
     ]
    },
    {
     "name": "stdout",
     "output_type": "stream",
     "text": [
      "Fold 27 — MSE: 2.87, MAE: 1.24\n"
     ]
    },
    {
     "name": "stderr",
     "output_type": "stream",
     "text": [
      "/Users/liuyajing/miniforge3/envs/sarima-env/lib/python3.10/site-packages/sklearn/utils/deprecation.py:151: FutureWarning: 'force_all_finite' was renamed to 'ensure_all_finite' in 1.6 and will be removed in 1.8.\n",
      "  warnings.warn(\n",
      "/Users/liuyajing/miniforge3/envs/sarima-env/lib/python3.10/site-packages/sklearn/utils/deprecation.py:151: FutureWarning: 'force_all_finite' was renamed to 'ensure_all_finite' in 1.6 and will be removed in 1.8.\n",
      "  warnings.warn(\n"
     ]
    },
    {
     "name": "stdout",
     "output_type": "stream",
     "text": [
      "Fold 28 — MSE: 2.91, MAE: 1.25\n"
     ]
    },
    {
     "name": "stderr",
     "output_type": "stream",
     "text": [
      "/Users/liuyajing/miniforge3/envs/sarima-env/lib/python3.10/site-packages/sklearn/utils/deprecation.py:151: FutureWarning: 'force_all_finite' was renamed to 'ensure_all_finite' in 1.6 and will be removed in 1.8.\n",
      "  warnings.warn(\n",
      "/Users/liuyajing/miniforge3/envs/sarima-env/lib/python3.10/site-packages/sklearn/utils/deprecation.py:151: FutureWarning: 'force_all_finite' was renamed to 'ensure_all_finite' in 1.6 and will be removed in 1.8.\n",
      "  warnings.warn(\n"
     ]
    },
    {
     "name": "stdout",
     "output_type": "stream",
     "text": [
      "Fold 29 — MSE: 1.44, MAE: 0.93\n"
     ]
    },
    {
     "name": "stderr",
     "output_type": "stream",
     "text": [
      "/Users/liuyajing/miniforge3/envs/sarima-env/lib/python3.10/site-packages/sklearn/utils/deprecation.py:151: FutureWarning: 'force_all_finite' was renamed to 'ensure_all_finite' in 1.6 and will be removed in 1.8.\n",
      "  warnings.warn(\n",
      "/Users/liuyajing/miniforge3/envs/sarima-env/lib/python3.10/site-packages/sklearn/utils/deprecation.py:151: FutureWarning: 'force_all_finite' was renamed to 'ensure_all_finite' in 1.6 and will be removed in 1.8.\n",
      "  warnings.warn(\n"
     ]
    },
    {
     "name": "stdout",
     "output_type": "stream",
     "text": [
      "Fold 30 — MSE: 1.97, MAE: 1.07\n"
     ]
    },
    {
     "name": "stderr",
     "output_type": "stream",
     "text": [
      "/Users/liuyajing/miniforge3/envs/sarima-env/lib/python3.10/site-packages/sklearn/utils/deprecation.py:151: FutureWarning: 'force_all_finite' was renamed to 'ensure_all_finite' in 1.6 and will be removed in 1.8.\n",
      "  warnings.warn(\n",
      "/Users/liuyajing/miniforge3/envs/sarima-env/lib/python3.10/site-packages/sklearn/utils/deprecation.py:151: FutureWarning: 'force_all_finite' was renamed to 'ensure_all_finite' in 1.6 and will be removed in 1.8.\n",
      "  warnings.warn(\n"
     ]
    },
    {
     "name": "stdout",
     "output_type": "stream",
     "text": [
      "Fold 31 — MSE: 0.79, MAE: 0.71\n"
     ]
    },
    {
     "name": "stderr",
     "output_type": "stream",
     "text": [
      "/Users/liuyajing/miniforge3/envs/sarima-env/lib/python3.10/site-packages/sklearn/utils/deprecation.py:151: FutureWarning: 'force_all_finite' was renamed to 'ensure_all_finite' in 1.6 and will be removed in 1.8.\n",
      "  warnings.warn(\n",
      "/Users/liuyajing/miniforge3/envs/sarima-env/lib/python3.10/site-packages/sklearn/utils/deprecation.py:151: FutureWarning: 'force_all_finite' was renamed to 'ensure_all_finite' in 1.6 and will be removed in 1.8.\n",
      "  warnings.warn(\n"
     ]
    },
    {
     "name": "stdout",
     "output_type": "stream",
     "text": [
      "Fold 32 — MSE: 1.09, MAE: 0.80\n"
     ]
    },
    {
     "name": "stderr",
     "output_type": "stream",
     "text": [
      "/Users/liuyajing/miniforge3/envs/sarima-env/lib/python3.10/site-packages/sklearn/utils/deprecation.py:151: FutureWarning: 'force_all_finite' was renamed to 'ensure_all_finite' in 1.6 and will be removed in 1.8.\n",
      "  warnings.warn(\n",
      "/Users/liuyajing/miniforge3/envs/sarima-env/lib/python3.10/site-packages/sklearn/utils/deprecation.py:151: FutureWarning: 'force_all_finite' was renamed to 'ensure_all_finite' in 1.6 and will be removed in 1.8.\n",
      "  warnings.warn(\n"
     ]
    },
    {
     "name": "stdout",
     "output_type": "stream",
     "text": [
      "Fold 33 — MSE: 0.71, MAE: 0.70\n",
      "Fold 34 — MSE: 2.09, MAE: 1.03\n",
      "\n",
      "Average MSE: 6.29\n",
      "Average MAE: 1.19\n"
     ]
    },
    {
     "name": "stderr",
     "output_type": "stream",
     "text": [
      "/Users/liuyajing/miniforge3/envs/sarima-env/lib/python3.10/site-packages/sklearn/utils/deprecation.py:151: FutureWarning: 'force_all_finite' was renamed to 'ensure_all_finite' in 1.6 and will be removed in 1.8.\n",
      "  warnings.warn(\n"
     ]
    }
   ],
   "source": [
    "# Define forecast horizon: next 96 steps (15min × 96 = 1 day)\n",
    "fh = list(range(1, 97))\n",
    "\n",
    "# Create sliding window splitter\n",
    "sliding_cv = SlidingWindowSplitter(\n",
    "    window_length=96 * 7,  # fixed 7-day training window\n",
    "    step_length=96,        # move forward by 1 day\n",
    "    fh=fh\n",
    ")\n",
    "\n",
    "# Initialize lists to store errors\n",
    "mse_list = []\n",
    "mae_list = []\n",
    "\n",
    "# Loop through each split and fit SARIMA model\n",
    "for i, (train_idx, test_idx) in enumerate(sliding_cv.split(y)):\n",
    "    y_train = y.iloc[train_idx]\n",
    "    y_test = y.iloc[test_idx]\n",
    "\n",
    "    # Log transform the training data\n",
    "    y_train_log = np.log1p(y_train)\n",
    "\n",
    "    # Initialize ARIMA forecaster\n",
    "    forecaster = ARIMA(order=(1, 0, 1), seasonal_order=(1, 0, 1, 96))\n",
    "\n",
    "    # Fit model\n",
    "    forecaster.fit(y_train_log)\n",
    "\n",
    "    # Forecast next 96 steps\n",
    "    y_pred_log = forecaster.predict(fh=fh)\n",
    "    y_pred = np.expm1(y_pred_log)\n",
    "\n",
    "    # Compute and store errors\n",
    "    mse = mean_squared_error(y_test, y_pred)\n",
    "    mae = mean_absolute_error(y_test, y_pred)\n",
    "    mse_list.append(mse)\n",
    "    mae_list.append(mae)\n",
    "\n",
    "    print(f\"Fold {i+1} — MSE: {mse:.2f}, MAE: {mae:.2f}\")\n",
    "\n",
    "# Show average performance across all splits\n",
    "print(f\"\\nAverage MSE: {np.mean(mse_list):.2f}\")\n",
    "print(f\"Average MAE: {np.mean(mae_list):.2f}\")\n"
   ]
  },
  {
   "cell_type": "markdown",
   "id": "472ab28d",
   "metadata": {},
   "source": [
    "**Sliding Window Forecasting Insight**\n",
    "\n",
    "We evaluated SARIMA using a **sliding window** approach with a fixed 7-day training window and 1-day test window.  \n",
    "This setup ensures consistent training size while testing model generalization across different time periods.\n",
    "\n",
    "- **Average MSE:** 6.29  \n",
    "- **Average MAE:** 1.19  \n",
    "- **Observation:**  \n",
    "  Performance remains relatively stable across folds, but certain periods (e.g., Fold 11 & 14) show sudden spikes in error, suggesting possible network anomalies or model underfit during peak volatility.  \n",
    "  Overall, sliding window confirms SARIMA's robustness across time while revealing windows of degraded performance.\n"
   ]
  },
  {
   "cell_type": "markdown",
   "id": "c11d73a9",
   "metadata": {},
   "source": [
    "### 3.2.2 Sliding Window Forecasting – Weekly\n",
    "\n",
    "Use sliding window to evaluate SARIMA performance across fixed-length time segments  \n",
    "(7-day training window, 7-day forecast).\n"
   ]
  },
  {
   "cell_type": "code",
   "execution_count": 11,
   "id": "47d13327",
   "metadata": {},
   "outputs": [
    {
     "name": "stderr",
     "output_type": "stream",
     "text": [
      "/Users/liuyajing/miniforge3/envs/sarima-env/lib/python3.10/site-packages/sklearn/utils/deprecation.py:151: FutureWarning: 'force_all_finite' was renamed to 'ensure_all_finite' in 1.6 and will be removed in 1.8.\n",
      "  warnings.warn(\n",
      "/Users/liuyajing/miniforge3/envs/sarima-env/lib/python3.10/site-packages/sklearn/utils/deprecation.py:151: FutureWarning: 'force_all_finite' was renamed to 'ensure_all_finite' in 1.6 and will be removed in 1.8.\n",
      "  warnings.warn(\n",
      "/Users/liuyajing/miniforge3/envs/sarima-env/lib/python3.10/site-packages/sklearn/utils/deprecation.py:151: FutureWarning: 'force_all_finite' was renamed to 'ensure_all_finite' in 1.6 and will be removed in 1.8.\n",
      "  warnings.warn(\n"
     ]
    },
    {
     "name": "stdout",
     "output_type": "stream",
     "text": [
      "Week 1 — MSE: 1.85, MAE: 0.97\n"
     ]
    },
    {
     "name": "stderr",
     "output_type": "stream",
     "text": [
      "/Users/liuyajing/miniforge3/envs/sarima-env/lib/python3.10/site-packages/sklearn/utils/deprecation.py:151: FutureWarning: 'force_all_finite' was renamed to 'ensure_all_finite' in 1.6 and will be removed in 1.8.\n",
      "  warnings.warn(\n",
      "/Users/liuyajing/miniforge3/envs/sarima-env/lib/python3.10/site-packages/sklearn/utils/deprecation.py:151: FutureWarning: 'force_all_finite' was renamed to 'ensure_all_finite' in 1.6 and will be removed in 1.8.\n",
      "  warnings.warn(\n"
     ]
    },
    {
     "name": "stdout",
     "output_type": "stream",
     "text": [
      "Week 2 — MSE: 24.69, MAE: 1.99\n"
     ]
    },
    {
     "name": "stderr",
     "output_type": "stream",
     "text": [
      "/Users/liuyajing/miniforge3/envs/sarima-env/lib/python3.10/site-packages/sklearn/utils/deprecation.py:151: FutureWarning: 'force_all_finite' was renamed to 'ensure_all_finite' in 1.6 and will be removed in 1.8.\n",
      "  warnings.warn(\n",
      "/Users/liuyajing/miniforge3/envs/sarima-env/lib/python3.10/site-packages/sklearn/utils/deprecation.py:151: FutureWarning: 'force_all_finite' was renamed to 'ensure_all_finite' in 1.6 and will be removed in 1.8.\n",
      "  warnings.warn(\n"
     ]
    },
    {
     "name": "stdout",
     "output_type": "stream",
     "text": [
      "Week 3 — MSE: 2.51, MAE: 1.32\n",
      "Week 4 — MSE: 1.70, MAE: 1.05\n",
      "\n",
      "Average Weekly MSE: 7.69\n",
      "Average Weekly MAE: 1.33\n"
     ]
    },
    {
     "name": "stderr",
     "output_type": "stream",
     "text": [
      "/Users/liuyajing/miniforge3/envs/sarima-env/lib/python3.10/site-packages/sklearn/utils/deprecation.py:151: FutureWarning: 'force_all_finite' was renamed to 'ensure_all_finite' in 1.6 and will be removed in 1.8.\n",
      "  warnings.warn(\n"
     ]
    }
   ],
   "source": [
    "# Define forecast horizon: next 7 days (15min × 96 × 7 = 672 steps)\n",
    "fh = list(range(1, 96 * 7 + 1))\n",
    "\n",
    "# Create sliding window splitter for weekly forecasting\n",
    "sliding_cv_weekly = SlidingWindowSplitter(\n",
    "    window_length=96 * 7,  # 1 week of training\n",
    "    step_length=96 * 7,    # move window by 1 week\n",
    "    fh=fh\n",
    ")\n",
    "\n",
    "# Initialize error containers\n",
    "mse_list_sliding = []\n",
    "mae_list_sliding = []\n",
    "\n",
    "# Run cross-validation\n",
    "for i, (train_idx, test_idx) in enumerate(sliding_cv_weekly.split(y)):\n",
    "    y_train = y.iloc[train_idx]\n",
    "    y_test = y.iloc[test_idx]\n",
    "\n",
    "    y_train_log = np.log1p(y_train)\n",
    "\n",
    "    forecaster = ARIMA(order=(1, 0, 1), seasonal_order=(1, 0, 1, 96))\n",
    "    forecaster.fit(y_train_log)\n",
    "\n",
    "    y_pred_log = forecaster.predict(fh=fh)\n",
    "    y_pred = np.expm1(y_pred_log)\n",
    "\n",
    "    mse = mean_squared_error(y_test, y_pred)\n",
    "    mae = mean_absolute_error(y_test, y_pred)\n",
    "    mse_list_sliding.append(mse)\n",
    "    mae_list_sliding.append(mae)\n",
    "\n",
    "    print(f\"Week {i+1} — MSE: {mse:.2f}, MAE: {mae:.2f}\")\n",
    "\n",
    "print(f\"\\nAverage Weekly MSE: {np.mean(mse_list_sliding):.2f}\")\n",
    "print(f\"Average Weekly MAE: {np.mean(mae_list_sliding):.2f}\")\n"
   ]
  },
  {
   "cell_type": "markdown",
   "id": "cd5df495",
   "metadata": {},
   "source": [
    "#### 3.2.2 Sliding Window Forecasting - Weekly Insight\n",
    "\n",
    "The SARIMA model was evaluated using sliding window cross-validation with 1-week training and 1-week testing windows.\n",
    "\n",
    "- **Average MSE:** 7.69  \n",
    "- **Average MAE:** 1.33  \n",
    "- Notable spike in Week 2 (MSE = 24.69) likely reflects transaction fee volatility or sudden anomalies.\n",
    "\n",
    "Overall, SARIMA captures regular daily seasonality but struggles to model irregular fee spikes in some periods.\n"
   ]
  },
  {
   "cell_type": "markdown",
   "id": "c58136af",
   "metadata": {},
   "source": [
    "## 4. Residual Analysis\n",
    "\n",
    "We analyze the residuals of the SARIMA model to assess goodness-of-fit and check for remaining autocorrelation or non-random patterns.\n"
   ]
  },
  {
   "cell_type": "markdown",
   "id": "9fa63f34-6fc3-42bf-8aa8-cbaa0fd8b171",
   "metadata": {},
   "source": [
    "## 3. Sampling and Splitting (Last 7 Days)\n",
    "\n",
    "To reduce computational cost, we focus on the **most recent 7 days**"
   ]
  },
  {
   "cell_type": "code",
   "execution_count": 8,
   "id": "036fe48f-a128-4954-9e99-6ea57824373b",
   "metadata": {},
   "outputs": [
    {
     "data": {
      "text/plain": [
       "(2785,)"
      ]
     },
     "execution_count": 8,
     "metadata": {},
     "output_type": "execute_result"
    }
   ],
   "source": [
    "#sample 30 days data due to computational resource\n",
    "\n",
    "end_date = y.index.max()\n",
    "start_date = end_date - pd.Timedelta(days=30)\n",
    "y_month = y.loc[start_date:end_date]\n",
    "y_train, y_test = temporal_train_test_split(y_month, test_size=96)\n",
    "# Log-transform training data to stabilize variance and outliers\n",
    "y_train_log = np.log1p(y_train)\n",
    "\n",
    "y_train.shape"
   ]
  },
  {
   "cell_type": "markdown",
   "id": "ed7cf1fa-8f72-40a6-801d-b1a04b3f9504",
   "metadata": {},
   "source": [
    "## 4. Define Forecast Horizon and Fit SARIMA Model\n",
    "\n",
    "We now initialize the SARIMA model and fit it on the log-transformed training data."
   ]
  },
  {
   "cell_type": "code",
   "execution_count": 6,
   "id": "b5e45995-fb54-4d16-acc1-eeafb386fbb8",
   "metadata": {},
   "outputs": [],
   "source": [
    "fh = ForecastingHorizon(y_test.index, is_relative=False)"
   ]
  },
  {
   "cell_type": "code",
   "execution_count": 7,
   "id": "98a77eee-3301-4e21-91ab-257fcd6a4695",
   "metadata": {},
   "outputs": [],
   "source": [
    "# cross validation if available\n",
    "# desired_folds = 5\n",
    "# total_len = len(y)\n",
    "# fh_max = 288\n",
    "\n",
    "# step_length = (total_len - 2000 - fh_max) // (desired_folds - 1)\n",
    "# cv = ExpandingWindowSplitter(\n",
    "#     initial_window = 2000,\n",
    "#     fh=fh,\n",
    "#     step_length=step_length \n",
    "# )\n",
    "# cross validate\n",
    "# results = evaluate(\n",
    "#     forecaster=forecaster,\n",
    "#     y=y,\n",
    "#     cv=cv,\n",
    "#     strategy=\"update\",\n",
    "#     scoring=[mean_squared_error, mean_absolute_percentage_error],\n",
    "#     return_data=True\n",
    "# )"
   ]
  },
  {
   "cell_type": "code",
   "execution_count": 8,
   "id": "82b14636-1217-46e7-8f62-50a0e2609bb5",
   "metadata": {},
   "outputs": [],
   "source": [
    "forecaster = ARIMA(\n",
    "    order=(1, 0, 1),                \n",
    "    seasonal_order=(1, 0, 1, 288)  \n",
    ")"
   ]
  },
  {
   "cell_type": "code",
   "execution_count": 9,
   "id": "d685eb92-e6f1-4b79-8378-1b83e80ecf97",
   "metadata": {},
   "outputs": [
    {
     "data": {
      "text/html": [
       "<style>#sk-4573c7e1-7b0a-4bdf-bddc-56ce3f810119 {\n",
       "    /* Definition of color scheme common for light and dark mode */\n",
       "    --sklearn-color-text: black;\n",
       "    --sklearn-color-line: gray;\n",
       "    /* Definition of color scheme for objects */\n",
       "    --sklearn-color-level-0: #fff5e6;\n",
       "    --sklearn-color-level-1: #f6e4d2;\n",
       "    --sklearn-color-level-2: #ffe0b3;\n",
       "    --sklearn-color-level-3: chocolate;\n",
       "\n",
       "    /* Specific color for light theme */\n",
       "    --sklearn-color-text-on-default-background: var(--theme-code-foreground, var(--jp-content-font-color1, black));\n",
       "    --sklearn-color-background: var(--theme-background, var(--jp-layout-color0, white));\n",
       "    --sklearn-color-border-box: var(--theme-code-foreground, var(--jp-content-font-color1, black));\n",
       "    --sklearn-color-icon: #696969;\n",
       "\n",
       "    @media (prefers-color-scheme: dark) {\n",
       "      /* Redefinition of color scheme for dark theme */\n",
       "      --sklearn-color-text-on-default-background: var(--theme-code-foreground, var(--jp-content-font-color1, white));\n",
       "      --sklearn-color-background: var(--theme-background, var(--jp-layout-color0, #111));\n",
       "      --sklearn-color-border-box: var(--theme-code-foreground, var(--jp-content-font-color1, white));\n",
       "      --sklearn-color-icon: #878787;\n",
       "    }\n",
       "  }\n",
       "\n",
       "  #sk-4573c7e1-7b0a-4bdf-bddc-56ce3f810119 {\n",
       "    color: var(--sklearn-color-text);\n",
       "  }\n",
       "\n",
       "  #sk-4573c7e1-7b0a-4bdf-bddc-56ce3f810119 pre {\n",
       "    padding: 0;\n",
       "  }\n",
       "\n",
       "  #sk-4573c7e1-7b0a-4bdf-bddc-56ce3f810119 input.sk-hidden--visually {\n",
       "    border: 0;\n",
       "    clip: rect(1px 1px 1px 1px);\n",
       "    clip: rect(1px, 1px, 1px, 1px);\n",
       "    height: 1px;\n",
       "    margin: -1px;\n",
       "    overflow: hidden;\n",
       "    padding: 0;\n",
       "    position: absolute;\n",
       "    width: 1px;\n",
       "  }\n",
       "\n",
       "  #sk-4573c7e1-7b0a-4bdf-bddc-56ce3f810119 div.sk-dashed-wrapped {\n",
       "    border: 1px dashed var(--sklearn-color-line);\n",
       "    margin: 0 0.4em 0.5em 0.4em;\n",
       "    box-sizing: border-box;\n",
       "    padding-bottom: 0.4em;\n",
       "    background-color: var(--sklearn-color-background);\n",
       "  }\n",
       "\n",
       "  #sk-4573c7e1-7b0a-4bdf-bddc-56ce3f810119 div.sk-container {\n",
       "    /* jupyter's `normalize.less` sets `[hidden] { display: none; }`\n",
       "       but bootstrap.min.css set `[hidden] { display: none !important; }`\n",
       "       so we also need the `!important` here to be able to override the\n",
       "       default hidden behavior on the sphinx rendered scikit-learn.org.\n",
       "       See: https://github.com/scikit-learn/scikit-learn/issues/21755 */\n",
       "    display: inline-block !important;\n",
       "    position: relative;\n",
       "  }\n",
       "\n",
       "  #sk-4573c7e1-7b0a-4bdf-bddc-56ce3f810119 div.sk-text-repr-fallback {\n",
       "    display: none;\n",
       "  }\n",
       "\n",
       "  div.sk-parallel-item,\n",
       "  div.sk-serial,\n",
       "  div.sk-item {\n",
       "    /* draw centered vertical line to link estimators */\n",
       "    background-image: linear-gradient(var(--sklearn-color-text-on-default-background), var(--sklearn-color-text-on-default-background));\n",
       "    background-size: 2px 100%;\n",
       "    background-repeat: no-repeat;\n",
       "    background-position: center center;\n",
       "  }\n",
       "\n",
       "  /* Parallel-specific style estimator block */\n",
       "\n",
       "  #sk-4573c7e1-7b0a-4bdf-bddc-56ce3f810119 div.sk-parallel-item::after {\n",
       "    content: \"\";\n",
       "    width: 100%;\n",
       "    border-bottom: 2px solid var(--sklearn-color-text-on-default-background);\n",
       "    flex-grow: 1;\n",
       "  }\n",
       "\n",
       "  #sk-4573c7e1-7b0a-4bdf-bddc-56ce3f810119 div.sk-parallel {\n",
       "    display: flex;\n",
       "    align-items: stretch;\n",
       "    justify-content: center;\n",
       "    background-color: var(--sklearn-color-background);\n",
       "    position: relative;\n",
       "  }\n",
       "\n",
       "  #sk-4573c7e1-7b0a-4bdf-bddc-56ce3f810119 div.sk-parallel-item {\n",
       "    display: flex;\n",
       "    flex-direction: column;\n",
       "  }\n",
       "\n",
       "  #sk-4573c7e1-7b0a-4bdf-bddc-56ce3f810119 div.sk-parallel-item:first-child::after {\n",
       "    align-self: flex-end;\n",
       "    width: 50%;\n",
       "  }\n",
       "\n",
       "  #sk-4573c7e1-7b0a-4bdf-bddc-56ce3f810119 div.sk-parallel-item:last-child::after {\n",
       "    align-self: flex-start;\n",
       "    width: 50%;\n",
       "  }\n",
       "\n",
       "  #sk-4573c7e1-7b0a-4bdf-bddc-56ce3f810119 div.sk-parallel-item:only-child::after {\n",
       "    width: 0;\n",
       "  }\n",
       "\n",
       "  /* Serial-specific style estimator block */\n",
       "\n",
       "  #sk-4573c7e1-7b0a-4bdf-bddc-56ce3f810119 div.sk-serial {\n",
       "    display: flex;\n",
       "    flex-direction: column;\n",
       "    align-items: center;\n",
       "    background-color: var(--sklearn-color-background);\n",
       "    padding-right: 1em;\n",
       "    padding-left: 1em;\n",
       "  }\n",
       "\n",
       "\n",
       "  /* Toggleable style: style used for estimator/Pipeline/ColumnTransformer box that is\n",
       "  clickable and can be expanded/collapsed.\n",
       "  - Pipeline and ColumnTransformer use this feature and define the default style\n",
       "  - Estimators will overwrite some part of the style using the `sk-estimator` class\n",
       "  */\n",
       "\n",
       "  /* Pipeline and ColumnTransformer style (default) */\n",
       "\n",
       "  #sk-4573c7e1-7b0a-4bdf-bddc-56ce3f810119 div.sk-toggleable {\n",
       "    /* Default theme specific background. It is overwritten whether we have a\n",
       "    specific estimator or a Pipeline/ColumnTransformer */\n",
       "    background-color: var(--sklearn-color-background);\n",
       "  }\n",
       "\n",
       "  /* Toggleable label */\n",
       "  #sk-4573c7e1-7b0a-4bdf-bddc-56ce3f810119 label.sk-toggleable__label {\n",
       "    cursor: pointer;\n",
       "    display: block;\n",
       "    width: 100%;\n",
       "    margin-bottom: 0;\n",
       "    padding: 0.5em;\n",
       "    box-sizing: border-box;\n",
       "    text-align: center;\n",
       "  }\n",
       "\n",
       "  #sk-4573c7e1-7b0a-4bdf-bddc-56ce3f810119 label.sk-toggleable__label-arrow:before {\n",
       "    /* Arrow on the left of the label */\n",
       "    content: \"▸\";\n",
       "    float: left;\n",
       "    margin-right: 0.25em;\n",
       "    color: var(--sklearn-color-icon);\n",
       "  }\n",
       "\n",
       "  #sk-4573c7e1-7b0a-4bdf-bddc-56ce3f810119 label.sk-toggleable__label-arrow:hover:before {\n",
       "    color: var(--sklearn-color-text);\n",
       "  }\n",
       "\n",
       "  /* Toggleable content - dropdown */\n",
       "\n",
       "  #sk-4573c7e1-7b0a-4bdf-bddc-56ce3f810119 div.sk-toggleable__content {\n",
       "    max-height: 0;\n",
       "    max-width: 0;\n",
       "    overflow: hidden;\n",
       "    text-align: left;\n",
       "    background-color: var(--sklearn-color-level-0);\n",
       "  }\n",
       "\n",
       "  #sk-4573c7e1-7b0a-4bdf-bddc-56ce3f810119 div.sk-toggleable__content pre {\n",
       "    margin: 0.2em;\n",
       "    border-radius: 0.25em;\n",
       "    color: var(--sklearn-color-text);\n",
       "    background-color: var(--sklearn-color-level-0);\n",
       "  }\n",
       "\n",
       "  #sk-4573c7e1-7b0a-4bdf-bddc-56ce3f810119 input.sk-toggleable__control:checked~div.sk-toggleable__content {\n",
       "    /* Expand drop-down */\n",
       "    max-height: 200px;\n",
       "    max-width: 100%;\n",
       "    overflow: auto;\n",
       "  }\n",
       "\n",
       "  #sk-4573c7e1-7b0a-4bdf-bddc-56ce3f810119 input.sk-toggleable__control:checked~label.sk-toggleable__label-arrow:before {\n",
       "    content: \"▾\";\n",
       "  }\n",
       "\n",
       "  /* Pipeline/ColumnTransformer-specific style */\n",
       "\n",
       "  #sk-4573c7e1-7b0a-4bdf-bddc-56ce3f810119 div.sk-label input.sk-toggleable__control:checked~label.sk-toggleable__label {\n",
       "    color: var(--sklearn-color-text);\n",
       "    background-color: var(--sklearn-color-level-2);\n",
       "  }\n",
       "\n",
       "  /* Estimator-specific style */\n",
       "\n",
       "  /* Colorize estimator box */\n",
       "  #sk-4573c7e1-7b0a-4bdf-bddc-56ce3f810119 div.sk-estimator input.sk-toggleable__control:checked~label.sk-toggleable__label {\n",
       "    /* unfitted */\n",
       "    background-color: var(--sklearn-color-level-2);\n",
       "  }\n",
       "\n",
       "  #sk-4573c7e1-7b0a-4bdf-bddc-56ce3f810119 div.sk-label label.sk-toggleable__label,\n",
       "  #sk-4573c7e1-7b0a-4bdf-bddc-56ce3f810119 div.sk-label label {\n",
       "    /* The background is the default theme color */\n",
       "    color: var(--sklearn-color-text-on-default-background);\n",
       "  }\n",
       "\n",
       "  /* On hover, darken the color of the background */\n",
       "  #sk-4573c7e1-7b0a-4bdf-bddc-56ce3f810119 div.sk-label:hover label.sk-toggleable__label {\n",
       "    color: var(--sklearn-color-text);\n",
       "    background-color: var(--sklearn-color-level-2);\n",
       "  }\n",
       "\n",
       "  /* Estimator label */\n",
       "\n",
       "  #sk-4573c7e1-7b0a-4bdf-bddc-56ce3f810119 div.sk-label label {\n",
       "    font-family: monospace;\n",
       "    font-weight: bold;\n",
       "    display: inline-block;\n",
       "    line-height: 1.2em;\n",
       "  }\n",
       "\n",
       "  #sk-4573c7e1-7b0a-4bdf-bddc-56ce3f810119 div.sk-label-container {\n",
       "    text-align: center;\n",
       "  }\n",
       "\n",
       "  /* Estimator-specific */\n",
       "  #sk-4573c7e1-7b0a-4bdf-bddc-56ce3f810119 div.sk-estimator {\n",
       "    font-family: monospace;\n",
       "    border: 1px dotted var(--sklearn-color-border-box);\n",
       "    border-radius: 0.25em;\n",
       "    box-sizing: border-box;\n",
       "    margin-bottom: 0.5em;\n",
       "    background-color: var(--sklearn-color-level-0);\n",
       "  }\n",
       "\n",
       "  /* on hover */\n",
       "  #sk-4573c7e1-7b0a-4bdf-bddc-56ce3f810119 div.sk-estimator:hover {\n",
       "    background-color: var(--sklearn-color-level-2);\n",
       "  }\n",
       "\n",
       "  /* Specification for estimator info */\n",
       "\n",
       "  .sk-estimator-doc-link,\n",
       "  a:link.sk-estimator-doc-link,\n",
       "  a:visited.sk-estimator-doc-link {\n",
       "    float: right;\n",
       "    font-size: smaller;\n",
       "    line-height: 1em;\n",
       "    font-family: monospace;\n",
       "    background-color: var(--sklearn-color-background);\n",
       "    border-radius: 1em;\n",
       "    height: 1em;\n",
       "    width: 1em;\n",
       "    text-decoration: none !important;\n",
       "    margin-left: 1ex;\n",
       "    border: var(--sklearn-color-level-1) 1pt solid;\n",
       "    color: var(--sklearn-color-level-1);\n",
       "  }\n",
       "\n",
       "  /* On hover */\n",
       "  div.sk-estimator:hover .sk-estimator-doc-link:hover,\n",
       "  .sk-estimator-doc-link:hover,\n",
       "  div.sk-label-container:hover .sk-estimator-doc-link:hover,\n",
       "  .sk-estimator-doc-link:hover {\n",
       "    background-color: var(--sklearn-color-level-3);\n",
       "    color: var(--sklearn-color-background);\n",
       "    text-decoration: none;\n",
       "  }\n",
       "\n",
       "  /* Span, style for the box shown on hovering the info icon */\n",
       "  .sk-estimator-doc-link span {\n",
       "    display: none;\n",
       "    z-index: 9999;\n",
       "    position: relative;\n",
       "    font-weight: normal;\n",
       "    right: .2ex;\n",
       "    padding: .5ex;\n",
       "    margin: .5ex;\n",
       "    width: min-content;\n",
       "    min-width: 20ex;\n",
       "    max-width: 50ex;\n",
       "    color: var(--sklearn-color-text);\n",
       "    box-shadow: 2pt 2pt 4pt #999;\n",
       "    background: var(--sklearn-color-level-0);\n",
       "    border: .5pt solid var(--sklearn-color-level-3);\n",
       "  }\n",
       "\n",
       "  .sk-estimator-doc-link:hover span {\n",
       "    display: block;\n",
       "  }\n",
       "\n",
       "  /* \"?\"-specific style due to the `<a>` HTML tag */\n",
       "\n",
       "  #sk-4573c7e1-7b0a-4bdf-bddc-56ce3f810119 a.estimator_doc_link {\n",
       "    float: right;\n",
       "    font-size: 1rem;\n",
       "    line-height: 1em;\n",
       "    font-family: monospace;\n",
       "    background-color: var(--sklearn-color-background);\n",
       "    border-radius: 1rem;\n",
       "    height: 1rem;\n",
       "    width: 1rem;\n",
       "    text-decoration: none;\n",
       "    color: var(--sklearn-color-level-1);\n",
       "    border: var(--sklearn-color-level-1) 1pt solid;\n",
       "  }\n",
       "\n",
       "  /* On hover */\n",
       "  #sk-4573c7e1-7b0a-4bdf-bddc-56ce3f810119 a.estimator_doc_link:hover {\n",
       "    background-color: var(--sklearn-color-level-3);\n",
       "    color: var(--sklearn-color-background);\n",
       "    text-decoration: none;\n",
       "  }\n",
       "</style><div id='sk-4573c7e1-7b0a-4bdf-bddc-56ce3f810119' class=\"sk-top-container\"><div class=\"sk-text-repr-fallback\"><pre>ARIMA(order=(1, 0, 1), seasonal_order=(1, 0, 1, 288))</pre><b>Please rerun this cell to show the HTML repr or trust the notebook.</b></div><div class=\"sk-container\" hidden><div class='sk-item'><div class=\"sk-estimator sk-toggleable\"><input class=\"sk-toggleable__control sk-hidden--visually\" id=UUID('08e0a6dc-7455-4c4e-bd6f-62326ad91d48') type=\"checkbox\" checked><label for=UUID('08e0a6dc-7455-4c4e-bd6f-62326ad91d48') class='sk-toggleable__label sk-toggleable__label-arrow'>ARIMA<a class=\"sk-estimator-doc-link\" rel=\"noreferrer\" target=\"_blank\" href=\"https://www.sktime.net/en/v0.36.0/api_reference/auto_generated/sktime.forecasting.arima.ARIMA.html\">?<span>Documentation for ARIMA</span></a></label><div class=\"sk-toggleable__content\"><pre>ARIMA(order=(1, 0, 1), seasonal_order=(1, 0, 1, 288))</pre></div></div></div></div></div>"
      ],
      "text/plain": [
       "ARIMA(order=(1, 0, 1), seasonal_order=(1, 0, 1, 288))"
      ]
     },
     "execution_count": 9,
     "metadata": {},
     "output_type": "execute_result"
    }
   ],
   "source": [
    "forecaster.fit(y_train_log)"
   ]
  },
  {
   "cell_type": "markdown",
   "id": "dc1689a0-751b-4431-800d-8f472ba7fc15",
   "metadata": {},
   "source": [
    "# 5. Forecasting and Evaluation\n",
    "\n",
    "After fitting the SARIMA model, we generate forecasts and evaluate performance using RMSE and MAPE.\n"
   ]
  },
  {
   "cell_type": "code",
   "execution_count": 10,
   "id": "29547407-8991-44eb-9b7e-ea083f15e380",
   "metadata": {},
   "outputs": [
    {
     "name": "stdout",
     "output_type": "stream",
     "text": [
      "RMSE on 24h test set: 1.9267\n",
      "MAE on 24h test set: 1.1683\n",
      "MAPE on 24h test set: 0.6674\n"
     ]
    }
   ],
   "source": [
    "y_pred_log = forecaster.predict(fh)\n",
    "y_pred = np.expm1(y_pred_log)\n",
    "rmse = mean_squared_error(y_test, y_pred, squared=False)\n",
    "print(f\"RMSE on 24h test set: {rmse:.4f}\")\n",
    "mae = mean_absolute_error(y_test, y_pred)\n",
    "print(f\"MAE on 24h test set: {mae:.4f}\")\n",
    "mape = mean_absolute_percentage_error(y_test, y_pred)\n",
    "print(f\"MAPE on 24h test set: {mape:.4f}\")"
   ]
  },
  {
   "cell_type": "markdown",
   "id": "f607edd6-77cc-4d9a-bef5-e0843623255d",
   "metadata": {},
   "source": [
    "# 6. Forecast Visualization\n",
    "\n",
    "We visualize the SARIMA model’s forecast against the actual log-transformed values over the test period."
   ]
  },
  {
   "cell_type": "code",
   "execution_count": 11,
   "id": "19ac0209-63af-46af-8aed-b4e2399e5854",
   "metadata": {},
   "outputs": [
    {
     "data": {
      "image/png": "[encoded data removed]",
      "text/plain": [
       "<Figure size 1400x500 with 1 Axes>"
      ]
     },
     "metadata": {},
     "output_type": "display_data"
    }
   ],
   "source": [
    "\n",
    "plt.figure(figsize=(14, 5))\n",
    "\n",
    "# Plot actual values\n",
    "plt.plot(y_test.index, y_test.values, label=\"Actual\", linewidth=2, color = \"grey\")\n",
    "# Plot predicted values\n",
    "plt.plot(y_pred.index, y_pred.values, label=\"ARIMA Forecast\", linestyle=\"--\", color=\"orange\")\n",
    "\n",
    "plt.title(\"ARIMA Forecast vs Actual (24h)\")\n",
    "plt.xlabel(\"Time\")\n",
    "plt.ylabel(\"Fastest Fee (sat/byte)\")\n",
    "plt.legend()\n",
    "plt.grid(True)\n",
    "plt.tight_layout()\n",
    "plt.show()\n"
   ]
  }
 ],
 "metadata": {
  "kernelspec": {
   "display_name": "sarima-env",
   "language": "python",
   "name": "python3"
  },
  "language_info": {
   "codemirror_mode": {
    "name": "ipython",
    "version": 3
   },
   "file_extension": ".py",
   "mimetype": "text/x-python",
   "name": "python",
   "nbconvert_exporter": "python",
   "pygments_lexer": "ipython3",
   "version": "3.10.17"
  }
 },
 "nbformat": 4,
 "nbformat_minor": 5
}
