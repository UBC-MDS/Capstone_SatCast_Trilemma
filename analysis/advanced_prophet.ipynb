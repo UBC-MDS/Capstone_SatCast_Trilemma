{
 "cells": [
  {
   "cell_type": "markdown",
   "id": "296dcbda",
   "metadata": {},
   "source": [
    "# Advanced Model: Prophet\n",
    "This notebook builds and evaluates a Prophet model to forecast Bitcoin transaction fees over the next 24 hours, based on 15-minute interval data from the mempool dataset."
   ]
  },
  {
   "cell_type": "markdown",
   "id": "6a2bea83",
   "metadata": {},
   "source": [
    "### Why Prophet?\n",
    "\n",
    "During exploratory data analysis (EDA), we observed:\n",
    "\n",
    "- Clear daily and weekly seasonality in fee patterns,\n",
    "\n",
    "- Sudden spikes in fees due to network congestion (potential \"holidays\"),\n",
    "\n",
    "- Multiple changepoints, indicating regime shifts or structural breaks.\n",
    "\n",
    "The Prophet model is well-suited for this context because it:\n",
    "\n",
    "- Handles nonlinear trends with automatic changepoint detection,\n",
    "\n",
    "- Supports multiple seasonalities (daily, weekly, and custom),\n",
    "\n",
    "- Allows incorporation of holiday effects (e.g., congestion spikes),\n",
    "\n",
    "- Is robust to missing data and outliers.\n",
    "\n",
    "This notebook demonstrates the full modeling process using Prophet, including customization of seasonalities and holidays."
   ]
  },
  {
   "cell_type": "markdown",
   "id": "0cab6d5e",
   "metadata": {},
   "source": [
    "### Import required libraries"
   ]
  },
  {
   "cell_type": "code",
   "execution_count": null,
   "id": "09ed131d-5df4-48d9-acaa-837de7097357",
   "metadata": {},
   "outputs": [],
   "source": [
    "import pandas as pd\n",
    "from prophet import Prophet\n",
    "import matplotlib.pyplot as plt\n",
    "from sklearn.metrics import mean_absolute_error, mean_squared_error, mean_absolute_percentage_error\n",
    "import numpy as np\n",
    "import seaborn as sns\n",
    "from prophet.diagnostics import cross_validation, performance_metrics\n",
    "import itertools\n",
    "import json"
   ]
  },
  {
   "cell_type": "code",
   "execution_count": null,
   "id": "3277b504",
   "metadata": {},
   "outputs": [],
   "source": [
    "import sys\n",
    "sys.path.append(\"../src/\")\n",
    "from preprocess_raw_parquet import preprocess_raw_parquet\n",
    "from prophet_utils import model_optimization,create_model_new,create_model_new_holiday,mae_with_std_and_shape_penalty,get_result_new,evaluate_model,evaluate_model_external,evaluate_best_model\n",
    "from plot_series import plot_series"
   ]
  },
  {
   "cell_type": "markdown",
   "id": "03bc1477",
   "metadata": {},
   "source": [
    "### Load data\n",
    "\n",
    "We begin with loading the preprocessed dataset specifically prepared for Prophet models."
   ]
  },
  {
   "cell_type": "code",
   "execution_count": null,
   "id": "e0f0e9e5",
   "metadata": {},
   "outputs": [],
   "source": [
    "df_new = preprocess_raw_parquet(\"../data/raw/mar_5_may_12.parquet\")\n",
    "df_new.dropna(inplace = True)\n",
    "df_new.head()"
   ]
  },
  {
   "cell_type": "markdown",
   "id": "5342d259",
   "metadata": {},
   "source": [
    "### Split train and test data\n",
    "Recommanded fastest fee rate is our target. Here we choose the last 24-hour data as the test data and the others as training data. Because of spikes in the last day, we remove the last 24-hour from the dataset."
   ]
  },
  {
   "cell_type": "code",
   "execution_count": null,
   "id": "90da073a",
   "metadata": {},
   "outputs": [],
   "source": [
    "df_new = df_new.iloc[:-96]\n",
    "y_new = df_new[\"recommended_fee_fastestFee\"]\n",
    "X_new = df_new.drop(columns = \"recommended_fee_fastestFee\")\n",
    "X_new = X_new.reset_index()\n",
    "X_new = X_new.drop(columns = \"timestamp\")\n",
    "\n",
    "# last 24h as test\n",
    "split_index = len(X_new) - 96\n",
    "\n",
    "X_train_new, X_test_new = X_new.iloc[:split_index], X_new.iloc[split_index:]\n",
    "y_train_new, y_test_new = y_new.iloc[:split_index], y_new.iloc[split_index:]\n"
   ]
  },
  {
   "cell_type": "markdown",
   "id": "901bd004",
   "metadata": {},
   "source": [
    "The input to Prophet is always a dataframe with two columns: ds and y. The ds (datestamp) column should be of a format expected by Pandas, ideally YYYY-MM-DD for a date or YYYY-MM-DD HH:MM:SS for a timestamp. The y column must be numeric, and represents the measurement we wish to forecast."
   ]
  },
  {
   "cell_type": "code",
   "execution_count": null,
   "id": "675c2b9d",
   "metadata": {},
   "outputs": [],
   "source": [
    "df_prophet_new = y_train_new.reset_index()\n",
    "df_prophet_new = df_prophet_new.rename(columns={\n",
    "    'timestamp': 'ds',\n",
    "    'recommended_fee_fastestFee': 'y'\n",
    "})\n",
    "df_prophet_new['y'] = np.log1p(df_prophet_new['y'])\n",
    "df_prophet_new.head()"
   ]
  },
  {
   "cell_type": "markdown",
   "id": "3c490b51",
   "metadata": {},
   "source": [
    "### Optimization - Find the best params"
   ]
  },
  {
   "cell_type": "markdown",
   "id": "ea982b7b",
   "metadata": {},
   "source": [
    "We choose GridSearch to optimize the model. Here are the ranges of parameters.\n",
    "\n",
    "changepoint_prior_scale controls the model’s flexibility to adapt to changes in trend. A smaller value makes the trend smoother (less sensitive to abrupt changes), while a larger value allows more flexibility.\n",
    "\n",
    "seasonality_prior_scale adjusts the strength of the seasonal components. Higher values allow more complex seasonal patterns, which is useful if the data shows strong seasonality.\n",
    "\n",
    "seasonality_mode can be 'additive' or 'multiplicative', depending on whether seasonal effects are constant or scale with the level of the series. Since fee levels can change dramatically, it's important to compare both.\n",
    "\n",
    "changepoint_range defines the portion of the historical data in which Prophet will look for potential changepoints. We test different values to balance early and recent trend shifts.\n",
    "\n",
    "n_changepoints sets how many potential changepoints the model should consider. More changepoints allow better flexibility but can risk overfitting."
   ]
  },
  {
   "cell_type": "code",
   "execution_count": null,
   "id": "a73cb824",
   "metadata": {},
   "outputs": [],
   "source": [
    "param_grid = {\n",
    "    'changepoint_prior_scale': [0.01, 0.1, 0.3, 0.5],\n",
    "    'seasonality_prior_scale': [5.0, 10.0, 20.0],\n",
    "    'seasonality_mode': ['additive', 'multiplicative'],\n",
    "    'changepoint_range': [0.8, 0.9, 0.95],\n",
    "    'n_changepoints': [25, 50, 100]\n",
    "}\n",
    "all_params = [dict(zip(param_grid.keys(), v)) for v in itertools.product(*param_grid.values())]"
   ]
  },
  {
   "cell_type": "markdown",
   "id": "0a77bc8e",
   "metadata": {},
   "source": [
    "Our base Prophet model is constructed with:\n",
    "\n",
    "- No automatic daily or weekly seasonality, because we explicitly add customized seasonality components based on domain knowledge.\n",
    "\n",
    "- A custom hourly seasonality (period=1/24) to capture intraday fee fluctuations, which are prominent in high-frequency transaction data.\n",
    "\n",
    "- A daily seasonality to model repeated daily behavior (e.g., daytime congestion).\n",
    "\n",
    "- A weekly seasonality to reflect usage patterns across different days of the week.\n",
    "\n",
    "This structured setup allows fine control over periodic patterns, avoids overfitting from default assumptions, and better reflects the temporal structure of transaction fee data at 15-minute intervals."
   ]
  },
  {
   "cell_type": "code",
   "execution_count": null,
   "id": "0e2d3892",
   "metadata": {},
   "outputs": [],
   "source": [
    "# results = model_optimization(df_prophet_new, all_params)"
   ]
  },
  {
   "cell_type": "markdown",
   "id": "7f9a5236",
   "metadata": {},
   "source": [
    "The best hyperparameter is changepoint_prior_scale: 0.01, seasonality_prior_scale: 10.0, seasonality_mode: multiplicative, changepoint_range: 0.9, n_changepoints: 25. "
   ]
  },
  {
   "cell_type": "code",
   "execution_count": null,
   "id": "5097b0df",
   "metadata": {},
   "outputs": [],
   "source": [
    "# best_params = sorted(results, key=lambda x: x[1])[0]\n",
    "# with open(\"saved_models/prophet.json\", \"w\") as f:\n",
    "#     json.dump(best_params[0], f, indent=4)\n",
    "# print(f\"Best params：{best_params[0]}\\nRMSE：{best_params[1]:.4f}\")"
   ]
  },
  {
   "cell_type": "markdown",
   "id": "ec80dfd4",
   "metadata": {},
   "source": [
    "### Forecasting and evaluation "
   ]
  },
  {
   "cell_type": "markdown",
   "id": "9c12cde5",
   "metadata": {},
   "source": [
    "We use the best parameters to build a new model. Then we fit the train data and make predictions. "
   ]
  },
  {
   "cell_type": "code",
   "execution_count": null,
   "id": "534c6789",
   "metadata": {},
   "outputs": [],
   "source": [
    "model = create_model_new()\n",
    "model.fit(df_prophet_new)\n",
    "future = model.make_future_dataframe(periods=96, freq='15min')\n",
    "forecast = model.predict(future)\n",
    "# model.plot_components(forecast)"
   ]
  },
  {
   "cell_type": "markdown",
   "id": "e20508fa",
   "metadata": {},
   "source": [
    "We get the results, calculate the metrics and compare the results with actual data. "
   ]
  },
  {
   "cell_type": "code",
   "execution_count": null,
   "id": "41b27b01",
   "metadata": {},
   "outputs": [],
   "source": [
    "get_result_new(forecast,y_test_new,y_new)"
   ]
  },
  {
   "cell_type": "markdown",
   "id": "a619b68f",
   "metadata": {},
   "source": [
    "To better evaluate the model, since the dataset contains 10-week data, we split the dataset into 10 different datasets. Each of the new datasets contain 1-week data. We create 10 new models to seperately fit the datasets, and calculate every set of metrics and the average ones. "
   ]
  },
  {
   "cell_type": "code",
   "execution_count": null,
   "id": "caf25944",
   "metadata": {},
   "outputs": [],
   "source": [
    "metrics_per_week, avg_metrics = evaluate_model(df_new)\n",
    "print(\"\\nAverage metrics over all weeks:\")\n",
    "for k, v in avg_metrics.items():\n",
    "    print(f\"{k}: {v:.4f}\")"
   ]
  },
  {
   "cell_type": "markdown",
   "id": "a93dce3e",
   "metadata": {},
   "source": [
    "## Add external features"
   ]
  },
  {
   "cell_type": "markdown",
   "id": "856aea21",
   "metadata": {},
   "source": [
    "The prophet model also supports exogenous features, so we try to add the features. Here we shift the entire feature forward by 24 hours. It is like using features from time t to predict the target at time t+24hours. "
   ]
  },
  {
   "cell_type": "code",
   "execution_count": null,
   "id": "a9c1785f",
   "metadata": {},
   "outputs": [],
   "source": [
    "metrics_per_week, avg_metrics = evaluate_model_external(df_new)\n",
    "print(\"\\nAverage metrics over all weeks:\")\n",
    "for k, v in avg_metrics.items():\n",
    "    print(f\"{k}: {v:.4f}\")"
   ]
  },
  {
   "cell_type": "markdown",
   "id": "86bff3ee",
   "metadata": {},
   "source": [
    "The performance is far from good. Because Prophet is not a lag-aware or sequence-based model. "
   ]
  },
  {
   "cell_type": "markdown",
   "id": "9e1807a3",
   "metadata": {},
   "source": [
    "## Set holidays"
   ]
  },
  {
   "cell_type": "markdown",
   "id": "7cf46de2",
   "metadata": {},
   "source": [
    "Prophet also supports manually setting holiday parameters. In this case, we found the best choice was to define holidays as the timestamps corresponding to the top 10% of the values. The log-transformed values increased by 25% percent in holidays compared to the baseline trend. "
   ]
  },
  {
   "cell_type": "code",
   "execution_count": null,
   "id": "2c3d6d6c",
   "metadata": {},
   "outputs": [],
   "source": [
    "model_holiday = create_model_new_holiday(y_train_new)\n",
    "model_holiday.fit(df_prophet_new)\n",
    "future = model_holiday.make_future_dataframe(periods=96, freq='15min')\n",
    "forecast = model_holiday.predict(future)\n",
    "# model_holiday.plot_components(forecast)"
   ]
  },
  {
   "cell_type": "code",
   "execution_count": null,
   "id": "02034d7f",
   "metadata": {},
   "outputs": [],
   "source": [
    "get_result_new(forecast,y_test_new,y_new)"
   ]
  },
  {
   "cell_type": "code",
   "execution_count": null,
   "id": "f9e77e75",
   "metadata": {},
   "outputs": [],
   "source": [
    "metrics_per_week, avg_metrics = evaluate_model(df_new,holiday = 1)\n",
    "print(\"\\nAverage metrics over all weeks:\")\n",
    "for k, v in avg_metrics.items():\n",
    "    print(f\"{k}: {v:.4f}\")"
   ]
  },
  {
   "cell_type": "markdown",
   "id": "bf44dd55",
   "metadata": {},
   "source": [
    "## The best model\n",
    "\n",
    "Based on the results, model with manual set holiday parameters performs the best. Then we would use the model to train the whole data."
   ]
  },
  {
   "cell_type": "code",
   "execution_count": null,
   "id": "a2fd9b17",
   "metadata": {},
   "outputs": [],
   "source": [
    "evaluate_best_model(df_new)\n"
   ]
  },
  {
   "cell_type": "markdown",
   "id": "15771ed2",
   "metadata": {},
   "source": [
    "## Conclusion\n",
    "\n",
    "The performance is not as good as baseline. We should try other advanced models."
   ]
  }
 ],
 "metadata": {
  "kernelspec": {
   "display_name": "base",
   "language": "python",
   "name": "python3"
  },
  "language_info": {
   "codemirror_mode": {
    "name": "ipython",
    "version": 3
   },
   "file_extension": ".py",
   "mimetype": "text/x-python",
   "name": "python",
   "nbconvert_exporter": "python",
   "pygments_lexer": "ipython3",
   "version": "3.12.7"
  }
 },
 "nbformat": 4,
 "nbformat_minor": 5
}
